{
 "cells": [
  {
   "cell_type": "markdown",
   "metadata": {
    "colab_type": "text",
    "id": "view-in-github"
   },
   "source": [
    "<a href=\"https://colab.research.google.com/github/meyresearch/ANI-Peptides/blob/main/demos/AMBER_equilibration.ipynb\" target=\"_parent\"><img src=\"https://colab.research.google.com/assets/colab-badge.svg\" alt=\"Open In Colab\"/></a>"
   ]
  },
  {
   "cell_type": "markdown",
   "metadata": {
    "id": "UsvmNVNmavgm"
   },
   "source": [
    "# Runtime Environment Setup"
   ]
  },
  {
   "cell_type": "markdown",
   "metadata": {
    "id": "hiQev3LkiW51"
   },
   "source": [
    "Before you start, ensure you have been allocated a GPU runtime. Go to `Runtime -> Change runtime type -> GPU`"
   ]
  },
  {
   "cell_type": "markdown",
   "metadata": {
    "id": "Obanx6qoAgo8"
   },
   "source": [
    "Allow kernel to restart after running this cell."
   ]
  },
  {
   "cell_type": "code",
   "execution_count": 1,
   "metadata": {
    "colab": {
     "base_uri": "https://localhost:8080/"
    },
    "id": "VFkcgvtbaut8",
    "outputId": "fcc9436b-c7c3-4583-f4ee-4b357b5df5ee"
   },
   "outputs": [],
   "source": [
    "# !pip install -q condacolab\n",
    "# import condacolab\n",
    "# condacolab.install()"
   ]
  },
  {
   "cell_type": "markdown",
   "metadata": {
    "id": "RiYgOUeTA0tR"
   },
   "source": [
    "Ensure good conda/mamba installation"
   ]
  },
  {
   "cell_type": "code",
   "execution_count": 2,
   "metadata": {
    "colab": {
     "base_uri": "https://localhost:8080/"
    },
    "id": "hNCmMpshAzhn",
    "outputId": "6ad8cd88-54e5-457b-fca6-d69b82f51a9c"
   },
   "outputs": [],
   "source": [
    "# import condacolab\n",
    "# condacolab.check()"
   ]
  },
  {
   "cell_type": "markdown",
   "metadata": {
    "id": "3VWZhONKbMIx"
   },
   "source": [
    "Install Dependencies\n",
    "\n",
    "\n",
    "\n",
    "*   *OpenMM* - Molecular dynamics simulation\n",
    "*   *NGLView, PyTraj* - Viewing libraries\n",
    "\n"
   ]
  },
  {
   "cell_type": "markdown",
   "metadata": {
    "id": "pX6ARn5sMsJh"
   },
   "source": [
    "Test OpenMM"
   ]
  },
  {
   "cell_type": "code",
   "execution_count": 3,
   "metadata": {
    "colab": {
     "base_uri": "https://localhost:8080/"
    },
    "id": "Jq57Nf3bhlzv",
    "outputId": "d66918dc-77a4-4e08-891e-557276945c49"
   },
   "outputs": [
    {
     "name": "stdout",
     "output_type": "stream",
     "text": [
      "\n",
      "OpenMM Version: 7.6\n",
      "Git Revision: ad113a0cb37991a2de67a08026cf3b91616bafbe\n",
      "\n",
      "There are 3 Platforms available:\n",
      "\n",
      "1 Reference - Successfully computed forces\n",
      "2 CPU - Successfully computed forces\n",
      "3 OpenCL - Successfully computed forces\n",
      "\n",
      "Median difference in forces between platforms:\n",
      "\n",
      "Reference vs. CPU: 6.31912e-06\n",
      "Reference vs. OpenCL: 6.74163e-06\n",
      "CPU vs. OpenCL: 7.27503e-07\n",
      "\n",
      "All differences are within tolerance.\n"
     ]
    }
   ],
   "source": [
    "!python -m openmm.testInstallation"
   ]
  },
  {
   "cell_type": "markdown",
   "metadata": {
    "id": "lZZgEciFhYHz"
   },
   "source": [
    "Fetch sample peptide"
   ]
  },
  {
   "cell_type": "code",
   "execution_count": 4,
   "metadata": {
    "id": "gGeSIWlXhJfH"
   },
   "outputs": [],
   "source": [
    "# !wget -q https://github.com/meyresearch/ANI-Peptides/raw/main/demos/aaa.pdb"
   ]
  },
  {
   "cell_type": "markdown",
   "metadata": {
    "id": "PYGwUEcwjZYC"
   },
   "source": [
    "# AMBER Simulation"
   ]
  },
  {
   "cell_type": "code",
   "execution_count": 16,
   "metadata": {
    "id": "PtLiP1fxjibi"
   },
   "outputs": [],
   "source": [
    "# Import libraries\n",
    "\n",
    "from openmm.app import *\n",
    "from openmm import *\n",
    "from openmm.unit import *\n",
    "import time\n",
    "import pandas as pd\n",
    "import seaborn as sns \n",
    "import matplotlib.pyplot as plt"
   ]
  },
  {
   "cell_type": "code",
   "execution_count": 6,
   "metadata": {
    "id": "X17K3DrnHrbd"
   },
   "outputs": [],
   "source": [
    "# Progress bar for simulations\n",
    "\n",
    "from IPython.display import ProgressBar\n",
    "\n",
    "class ProgressBarWriter(ProgressBar):\n",
    "    def write(self, string):\n",
    "        if string.startswith(\"#\"):\n",
    "            self.progress = 0\n",
    "        else:\n",
    "            string = string.strip(',\\n')\n",
    "            try:\n",
    "                self.progress = int(string)\n",
    "            except ValueError:\n",
    "                pass\n",
    "\n",
    "def ProgressBarReporter(steps, interval):\n",
    "    return StateDataReporter(\n",
    "        ProgressBarWriter(total = steps), \n",
    "        interval, \n",
    "        step = True,\n",
    "        totalSteps = steps,\n",
    "    )"
   ]
  },
  {
   "cell_type": "code",
   "execution_count": 14,
   "metadata": {
    "id": "Ouh_n4BNS057"
   },
   "outputs": [],
   "source": [
    "# Equilibration function - Constant pressure & temp\n",
    "\n",
    "def equilibrate(\n",
    "    coords: Topology,\n",
    "    forcefield: ForceField,\n",
    "    final_pressure: Quantity = 1*atmosphere,\n",
    "    temp_range: range = range(0, 300, 25),\n",
    "    output_state_data_filename = \"equilibration_state_data.csv\",\n",
    "    friction_coeff: Quantity = 1/femtosecond,\n",
    "    step_size: Quantity = 4*femtoseconds,\n",
    "    time_per_temp_increment: Quantity = 0.005*nanoseconds,\n",
    "    time_final_stage: Quantity = 0.05*nanoseconds,\n",
    "):\n",
    "    print(\"Initialising equilibration run...\")\n",
    "    # adjust the range to include the highest temp (stop value)\n",
    "    inclusive_temp_range = range(\n",
    "        temp_range.start,\n",
    "        temp_range.stop + temp_range.step,\n",
    "        temp_range.step\n",
    "    )\n",
    "    temperatures = Quantity(inclusive_temp_range, kelvin)\n",
    "    steps_per_temp_increment = int(time_per_temp_increment / step_size)\n",
    "    steps_final_stage = int(time_final_stage / step_size)\n",
    "\n",
    "    # Create system\n",
    "    system = forcefield.createSystem(\n",
    "        coords.topology, \n",
    "        nonbondedMethod=PME,\n",
    "        nonbondedCutoff=1*nanometer,\n",
    "        constraints=AllBonds,\n",
    "        hydrogenMass=4*amu,\n",
    "    )\n",
    "    # Create constant temp integrator\n",
    "    integrator = LangevinIntegrator(\n",
    "        temperatures.min(),\n",
    "        friction_coeff,\n",
    "        step_size\n",
    "    )\n",
    "    # Create simulation and set initial positions\n",
    "    simulation = Simulation(\n",
    "        coords.topology,\n",
    "        system,\n",
    "        integrator\n",
    "    )\n",
    "    simulation.context.setPositions(coords.positions)\n",
    "    # simulation.reporters.append(\n",
    "    #     PlotReporter(range(\n",
    "    #         0, \n",
    "    #         steps_per_temp_increment + steps_per_temp_increment//10, \n",
    "    #         steps_per_temp_increment//10)\n",
    "    #     )\n",
    "    # )\n",
    "    state_reporter = StateDataReporter(\n",
    "        output_state_data_filename,\n",
    "        steps_per_temp_increment//10,\n",
    "        temperature = True,\n",
    "        potentialEnergy = True,\n",
    "    )\n",
    "    simulation.reporters.append(state_reporter)\n",
    "\n",
    "    # Local energy minimisation\n",
    "    print(\"Local energy minimisation...\")\n",
    "    simulation.minimizeEnergy()\n",
    "    # Heating to final temp\n",
    "    print(f\"Equilibrating {temperatures.min()} to {temperatures.max()} in {len(temperatures)} stages, {time_per_temp_increment} per stage\")\n",
    "    progress_bar = ProgressBar(len(temperatures))\n",
    "    progress_bar.progress = 0\n",
    "    for stage, temperature in enumerate(temperatures):\n",
    "        print(f\"Heating stage {stage+1}/{len(temperatures)} at {temperature}\")\n",
    "        integrator.setTemperature(temperature)\n",
    "        simulation.step(steps_per_temp_increment)\n",
    "        progress_bar.progress += 1\n",
    "    # Final equilibration, constant pressure \n",
    "    print(f\"Final equilibration at {final_pressure} for {time_final_stage}\")\n",
    "    barostat = MonteCarloBarostat(\n",
    "        final_pressure,\n",
    "        temperatures.max()\n",
    "    )\n",
    "    system.addForce(barostat)\n",
    "    simulation.step(steps_final_stage)\n",
    "    print(\"Done\")\n",
    "    return simulation"
   ]
  },
  {
   "cell_type": "code",
   "execution_count": 49,
   "metadata": {
    "colab": {
     "base_uri": "https://localhost:8080/",
     "height": 416
    },
    "id": "NN_Xk08nGbD_",
    "outputId": "54e14aeb-cd27-474a-f8fb-384933cb435c"
   },
   "outputs": [
    {
     "ename": "ValueError",
     "evalue": "No template found for residue 5 (VAL).  The set of atoms is similar to NGLN, but it is missing 1 atoms.",
     "output_type": "error",
     "traceback": [
      "\u001b[0;31m---------------------------------------------------------------------------\u001b[0m",
      "\u001b[0;31mValueError\u001b[0m                                Traceback (most recent call last)",
      "\u001b[0;32m/var/folders/b1/0b53wj0509376104__2tttb00000gn/T/ipykernel_25486/1304904062.py\u001b[0m in \u001b[0;36m<module>\u001b[0;34m\u001b[0m\n\u001b[1;32m     11\u001b[0m \u001b[0mmodeller\u001b[0m \u001b[0;34m=\u001b[0m \u001b[0mModeller\u001b[0m\u001b[0;34m(\u001b[0m\u001b[0mpdb\u001b[0m\u001b[0;34m.\u001b[0m\u001b[0mtopology\u001b[0m\u001b[0;34m,\u001b[0m \u001b[0mpdb\u001b[0m\u001b[0;34m.\u001b[0m\u001b[0mpositions\u001b[0m\u001b[0;34m)\u001b[0m\u001b[0;34m\u001b[0m\u001b[0;34m\u001b[0m\u001b[0m\n\u001b[1;32m     12\u001b[0m \u001b[0;34m\u001b[0m\u001b[0m\n\u001b[0;32m---> 13\u001b[0;31m \u001b[0mmodeller\u001b[0m\u001b[0;34m.\u001b[0m\u001b[0maddHydrogens\u001b[0m\u001b[0;34m(\u001b[0m\u001b[0mforcefield\u001b[0m\u001b[0;34m)\u001b[0m\u001b[0;34m\u001b[0m\u001b[0;34m\u001b[0m\u001b[0m\n\u001b[0m\u001b[1;32m     14\u001b[0m \u001b[0mmodeller\u001b[0m\u001b[0;34m.\u001b[0m\u001b[0maddSolvent\u001b[0m\u001b[0;34m(\u001b[0m\u001b[0mforcefield\u001b[0m\u001b[0;34m,\u001b[0m \u001b[0mmodel\u001b[0m\u001b[0;34m=\u001b[0m\u001b[0;34m'tip3p'\u001b[0m\u001b[0;34m,\u001b[0m \u001b[0mpadding\u001b[0m\u001b[0;34m=\u001b[0m\u001b[0;36m1\u001b[0m\u001b[0;34m*\u001b[0m\u001b[0mnanometer\u001b[0m\u001b[0;34m,\u001b[0m \u001b[0mneutralize\u001b[0m\u001b[0;34m=\u001b[0m\u001b[0;32mFalse\u001b[0m\u001b[0;34m)\u001b[0m\u001b[0;34m\u001b[0m\u001b[0;34m\u001b[0m\u001b[0m\n\u001b[1;32m     15\u001b[0m \u001b[0;34m\u001b[0m\u001b[0m\n",
      "\u001b[0;32m~/opt/miniconda3/envs/anipeptide/lib/python3.8/site-packages/openmm/app/modeller.py\u001b[0m in \u001b[0;36maddHydrogens\u001b[0;34m(self, forcefield, pH, variants, platform)\u001b[0m\n\u001b[1;32m    944\u001b[0m             \u001b[0;31m# Use the ForceField the user specified.\u001b[0m\u001b[0;34m\u001b[0m\u001b[0;34m\u001b[0m\u001b[0;34m\u001b[0m\u001b[0m\n\u001b[1;32m    945\u001b[0m \u001b[0;34m\u001b[0m\u001b[0m\n\u001b[0;32m--> 946\u001b[0;31m             \u001b[0msystem\u001b[0m \u001b[0;34m=\u001b[0m \u001b[0mforcefield\u001b[0m\u001b[0;34m.\u001b[0m\u001b[0mcreateSystem\u001b[0m\u001b[0;34m(\u001b[0m\u001b[0mnewTopology\u001b[0m\u001b[0;34m,\u001b[0m \u001b[0mrigidWater\u001b[0m\u001b[0;34m=\u001b[0m\u001b[0;32mFalse\u001b[0m\u001b[0;34m,\u001b[0m \u001b[0mnonbondedMethod\u001b[0m\u001b[0;34m=\u001b[0m\u001b[0mCutoffNonPeriodic\u001b[0m\u001b[0;34m)\u001b[0m\u001b[0;34m\u001b[0m\u001b[0;34m\u001b[0m\u001b[0m\n\u001b[0m\u001b[1;32m    947\u001b[0m             \u001b[0matoms\u001b[0m \u001b[0;34m=\u001b[0m \u001b[0mlist\u001b[0m\u001b[0;34m(\u001b[0m\u001b[0mnewTopology\u001b[0m\u001b[0;34m.\u001b[0m\u001b[0matoms\u001b[0m\u001b[0;34m(\u001b[0m\u001b[0;34m)\u001b[0m\u001b[0;34m)\u001b[0m\u001b[0;34m\u001b[0m\u001b[0;34m\u001b[0m\u001b[0m\n\u001b[1;32m    948\u001b[0m             \u001b[0;32mfor\u001b[0m \u001b[0mi\u001b[0m \u001b[0;32min\u001b[0m \u001b[0mrange\u001b[0m\u001b[0;34m(\u001b[0m\u001b[0msystem\u001b[0m\u001b[0;34m.\u001b[0m\u001b[0mgetNumParticles\u001b[0m\u001b[0;34m(\u001b[0m\u001b[0;34m)\u001b[0m\u001b[0;34m)\u001b[0m\u001b[0;34m:\u001b[0m\u001b[0;34m\u001b[0m\u001b[0;34m\u001b[0m\u001b[0m\n",
      "\u001b[0;32m~/opt/miniconda3/envs/anipeptide/lib/python3.8/site-packages/openmm/app/forcefield.py\u001b[0m in \u001b[0;36mcreateSystem\u001b[0;34m(self, topology, nonbondedMethod, nonbondedCutoff, constraints, rigidWater, removeCMMotion, hydrogenMass, residueTemplates, ignoreExternalBonds, switchDistance, flexibleConstraints, drudeMass, **args)\u001b[0m\n\u001b[1;32m   1204\u001b[0m         \u001b[0;31m# Find the template matching each residue and assign atom types.\u001b[0m\u001b[0;34m\u001b[0m\u001b[0;34m\u001b[0m\u001b[0;34m\u001b[0m\u001b[0m\n\u001b[1;32m   1205\u001b[0m \u001b[0;34m\u001b[0m\u001b[0m\n\u001b[0;32m-> 1206\u001b[0;31m         \u001b[0mtemplateForResidue\u001b[0m \u001b[0;34m=\u001b[0m \u001b[0mself\u001b[0m\u001b[0;34m.\u001b[0m\u001b[0m_matchAllResiduesToTemplates\u001b[0m\u001b[0;34m(\u001b[0m\u001b[0mdata\u001b[0m\u001b[0;34m,\u001b[0m \u001b[0mtopology\u001b[0m\u001b[0;34m,\u001b[0m \u001b[0mresidueTemplates\u001b[0m\u001b[0;34m,\u001b[0m \u001b[0mignoreExternalBonds\u001b[0m\u001b[0;34m)\u001b[0m\u001b[0;34m\u001b[0m\u001b[0;34m\u001b[0m\u001b[0m\n\u001b[0m\u001b[1;32m   1207\u001b[0m         \u001b[0;32mfor\u001b[0m \u001b[0mres\u001b[0m \u001b[0;32min\u001b[0m \u001b[0mtopology\u001b[0m\u001b[0;34m.\u001b[0m\u001b[0mresidues\u001b[0m\u001b[0;34m(\u001b[0m\u001b[0;34m)\u001b[0m\u001b[0;34m:\u001b[0m\u001b[0;34m\u001b[0m\u001b[0;34m\u001b[0m\u001b[0m\n\u001b[1;32m   1208\u001b[0m             \u001b[0;32mif\u001b[0m \u001b[0mres\u001b[0m\u001b[0;34m.\u001b[0m\u001b[0mname\u001b[0m \u001b[0;34m==\u001b[0m \u001b[0;34m'HOH'\u001b[0m\u001b[0;34m:\u001b[0m\u001b[0;34m\u001b[0m\u001b[0;34m\u001b[0m\u001b[0m\n",
      "\u001b[0;32m~/opt/miniconda3/envs/anipeptide/lib/python3.8/site-packages/openmm/app/forcefield.py\u001b[0m in \u001b[0;36m_matchAllResiduesToTemplates\u001b[0;34m(self, data, topology, residueTemplates, ignoreExternalBonds, ignoreExtraParticles, recordParameters)\u001b[0m\n\u001b[1;32m   1418\u001b[0m                             \u001b[0;32mbreak\u001b[0m\u001b[0;34m\u001b[0m\u001b[0;34m\u001b[0m\u001b[0m\n\u001b[1;32m   1419\u001b[0m             \u001b[0;32mif\u001b[0m \u001b[0mmatches\u001b[0m \u001b[0;32mis\u001b[0m \u001b[0;32mNone\u001b[0m\u001b[0;34m:\u001b[0m\u001b[0;34m\u001b[0m\u001b[0;34m\u001b[0m\u001b[0m\n\u001b[0;32m-> 1420\u001b[0;31m                 \u001b[0;32mraise\u001b[0m \u001b[0mValueError\u001b[0m\u001b[0;34m(\u001b[0m\u001b[0;34m'No template found for residue %d (%s).  %s'\u001b[0m \u001b[0;34m%\u001b[0m \u001b[0;34m(\u001b[0m\u001b[0mres\u001b[0m\u001b[0;34m.\u001b[0m\u001b[0mindex\u001b[0m\u001b[0;34m+\u001b[0m\u001b[0;36m1\u001b[0m\u001b[0;34m,\u001b[0m \u001b[0mres\u001b[0m\u001b[0;34m.\u001b[0m\u001b[0mname\u001b[0m\u001b[0;34m,\u001b[0m \u001b[0m_findMatchErrors\u001b[0m\u001b[0;34m(\u001b[0m\u001b[0mself\u001b[0m\u001b[0;34m,\u001b[0m \u001b[0mres\u001b[0m\u001b[0;34m)\u001b[0m\u001b[0;34m)\u001b[0m\u001b[0;34m)\u001b[0m\u001b[0;34m\u001b[0m\u001b[0;34m\u001b[0m\u001b[0m\n\u001b[0m\u001b[1;32m   1421\u001b[0m             \u001b[0;32melse\u001b[0m\u001b[0;34m:\u001b[0m\u001b[0;34m\u001b[0m\u001b[0;34m\u001b[0m\u001b[0m\n\u001b[1;32m   1422\u001b[0m                 \u001b[0;32mif\u001b[0m \u001b[0mrecordParameters\u001b[0m\u001b[0;34m:\u001b[0m\u001b[0;34m\u001b[0m\u001b[0;34m\u001b[0m\u001b[0m\n",
      "\u001b[0;31mValueError\u001b[0m: No template found for residue 5 (VAL).  The set of atoms is similar to NGLN, but it is missing 1 atoms."
     ]
    }
   ],
   "source": [
    "# Load sample peptide\n",
    "pdb = PDBFile('ypgdv.pdb')\n",
    "\n",
    "# Create AMBER forcefield\n",
    "forcefield = ForceField(\n",
    "    'amber14-all.xml',\n",
    "    'amber14/tip3p.xml'\n",
    ")\n",
    "\n",
    "# Load pdb into modeller and add solvent\n",
    "modeller = Modeller(pdb.topology, pdb.positions)\n",
    "\n",
    "modeller.addHydrogens(forcefield)\n",
    "modeller.addSolvent(forcefield, model='tip3p', padding=1*nanometer, neutralize=False)\n",
    "\n",
    "simulation = equilibrate(\n",
    "    modeller,\n",
    "    forcefield,\n",
    "    temp_range = range(0, 300, 20),\n",
    "    time_per_temp_increment = 0.001 * nanoseconds,\n",
    "    time_final_stage = 0.05 * nanoseconds\n",
    ")"
   ]
  },
  {
   "cell_type": "code",
   "execution_count": 20,
   "metadata": {},
   "outputs": [
    {
     "data": {
      "text/html": [
       "<div>\n",
       "<style scoped>\n",
       "    .dataframe tbody tr th:only-of-type {\n",
       "        vertical-align: middle;\n",
       "    }\n",
       "\n",
       "    .dataframe tbody tr th {\n",
       "        vertical-align: top;\n",
       "    }\n",
       "\n",
       "    .dataframe thead th {\n",
       "        text-align: right;\n",
       "    }\n",
       "</style>\n",
       "<table border=\"1\" class=\"dataframe\">\n",
       "  <thead>\n",
       "    <tr style=\"text-align: right;\">\n",
       "      <th></th>\n",
       "      <th>#\"Potential Energy (kJ/mole)\"</th>\n",
       "      <th>Temperature (K)</th>\n",
       "    </tr>\n",
       "  </thead>\n",
       "  <tbody>\n",
       "    <tr>\n",
       "      <th>0</th>\n",
       "      <td>-49462.269265</td>\n",
       "      <td>0.001331</td>\n",
       "    </tr>\n",
       "    <tr>\n",
       "      <th>1</th>\n",
       "      <td>-49462.675515</td>\n",
       "      <td>0.000906</td>\n",
       "    </tr>\n",
       "    <tr>\n",
       "      <th>2</th>\n",
       "      <td>-49462.941140</td>\n",
       "      <td>0.000780</td>\n",
       "    </tr>\n",
       "    <tr>\n",
       "      <th>3</th>\n",
       "      <td>-49463.081765</td>\n",
       "      <td>0.000717</td>\n",
       "    </tr>\n",
       "    <tr>\n",
       "      <th>4</th>\n",
       "      <td>-49463.363015</td>\n",
       "      <td>0.000679</td>\n",
       "    </tr>\n",
       "  </tbody>\n",
       "</table>\n",
       "</div>"
      ],
      "text/plain": [
       "   #\"Potential Energy (kJ/mole)\"  Temperature (K)\n",
       "0                  -49462.269265         0.001331\n",
       "1                  -49462.675515         0.000906\n",
       "2                  -49462.941140         0.000780\n",
       "3                  -49463.081765         0.000717\n",
       "4                  -49463.363015         0.000679"
      ]
     },
     "execution_count": 20,
     "metadata": {},
     "output_type": "execute_result"
    }
   ],
   "source": [
    "report = pd.read_csv('equilibration_state_data.csv')\n",
    "report.head()"
   ]
  },
  {
   "cell_type": "code",
   "execution_count": 21,
   "metadata": {},
   "outputs": [
    {
     "data": {
      "text/html": [
       "<div>\n",
       "<style scoped>\n",
       "    .dataframe tbody tr th:only-of-type {\n",
       "        vertical-align: middle;\n",
       "    }\n",
       "\n",
       "    .dataframe tbody tr th {\n",
       "        vertical-align: top;\n",
       "    }\n",
       "\n",
       "    .dataframe thead th {\n",
       "        text-align: right;\n",
       "    }\n",
       "</style>\n",
       "<table border=\"1\" class=\"dataframe\">\n",
       "  <thead>\n",
       "    <tr style=\"text-align: right;\">\n",
       "      <th></th>\n",
       "      <th>variable</th>\n",
       "      <th>value</th>\n",
       "    </tr>\n",
       "  </thead>\n",
       "  <tbody>\n",
       "    <tr>\n",
       "      <th>0</th>\n",
       "      <td>#\"Potential Energy (kJ/mole)\"</td>\n",
       "      <td>-49462.269265</td>\n",
       "    </tr>\n",
       "    <tr>\n",
       "      <th>1</th>\n",
       "      <td>#\"Potential Energy (kJ/mole)\"</td>\n",
       "      <td>-49462.675515</td>\n",
       "    </tr>\n",
       "    <tr>\n",
       "      <th>2</th>\n",
       "      <td>#\"Potential Energy (kJ/mole)\"</td>\n",
       "      <td>-49462.941140</td>\n",
       "    </tr>\n",
       "    <tr>\n",
       "      <th>3</th>\n",
       "      <td>#\"Potential Energy (kJ/mole)\"</td>\n",
       "      <td>-49463.081765</td>\n",
       "    </tr>\n",
       "    <tr>\n",
       "      <th>4</th>\n",
       "      <td>#\"Potential Energy (kJ/mole)\"</td>\n",
       "      <td>-49463.363015</td>\n",
       "    </tr>\n",
       "  </tbody>\n",
       "</table>\n",
       "</div>"
      ],
      "text/plain": [
       "                        variable         value\n",
       "0  #\"Potential Energy (kJ/mole)\" -49462.269265\n",
       "1  #\"Potential Energy (kJ/mole)\" -49462.675515\n",
       "2  #\"Potential Energy (kJ/mole)\" -49462.941140\n",
       "3  #\"Potential Energy (kJ/mole)\" -49463.081765\n",
       "4  #\"Potential Energy (kJ/mole)\" -49463.363015"
      ]
     },
     "execution_count": 21,
     "metadata": {},
     "output_type": "execute_result"
    }
   ],
   "source": [
    "report = report.melt()\n",
    "report.head()"
   ]
  },
  {
   "cell_type": "code",
   "execution_count": 30,
   "metadata": {},
   "outputs": [
    {
     "data": {
      "image/png": "[encoded data removed]",
      "text/plain": [
       "<Figure size 216x432 with 2 Axes>"
      ]
     },
     "metadata": {
      "needs_background": "light"
     },
     "output_type": "display_data"
    }
   ],
   "source": [
    "with sns.plotting_context('paper'): \n",
    "    g = sns.FacetGrid(data=report, row='variable', sharey=False )\n",
    "    g.map(plt.plot, 'value')\n",
    "    plt.savefig('equilibration.pdf', bbox_inches='tight')"
   ]
  },
  {
   "cell_type": "code",
   "execution_count": 11,
   "metadata": {
    "colab": {
     "base_uri": "https://localhost:8080/",
     "height": 262
    },
    "id": "MGi-xPslNuWO",
    "outputId": "4595f39b-2025-431e-978f-38c94e9c33c7"
   },
   "outputs": [
    {
     "name": "stdout",
     "output_type": "stream",
     "text": [
      "10\n"
     ]
    },
    {
     "ename": "ValueError",
     "evalue": "invalid literal for int() with base 10: '#Stage 1'",
     "output_type": "error",
     "traceback": [
      "\u001b[0;31m---------------------------------------------------------------------------\u001b[0m",
      "\u001b[0;31mValueError\u001b[0m                                Traceback (most recent call last)",
      "\u001b[0;32m/var/folders/b1/0b53wj0509376104__2tttb00000gn/T/ipykernel_25486/3823399044.py\u001b[0m in \u001b[0;36m<module>\u001b[0;34m\u001b[0m\n\u001b[1;32m     11\u001b[0m     \u001b[0mprint\u001b[0m\u001b[0;34m(\u001b[0m\u001b[0mreports_per_stage\u001b[0m\u001b[0;34m)\u001b[0m\u001b[0;34m\u001b[0m\u001b[0;34m\u001b[0m\u001b[0m\n\u001b[1;32m     12\u001b[0m     \u001b[0mdata\u001b[0m \u001b[0;34m=\u001b[0m \u001b[0mlist\u001b[0m\u001b[0;34m(\u001b[0m\u001b[0mzip\u001b[0m\u001b[0;34m(\u001b[0m\u001b[0;34m*\u001b[0m\u001b[0mplots\u001b[0m\u001b[0;34m)\u001b[0m\u001b[0;34m)\u001b[0m\u001b[0;34m\u001b[0m\u001b[0;34m\u001b[0m\u001b[0m\n\u001b[0;32m---> 13\u001b[0;31m     \u001b[0mdata\u001b[0m\u001b[0;34m[\u001b[0m\u001b[0;36m0\u001b[0m\u001b[0;34m]\u001b[0m \u001b[0;34m=\u001b[0m \u001b[0mtuple\u001b[0m\u001b[0;34m(\u001b[0m\u001b[0mmap\u001b[0m\u001b[0;34m(\u001b[0m\u001b[0mint\u001b[0m\u001b[0;34m,\u001b[0m \u001b[0mdata\u001b[0m\u001b[0;34m[\u001b[0m\u001b[0;36m0\u001b[0m\u001b[0;34m]\u001b[0m\u001b[0;34m)\u001b[0m\u001b[0;34m)\u001b[0m\u001b[0;34m\u001b[0m\u001b[0;34m\u001b[0m\u001b[0m\n\u001b[0m\u001b[1;32m     14\u001b[0m \u001b[0;34m\u001b[0m\u001b[0m\n\u001b[1;32m     15\u001b[0m     \u001b[0mplt\u001b[0m\u001b[0;34m.\u001b[0m\u001b[0mfigure\u001b[0m\u001b[0;34m(\u001b[0m\u001b[0;34m)\u001b[0m\u001b[0;34m\u001b[0m\u001b[0;34m\u001b[0m\u001b[0m\n",
      "\u001b[0;31mValueError\u001b[0m: invalid literal for int() with base 10: '#Stage 1'"
     ]
    }
   ],
   "source": [
    "# Equilibration graph viewer\n",
    "\n",
    "import matplotlib.pyplot as plt\n",
    "import csv\n",
    "\n",
    "with open('equilibration_state_data.csv','r') as csvfile:\n",
    "    plots = csv.reader(csvfile, delimiter = ',')\n",
    "    \n",
    "    headers = next(plots)\n",
    "    reports_per_stage = int(next(plots)[1])\n",
    "    print(reports_per_stage)\n",
    "    data = list(zip(*plots))\n",
    "    data[0] = tuple(map(int, data[0]))\n",
    "    \n",
    "    plt.figure()\n",
    "    \n",
    "    for header_idx in range(1, len(headers)):\n",
    "        plt.subplot(len(headers)-1, 1, header_idx)\n",
    "        plt.xlabel(headers[0])\n",
    "        plt.ylabel(headers[header_idx])\n",
    "        plt.plot(data[0], [float(i) for i in data[header_idx]])"
   ]
  },
  {
   "cell_type": "markdown",
   "metadata": {
    "id": "yVXnjjoauUe7"
   },
   "source": [
    "### Ignore beyond this point"
   ]
  },
  {
   "cell_type": "code",
   "execution_count": null,
   "metadata": {
    "id": "ti6BcnGhukio"
   },
   "outputs": [],
   "source": [
    "# Live graph reporter of temp and potential energy\n",
    "# only works in jupyter notebooks :/\n",
    "import matplotlib.pyplot as plt\n",
    "\n",
    "class PlotWriter:\n",
    "    plt.ion()\n",
    "    titles, data = None, None\n",
    "    def __init__(self, x_steps):\n",
    "        self.x_steps = x_steps\n",
    "\n",
    "    def setup(self, string):\n",
    "        self.step_iterator = iter(self.x_steps)\n",
    "        self.x_vals = []\n",
    "        self.titles = string.strip(\"#\").replace('\"', '').split(\",\")\n",
    "        self.data = tuple([] for i in range(len(self.titles)))\n",
    "        self.lines = []\n",
    "        self.figure, self.axs = plt.subplots(len(self.titles), 1, sharex=True)\n",
    "        for idx, ax in enumerate(self.axs):\n",
    "            line, = ax.plot([],[], 'o')\n",
    "            self.lines.append(line)\n",
    "            #Autoscale on unknown axis and known lims on the other\n",
    "            ax.set_autoscaley_on(True)\n",
    "            ax.set_xlim(self.x_steps.start, self.x_steps.stop)\n",
    "            ax.grid()\n",
    "            ax.set_xlabel(\"Heating Stage Coordinate\")\n",
    "            ax.set_ylabel(self.titles[idx])\n",
    "        self.figure\n",
    "\n",
    "    def write(self, string):\n",
    "        string = string.strip()\n",
    "        if string.startswith(\"#\"):\n",
    "            self.setup(string)\n",
    "        elif self.data and self.titles and string:\n",
    "            self.x_vals.append(next(self.step_iterator))\n",
    "            for idx, val in enumerate(string.split(\",\")):\n",
    "                print(val)\n",
    "                self.data[idx].append(float(val))\n",
    "                #Update data (with the new _and_ the old points)\n",
    "                self.lines[idx].set_xdata(self.x_vals)\n",
    "                self.lines[idx].set_ydata(self.data[idx])\n",
    "                #Need both of these in order to rescale\n",
    "                self.axs[idx].relim()\n",
    "                self.axs[idx].autoscale_view()\n",
    "            #We need to draw *and* flush\n",
    "            self.figure.canvas.draw()\n",
    "            self.figure.canvas.flush_events()\n",
    "\n",
    "def PlotReporter(x_steps):\n",
    "    return StateDataReporter(\n",
    "        PlotWriter(x_steps),\n",
    "        x_steps.step,\n",
    "        temperature = True,\n",
    "        potentialEnergy = True,\n",
    "    )"
   ]
  },
  {
   "cell_type": "code",
   "execution_count": null,
   "metadata": {
    "id": "mR3StgvaEiTz"
   },
   "outputs": [],
   "source": [
    "# Simulation function (to run simulations consistently)\n",
    "\n",
    "def simulate(\n",
    "    simulation,\n",
    "    output_pdb_filename: str = \"output.pdb\",\n",
    "    output_state_data_filename: str = \"state_data.csv\",\n",
    "    step_size: Quantity = 0.004*femtoseconds,\n",
    "    steps: int or None = 100000,\n",
    "    duration: Quantity or None = None,\n",
    "    pdb_report_interval: int or None = None,\n",
    "    state_report_interval: int or None = None,\n",
    "    progressbar_interval: int or None = None,\n",
    "):\n",
    "    assert duration or steps\n",
    "\n",
    "    if duration:\n",
    "        steps = int(duration / step_size)\n",
    "\n",
    "    if not pdb_report_interval:\n",
    "        pdb_report_interval = steps // 10\n",
    "\n",
    "    if not state_report_interval:\n",
    "        state_report_interval = steps // 10\n",
    "\n",
    "    if not progressbar_interval:\n",
    "        progressbar_interval = steps // 50\n",
    "\n",
    "    # Create pdb file reporter\n",
    "    simulation.reporters.append(\n",
    "        PDBReporter(\n",
    "            output_pdb_filename,\n",
    "            pdb_report_interval\n",
    "        )\n",
    "    )\n",
    "\n",
    "    # Create state data file reporter\n",
    "    simulation.reporters.append(\n",
    "        StateDataReporter(\n",
    "            output_state_data_filename, \n",
    "            state_report_interval, \n",
    "            step=True,\n",
    "            potentialEnergy=True, \n",
    "            temperature=True\n",
    "        )\n",
    "    )\n",
    "\n",
    "    # Create progress bar reporter\n",
    "    simulation.reporters.append(\n",
    "        ProgressBarReporter(steps, progressbar_interval)\n",
    "    )\n",
    "\n",
    "    # Run simulation through specified time steps\n",
    "    print(\"Running simulation...\")\n",
    "    simulation.step(steps)"
   ]
  },
  {
   "cell_type": "code",
   "execution_count": null,
   "metadata": {
    "id": "r3Q8b_DDEzeC"
   },
   "outputs": [],
   "source": [
    "# Production function - Constant volume & temp\n",
    "\n",
    "def production(\n",
    "    coords: Topology,\n",
    "    forcefield: ForceField,\n",
    "    temperature: Quantity = 300*kelvin,\n",
    "    friction_coeff: Quantity = 1/femtosecond,\n",
    "    step_size: Quantity = 0.004*femtoseconds,\n",
    "    **kwargs\n",
    "):      \n",
    "    print(\"Initialising production run...\")\n",
    "\n",
    "    # Create system\n",
    "    system = forcefield.createSystem(\n",
    "        coords.topology, \n",
    "        nonbondedMethod=PME,\n",
    "        nonbondedCutoff=1*nanometer,\n",
    "        constraints=AllBonds,\n",
    "        hydrogenMass=4*amu,\n",
    "    )\n",
    "\n",
    "    # Create constant temp integrator\n",
    "    integrator = LangevinMiddleIntegrator(\n",
    "        temperature,\n",
    "        friction_coeff,\n",
    "        step_size\n",
    "    )\n",
    "\n",
    "    # Create simulation and set initial positions\n",
    "    simulation = Simulation(\n",
    "        coords.topology,\n",
    "        system,\n",
    "        integrator\n",
    "    )\n",
    "    simulation.context.setPositions(coords.positions)\n",
    "\n",
    "    simulate(\n",
    "        simulation,\n",
    "        **kwargs\n",
    "    )\n",
    "\n",
    "    return simulation"
   ]
  },
  {
   "cell_type": "code",
   "execution_count": null,
   "metadata": {
    "id": "SNrmOdK5CW3c"
   },
   "outputs": [],
   "source": [
    "# Load sample peptide\n",
    "pdb = PDBFile('aaa.pdb')\n",
    "\n",
    "# Create AMBER forcefield\n",
    "forcefield = ForceField(\n",
    "    'amber14-all.xml',\n",
    "    'amber14/tip3pfb.xml'\n",
    ")\n",
    "\n",
    "# Load pdb into modeller and add solvent\n",
    "modeller = Modeller(pdb.topology, pdb.positions)\n",
    "modeller.addSolvent(forcefield, model='tip3p', padding=1*nanometer)\n",
    "\n",
    "simulation = equilibrate(\n",
    "    modeller,\n",
    "    forcefield,\n",
    "    pressure = 1*atmosphere,\n",
    "    temperature = 300*kelvin,\n",
    "    friction_coeff = 1/femtosecond,\n",
    "    step_size = 0.004*femtoseconds,\n",
    "    steps = 10000,\n",
    "    output_pdb_filename = \"equilibration_output.pdb\",\n",
    "    output_state_data_filename = \"equilibration_state_data.csv\"\n",
    ")\n",
    "\n",
    "simulation.positions = simulation.context.getState(getPositions=True).getPositions()\n",
    "\n",
    "production(\n",
    "    simulation,\n",
    "    forcefield,\n",
    "    temperature = 300*kelvin,\n",
    "    friction_coeff = 1/femtosecond,\n",
    "    step_size = 0.004*femtoseconds,\n",
    "    steps = 10000,\n",
    "    output_pdb_filename = \"production_output.pdb\",\n",
    "    output_state_data_filename = \"production_state_data.csv\"\n",
    ")"
   ]
  },
  {
   "cell_type": "markdown",
   "metadata": {
    "id": "1R-bb3TvieWN"
   },
   "source": [
    "# Viewer"
   ]
  },
  {
   "cell_type": "code",
   "execution_count": null,
   "metadata": {
    "id": "yvRCAsdZpkiJ"
   },
   "outputs": [],
   "source": [
    "import pytraj as pt\n",
    "import nglview as nv\n",
    "from google.colab import output\n",
    "output.enable_custom_widget_manager()"
   ]
  },
  {
   "cell_type": "code",
   "execution_count": null,
   "metadata": {
    "id": "AoRwlq1urWNW"
   },
   "outputs": [],
   "source": [
    "traj = pt.load(\"production_output.pdb\")\n",
    "view = nv.show_pytraj(traj)\n",
    "view.add_representation(\"licorice\")\n",
    "view.add_unitcell()\n",
    "view"
   ]
  }
 ],
 "metadata": {
  "accelerator": "GPU",
  "colab": {
   "authorship_tag": "ABX9TyOLXoMsHOnvT64iWxjAocwV",
   "collapsed_sections": [],
   "include_colab_link": true,
   "name": "Demo - AMBER.ipynb",
   "provenance": []
  },
  "kernelspec": {
   "display_name": "Python 3 (ipykernel)",
   "language": "python",
   "name": "python3"
  },
  "language_info": {
   "codemirror_mode": {
    "name": "ipython",
    "version": 3
   },
   "file_extension": ".py",
   "mimetype": "text/x-python",
   "name": "python",
   "nbconvert_exporter": "python",
   "pygments_lexer": "ipython3",
   "version": "3.8.0"
  }
 },
 "nbformat": 4,
 "nbformat_minor": 4
}
