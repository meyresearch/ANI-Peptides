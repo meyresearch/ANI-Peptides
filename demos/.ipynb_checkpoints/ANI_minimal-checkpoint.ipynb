{
 "cells": [
  {
   "cell_type": "code",
   "execution_count": 18,
   "id": "7aad2039",
   "metadata": {},
   "outputs": [],
   "source": [
    "# Import libraries\n",
    "from openmm.app import *\n",
    "from openmm import *\n",
    "from openmm.unit import *\n",
    "from openmmml import MLPotential\n",
    "\n",
    "# Setup\n",
    "pdb = PDBFile(\"aaa.pdb\")\n",
    "potential = MLPotential('ani2x')\n",
    "system = potential.createSystem(pdb.topology)"
   ]
  },
  {
   "cell_type": "markdown",
   "id": "04715fa6",
   "metadata": {},
   "source": [
    "# Works fine on OpenCL"
   ]
  },
  {
   "cell_type": "code",
   "execution_count": 34,
   "id": "10fe30d4",
   "metadata": {},
   "outputs": [
    {
     "name": "stdout",
     "output_type": "stream",
     "text": [
      "done\n"
     ]
    }
   ],
   "source": [
    "integrator = LangevinIntegrator(\n",
    "    300 * kelvin, \n",
    "    1 / picosecond, \n",
    "    1.0 * femtosecond,\n",
    ")\n",
    "simulation = Simulation(\n",
    "    pdb.topology,\n",
    "    system,\n",
    "    integrator,\n",
    "    Platform.getPlatformByName(\"OpenCL\"),\n",
    ")\n",
    "simulation.context.setPositions(pdb.positions)\n",
    "simulation.minimizeEnergy()\n",
    "simulation.step(100)\n",
    "print(\"done\")"
   ]
  },
  {
   "cell_type": "markdown",
   "id": "36aea913",
   "metadata": {},
   "source": [
    "# Breaks with CUDA"
   ]
  },
  {
   "cell_type": "code",
   "execution_count": 37,
   "id": "18de8aab",
   "metadata": {},
   "outputs": [
    {
     "ename": "OpenMMException",
     "evalue": "The following operation failed in the TorchScript interpreter.\nTraceback of TorchScript, serialized code (most recent call last):\n  File \"code/__torch__/openmmml/models/anipotential/___torch_mangle_23.py\", line 31, in forward\n      _5 = torch.mul(boxvectors1, 10.)\n      pbc = self.pbc\n      _6, energy1, = (model0).forward(_4, _5, pbc, )\n                      ~~~~~~~~~~~~~~~ <--- HERE\n      energy = energy1\n    energyScale = self.energyScale\n  File \"code/__torch__/torchani/models.py\", line 32, in forward\n      pass\n    aev_computer = self.aev_computer\n    species_aevs = (aev_computer).forward(species_coordinates0, cell, pbc, )\n                    ~~~~~~~~~~~~~~~~~~~~~ <--- HERE\n    neural_networks = self.neural_networks\n    species_energies = (neural_networks).forward(species_aevs, None, None, )\n  File \"code/__torch__/torchani/aev.py\", line 68, in forward\n        ops.prim.RaiseException(\"AssertionError: \")\n        cell3, pbc0 = _1, _1\n      shifts = _0(cell3, pbc0, 5.0999999999999996, )\n               ~~ <--- HERE\n      triu_index0 = self.triu_index\n      aev1 = __torch__.torchani.aev.compute_aev(species, coordinates, triu_index0, (self).constants(), (7, 16, 112, 32, 896), (cell3, shifts), )\n  File \"code/__torch__/torchani/aev.py\", line 163, in compute_shifts\n  num_repeats = torch.to(_34, 4)\n  _35 = torch.new_zeros(num_repeats, annotate(List[int], []))\n  num_repeats0 = torch.where(pbc, num_repeats, _35)\n                 ~~~~~~~~~~~ <--- HERE\n  _36 = torch.item(torch.select(num_repeats0, 0, 0))\n  r1 = torch.arange(1, torch.add(_36, 1), dtype=None, layout=None, device=ops.prim.device(cell))\n\nTraceback of TorchScript, original code (most recent call last):\n  File \"/home/mbowley/miniconda3/envs/ani/lib/python3.9/site-packages/openmmml/models/anipotential.py\", line 111, in forward\n                else:\n                    boxvectors = boxvectors.to(torch.float32)\n                    _, energy = self.model((self.species, 10.0*positions.unsqueeze(0)), cell=10.0*boxvectors, pbc=self.pbc)\n                                ~~~~~~~~~~ <--- HERE\n                return self.energyScale*energy\n  File \"/home/mbowley/miniconda3/envs/ani/lib/python3.9/site-packages/torchani/models.py\", line 106, in forward\n            raise ValueError(f'Unknown species found in {species_coordinates[0]}')\n    \n        species_aevs = self.aev_computer(species_coordinates, cell=cell, pbc=pbc)\n                       ~~~~~~~~~~~~~~~~~ <--- HERE\n        species_energies = self.neural_networks(species_aevs)\n        return self.energy_shifter(species_energies)\n  File \"/home/mbowley/miniconda3/envs/ani/lib/python3.9/site-packages/torchani/aev.py\", line 532, in forward\n            assert (cell is not None and pbc is not None)\n            cutoff = max(self.Rcr, self.Rca)\n            shifts = compute_shifts(cell, pbc, cutoff)\n                     ~~~~~~~~~~~~~~ <--- HERE\n            aev = compute_aev(species, coordinates, self.triu_index, self.constants(), self.sizes, (cell, shifts))\n    \n  File \"/home/mbowley/miniconda3/envs/ani/lib/python3.9/site-packages/torchani/aev.py\", line 114, in compute_shifts\n    inv_distances = reciprocal_cell.norm(2, -1)\n    num_repeats = torch.ceil(cutoff * inv_distances).to(torch.long)\n    num_repeats = torch.where(pbc, num_repeats, num_repeats.new_zeros(()))\n                  ~~~~~~~~~~~ <--- HERE\n    r1 = torch.arange(1, num_repeats[0].item() + 1, device=cell.device)\n    r2 = torch.arange(1, num_repeats[1].item() + 1, device=cell.device)\nRuntimeError: Expected condition, x and y to be on the same device, but condition is on cpu and x and y are on cuda:0 and cuda:0 respectively\n",
     "output_type": "error",
     "traceback": [
      "\u001b[0;31m---------------------------------------------------------------------------\u001b[0m",
      "\u001b[0;31mOpenMMException\u001b[0m                           Traceback (most recent call last)",
      "\u001b[0;32m/tmp/ipykernel_661052/2315887899.py\u001b[0m in \u001b[0;36m<module>\u001b[0;34m\u001b[0m\n\u001b[1;32m     11\u001b[0m )\n\u001b[1;32m     12\u001b[0m \u001b[0msimulation\u001b[0m\u001b[0;34m.\u001b[0m\u001b[0mcontext\u001b[0m\u001b[0;34m.\u001b[0m\u001b[0msetPositions\u001b[0m\u001b[0;34m(\u001b[0m\u001b[0mpdb\u001b[0m\u001b[0;34m.\u001b[0m\u001b[0mpositions\u001b[0m\u001b[0;34m)\u001b[0m\u001b[0;34m\u001b[0m\u001b[0;34m\u001b[0m\u001b[0m\n\u001b[0;32m---> 13\u001b[0;31m \u001b[0msimulation\u001b[0m\u001b[0;34m.\u001b[0m\u001b[0mminimizeEnergy\u001b[0m\u001b[0;34m(\u001b[0m\u001b[0;34m)\u001b[0m\u001b[0;34m\u001b[0m\u001b[0;34m\u001b[0m\u001b[0m\n\u001b[0m\u001b[1;32m     14\u001b[0m \u001b[0msimulation\u001b[0m\u001b[0;34m.\u001b[0m\u001b[0mstep\u001b[0m\u001b[0;34m(\u001b[0m\u001b[0;36m100\u001b[0m\u001b[0;34m)\u001b[0m\u001b[0;34m\u001b[0m\u001b[0;34m\u001b[0m\u001b[0m\n\u001b[1;32m     15\u001b[0m \u001b[0mprint\u001b[0m\u001b[0;34m(\u001b[0m\u001b[0;34m\"done\"\u001b[0m\u001b[0;34m)\u001b[0m\u001b[0;34m\u001b[0m\u001b[0;34m\u001b[0m\u001b[0m\n",
      "\u001b[0;32m~/miniconda3/envs/ani/lib/python3.9/site-packages/openmm/app/simulation.py\u001b[0m in \u001b[0;36mminimizeEnergy\u001b[0;34m(self, tolerance, maxIterations)\u001b[0m\n\u001b[1;32m    135\u001b[0m             \u001b[0mto\u001b[0m \u001b[0mhow\u001b[0m \u001b[0mmany\u001b[0m \u001b[0miterations\u001b[0m \u001b[0mit\u001b[0m \u001b[0mtakes\u001b[0m\u001b[0;34m.\u001b[0m\u001b[0;34m\u001b[0m\u001b[0;34m\u001b[0m\u001b[0m\n\u001b[1;32m    136\u001b[0m         \"\"\"\n\u001b[0;32m--> 137\u001b[0;31m         \u001b[0mmm\u001b[0m\u001b[0;34m.\u001b[0m\u001b[0mLocalEnergyMinimizer\u001b[0m\u001b[0;34m.\u001b[0m\u001b[0mminimize\u001b[0m\u001b[0;34m(\u001b[0m\u001b[0mself\u001b[0m\u001b[0;34m.\u001b[0m\u001b[0mcontext\u001b[0m\u001b[0;34m,\u001b[0m \u001b[0mtolerance\u001b[0m\u001b[0;34m,\u001b[0m \u001b[0mmaxIterations\u001b[0m\u001b[0;34m)\u001b[0m\u001b[0;34m\u001b[0m\u001b[0;34m\u001b[0m\u001b[0m\n\u001b[0m\u001b[1;32m    138\u001b[0m \u001b[0;34m\u001b[0m\u001b[0m\n\u001b[1;32m    139\u001b[0m     \u001b[0;32mdef\u001b[0m \u001b[0mstep\u001b[0m\u001b[0;34m(\u001b[0m\u001b[0mself\u001b[0m\u001b[0;34m,\u001b[0m \u001b[0msteps\u001b[0m\u001b[0;34m)\u001b[0m\u001b[0;34m:\u001b[0m\u001b[0;34m\u001b[0m\u001b[0;34m\u001b[0m\u001b[0m\n",
      "\u001b[0;32m~/miniconda3/envs/ani/lib/python3.9/site-packages/openmm/openmm.py\u001b[0m in \u001b[0;36mminimize\u001b[0;34m(context, tolerance, maxIterations)\u001b[0m\n\u001b[1;32m   1832\u001b[0m             \u001b[0mthe\u001b[0m \u001b[0mmaximum\u001b[0m \u001b[0mnumber\u001b[0m \u001b[0mof\u001b[0m \u001b[0miterations\u001b[0m \u001b[0mto\u001b[0m \u001b[0mperform\u001b[0m\u001b[0;34m.\u001b[0m \u001b[0mIf\u001b[0m \u001b[0mthis\u001b[0m \u001b[0;32mis\u001b[0m \u001b[0;36m0\u001b[0m\u001b[0;34m,\u001b[0m \u001b[0mminimation\u001b[0m \u001b[0;32mis\u001b[0m \u001b[0mcontinued\u001b[0m \u001b[0muntil\u001b[0m \u001b[0mthe\u001b[0m \u001b[0mresults\u001b[0m \u001b[0mconverge\u001b[0m \u001b[0mwithout\u001b[0m \u001b[0mregard\u001b[0m \u001b[0mto\u001b[0m \u001b[0mhow\u001b[0m \u001b[0mmany\u001b[0m \u001b[0miterations\u001b[0m \u001b[0mit\u001b[0m \u001b[0mtakes\u001b[0m\u001b[0;34m.\u001b[0m \u001b[0mThe\u001b[0m \u001b[0mdefault\u001b[0m \u001b[0mvalue\u001b[0m \u001b[0;32mis\u001b[0m \u001b[0;36m0.\u001b[0m\u001b[0;34m\u001b[0m\u001b[0;34m\u001b[0m\u001b[0m\n\u001b[1;32m   1833\u001b[0m         \"\"\"\n\u001b[0;32m-> 1834\u001b[0;31m         \u001b[0;32mreturn\u001b[0m \u001b[0m_openmm\u001b[0m\u001b[0;34m.\u001b[0m\u001b[0mLocalEnergyMinimizer_minimize\u001b[0m\u001b[0;34m(\u001b[0m\u001b[0mcontext\u001b[0m\u001b[0;34m,\u001b[0m \u001b[0mtolerance\u001b[0m\u001b[0;34m,\u001b[0m \u001b[0mmaxIterations\u001b[0m\u001b[0;34m)\u001b[0m\u001b[0;34m\u001b[0m\u001b[0;34m\u001b[0m\u001b[0m\n\u001b[0m\u001b[1;32m   1835\u001b[0m     \u001b[0m__swig_destroy__\u001b[0m \u001b[0;34m=\u001b[0m \u001b[0m_openmm\u001b[0m\u001b[0;34m.\u001b[0m\u001b[0mdelete_LocalEnergyMinimizer\u001b[0m\u001b[0;34m\u001b[0m\u001b[0;34m\u001b[0m\u001b[0m\n\u001b[1;32m   1836\u001b[0m \u001b[0;34m\u001b[0m\u001b[0m\n",
      "\u001b[0;31mOpenMMException\u001b[0m: The following operation failed in the TorchScript interpreter.\nTraceback of TorchScript, serialized code (most recent call last):\n  File \"code/__torch__/openmmml/models/anipotential/___torch_mangle_23.py\", line 31, in forward\n      _5 = torch.mul(boxvectors1, 10.)\n      pbc = self.pbc\n      _6, energy1, = (model0).forward(_4, _5, pbc, )\n                      ~~~~~~~~~~~~~~~ <--- HERE\n      energy = energy1\n    energyScale = self.energyScale\n  File \"code/__torch__/torchani/models.py\", line 32, in forward\n      pass\n    aev_computer = self.aev_computer\n    species_aevs = (aev_computer).forward(species_coordinates0, cell, pbc, )\n                    ~~~~~~~~~~~~~~~~~~~~~ <--- HERE\n    neural_networks = self.neural_networks\n    species_energies = (neural_networks).forward(species_aevs, None, None, )\n  File \"code/__torch__/torchani/aev.py\", line 68, in forward\n        ops.prim.RaiseException(\"AssertionError: \")\n        cell3, pbc0 = _1, _1\n      shifts = _0(cell3, pbc0, 5.0999999999999996, )\n               ~~ <--- HERE\n      triu_index0 = self.triu_index\n      aev1 = __torch__.torchani.aev.compute_aev(species, coordinates, triu_index0, (self).constants(), (7, 16, 112, 32, 896), (cell3, shifts), )\n  File \"code/__torch__/torchani/aev.py\", line 163, in compute_shifts\n  num_repeats = torch.to(_34, 4)\n  _35 = torch.new_zeros(num_repeats, annotate(List[int], []))\n  num_repeats0 = torch.where(pbc, num_repeats, _35)\n                 ~~~~~~~~~~~ <--- HERE\n  _36 = torch.item(torch.select(num_repeats0, 0, 0))\n  r1 = torch.arange(1, torch.add(_36, 1), dtype=None, layout=None, device=ops.prim.device(cell))\n\nTraceback of TorchScript, original code (most recent call last):\n  File \"/home/mbowley/miniconda3/envs/ani/lib/python3.9/site-packages/openmmml/models/anipotential.py\", line 111, in forward\n                else:\n                    boxvectors = boxvectors.to(torch.float32)\n                    _, energy = self.model((self.species, 10.0*positions.unsqueeze(0)), cell=10.0*boxvectors, pbc=self.pbc)\n                                ~~~~~~~~~~ <--- HERE\n                return self.energyScale*energy\n  File \"/home/mbowley/miniconda3/envs/ani/lib/python3.9/site-packages/torchani/models.py\", line 106, in forward\n            raise ValueError(f'Unknown species found in {species_coordinates[0]}')\n    \n        species_aevs = self.aev_computer(species_coordinates, cell=cell, pbc=pbc)\n                       ~~~~~~~~~~~~~~~~~ <--- HERE\n        species_energies = self.neural_networks(species_aevs)\n        return self.energy_shifter(species_energies)\n  File \"/home/mbowley/miniconda3/envs/ani/lib/python3.9/site-packages/torchani/aev.py\", line 532, in forward\n            assert (cell is not None and pbc is not None)\n            cutoff = max(self.Rcr, self.Rca)\n            shifts = compute_shifts(cell, pbc, cutoff)\n                     ~~~~~~~~~~~~~~ <--- HERE\n            aev = compute_aev(species, coordinates, self.triu_index, self.constants(), self.sizes, (cell, shifts))\n    \n  File \"/home/mbowley/miniconda3/envs/ani/lib/python3.9/site-packages/torchani/aev.py\", line 114, in compute_shifts\n    inv_distances = reciprocal_cell.norm(2, -1)\n    num_repeats = torch.ceil(cutoff * inv_distances).to(torch.long)\n    num_repeats = torch.where(pbc, num_repeats, num_repeats.new_zeros(()))\n                  ~~~~~~~~~~~ <--- HERE\n    r1 = torch.arange(1, num_repeats[0].item() + 1, device=cell.device)\n    r2 = torch.arange(1, num_repeats[1].item() + 1, device=cell.device)\nRuntimeError: Expected condition, x and y to be on the same device, but condition is on cpu and x and y are on cuda:0 and cuda:0 respectively\n"
     ]
    }
   ],
   "source": [
    "integrator = LangevinIntegrator(\n",
    "    300 * kelvin, \n",
    "    1 / picosecond, \n",
    "    1.0 * femtosecond,\n",
    ")\n",
    "simulation = Simulation(\n",
    "    pdb.topology,\n",
    "    system,\n",
    "    integrator,\n",
    "    Platform.getPlatformByName(\"CUDA\"),\n",
    ")\n",
    "simulation.context.setPositions(pdb.positions)\n",
    "simulation.minimizeEnergy()\n",
    "simulation.step(100)\n",
    "print(\"done\")"
   ]
  },
  {
   "cell_type": "markdown",
   "id": "90a3a8ed",
   "metadata": {},
   "source": [
    "# Troubleshooting"
   ]
  },
  {
   "cell_type": "markdown",
   "id": "9dc9e890",
   "metadata": {},
   "source": [
    "`conda list` shows:\n",
    "```\n",
    "pytorch                   1.10.0          cuda112py39h4e14dd4_0    conda-forge\n",
    "pytorch-gpu               1.10.0          cuda112py39h0bbbad9_0    conda-forge\n",
    "torchani                  2.2.2           py39cuda112hf93b382_0_cuda    conda-forge\n",
    "torchvision               0.11.1                 py39_cpu  [cpuonly]  pytorch\n",
    "```"
   ]
  },
  {
   "cell_type": "code",
   "execution_count": 36,
   "id": "8912a80a",
   "metadata": {},
   "outputs": [
    {
     "name": "stdout",
     "output_type": "stream",
     "text": [
      "True\n",
      "0\n",
      "<torch.cuda.device object at 0x7fa6c50985b0>\n",
      "4\n",
      "NVIDIA GeForce GTX 1080\n"
     ]
    }
   ],
   "source": [
    "import torch\n",
    "\n",
    "print(torch.cuda.is_available())\n",
    "print(torch.cuda.current_device())\n",
    "print(torch.cuda.device(0))\n",
    "print(torch.cuda.device_count())\n",
    "print(torch.cuda.get_device_name(0))"
   ]
  },
  {
   "cell_type": "code",
   "execution_count": null,
   "id": "4eb7bdae",
   "metadata": {},
   "outputs": [],
   "source": []
  }
 ],
 "metadata": {
  "kernelspec": {
   "display_name": "Python 3 (ipykernel)",
   "language": "python",
   "name": "python3"
  },
  "language_info": {
   "codemirror_mode": {
    "name": "ipython",
    "version": 3
   },
   "file_extension": ".py",
   "mimetype": "text/x-python",
   "name": "python",
   "nbconvert_exporter": "python",
   "pygments_lexer": "ipython3",
   "version": "3.9.7"
  }
 },
 "nbformat": 4,
 "nbformat_minor": 5
}
