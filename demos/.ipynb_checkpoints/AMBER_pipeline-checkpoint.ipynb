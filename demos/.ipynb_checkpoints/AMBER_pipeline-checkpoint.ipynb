{
 "cells": [
  {
   "cell_type": "code",
   "execution_count": 1,
   "id": "642b7aea",
   "metadata": {},
   "outputs": [],
   "source": [
    "TARGET_PDB = \"aaa.pdb\""
   ]
  },
  {
   "cell_type": "markdown",
   "id": "25a0d54f",
   "metadata": {},
   "source": [
    "## Imports and Definitions"
   ]
  },
  {
   "cell_type": "code",
   "execution_count": 2,
   "id": "7f970324",
   "metadata": {},
   "outputs": [],
   "source": [
    "# Import libraries\n",
    "\n",
    "from openmm.app import *\n",
    "from openmm import *\n",
    "from openmm.unit import *\n",
    "import time\n",
    "import pandas as pd\n",
    "import seaborn as sns \n",
    "import matplotlib.pyplot as plt\n",
    "\n",
    "# Equilibration function - Constant pressure & temp\n",
    "\n",
    "def equilibrate(\n",
    "    coords: Topology,\n",
    "    forcefield: ForceField,\n",
    "    final_pressure: Quantity = 1*atmosphere,\n",
    "    temp_range: range = range(0, 300, 25),\n",
    "    output_state_data_filename = \"equilibration_state_data.csv\",\n",
    "    friction_coeff: Quantity = 1/femtosecond,\n",
    "    step_size: Quantity = 4*femtoseconds,\n",
    "    time_per_temp_increment: Quantity = 0.005*nanoseconds,\n",
    "    time_final_stage: Quantity = 0.05*nanoseconds,\n",
    "):\n",
    "    print(\"Initialising equilibration run...\")\n",
    "    # adjust the range to include the highest temp (stop value)\n",
    "    inclusive_temp_range = range(\n",
    "        temp_range.start,\n",
    "        temp_range.stop + temp_range.step,\n",
    "        temp_range.step\n",
    "    )\n",
    "    temperatures = Quantity(inclusive_temp_range, kelvin)\n",
    "    steps_per_temp_increment = int(time_per_temp_increment / step_size)\n",
    "    steps_final_stage = int(time_final_stage / step_size)\n",
    "\n",
    "    # Create system\n",
    "    system = forcefield.createSystem(\n",
    "        coords.topology, \n",
    "        nonbondedMethod=PME,\n",
    "        nonbondedCutoff=1*nanometer,\n",
    "        constraints=AllBonds,\n",
    "        hydrogenMass=4*amu,\n",
    "    )\n",
    "    # Create constant temp integrator\n",
    "    integrator = LangevinMiddleIntegrator(\n",
    "        temperatures.min(),\n",
    "        friction_coeff,\n",
    "        step_size\n",
    "    )\n",
    "    # Create simulation and set initial positions\n",
    "    simulation = Simulation(\n",
    "        coords.topology,\n",
    "        system,\n",
    "        integrator\n",
    "    )\n",
    "    simulation.context.setPositions(coords.positions)\n",
    "    state_reporter = StateDataReporter(\n",
    "        output_state_data_filename,\n",
    "        steps_per_temp_increment//10,\n",
    "        temperature = True,\n",
    "        potentialEnergy = True,\n",
    "    )\n",
    "    simulation.reporters.append(state_reporter)\n",
    "\n",
    "    # Local energy minimisation\n",
    "    print(\"Local energy minimisation...\")\n",
    "    simulation.minimizeEnergy()\n",
    "    # Heating to final temp\n",
    "    print(f\"Equilibrating {temperatures.min()} to {temperatures.max()} in {len(temperatures)} stages, {time_per_temp_increment} per stage\")\n",
    "    for stage, temperature in enumerate(temperatures):\n",
    "        print(f\"Heating stage {stage+1}/{len(temperatures)} at {temperature}\")\n",
    "        integrator.setTemperature(temperature)\n",
    "        simulation.step(steps_per_temp_increment)\n",
    "    # Final equilibration, constant pressure \n",
    "    print(f\"Final equilibration at {final_pressure} for {time_final_stage}\")\n",
    "    barostat = MonteCarloBarostat(\n",
    "        final_pressure,\n",
    "        temperatures.max()\n",
    "    )\n",
    "    system.addForce(barostat)\n",
    "    simulation.step(steps_final_stage)\n",
    "    print(\"Done\")\n",
    "    return simulation\n",
    "\n",
    "# Production function - Constant pressure & volume\n",
    "\n",
    "def production(\n",
    "    coords: Topology,\n",
    "    forcefield: ForceField,\n",
    "    output_state_data_filename = \"production_state_data.csv\",\n",
    "    output_pdb_filename = \"production_output.pdb\",\n",
    "    temperature: Quantity = 300*kelvin,\n",
    "    friction_coeff: Quantity = 1/femtosecond,\n",
    "    step_size: Quantity = 4*femtoseconds,\n",
    "    duration: Quantity = 1*nanoseconds,\n",
    "    steps_per_saved_frame: int = 1000\n",
    "):\n",
    "    print(\"Initialising production run...\")\n",
    "    \n",
    "    # Create system\n",
    "    system = forcefield.createSystem(\n",
    "        coords.topology, \n",
    "        nonbondedMethod=PME,\n",
    "        nonbondedCutoff=1*nanometer,\n",
    "        constraints=AllBonds,\n",
    "        hydrogenMass=4*amu,\n",
    "    )\n",
    "    # Create constant temp integrator\n",
    "    integrator = LangevinMiddleIntegrator(\n",
    "        temperature,\n",
    "        friction_coeff,\n",
    "        step_size\n",
    "    )\n",
    "    # Create simulation and set initial positions\n",
    "    simulation = Simulation(\n",
    "        coords.topology,\n",
    "        system,\n",
    "        integrator\n",
    "    )\n",
    "    simulation.context.setPositions(coords.positions)\n",
    "    state_reporter = StateDataReporter(\n",
    "        output_state_data_filename,\n",
    "        steps_per_saved_frame,\n",
    "        temperature = True,\n",
    "        potentialEnergy = True,\n",
    "    )\n",
    "    simulation.reporters.append(state_reporter)\n",
    "    simulation.reporters.append(PDBReporter(output_pdb_filename, steps_per_saved_frame))\n",
    "\n",
    "    # Production run  \n",
    "    print(\"Running production...\")\n",
    "    simulation.step(int(duration / step_size))\n",
    "    print(\"Done\")\n",
    "    return simulation"
   ]
  },
  {
   "cell_type": "markdown",
   "id": "b2acdb2a",
   "metadata": {},
   "source": [
    "## Load and Equilibrate "
   ]
  },
  {
   "cell_type": "code",
   "execution_count": 3,
   "id": "8ad3c39c",
   "metadata": {},
   "outputs": [
    {
     "data": {
      "text/plain": [
       "Quantity(value=0.065, unit=nanosecond)"
      ]
     },
     "execution_count": 3,
     "metadata": {},
     "output_type": "execute_result"
    }
   ],
   "source": [
    "(len(range(0, 300, 20)) * 0.001 * nanoseconds) +  0.05 * nanoseconds\n"
   ]
  },
  {
   "cell_type": "code",
   "execution_count": 4,
   "id": "ebba59c5",
   "metadata": {},
   "outputs": [
    {
     "name": "stdout",
     "output_type": "stream",
     "text": [
      "Initialising equilibration run...\n",
      "Local energy minimisation...\n",
      "Equilibrating 0 K to 300 K in 16 stages, 0.001 ns per stage\n",
      "Heating stage 1/16 at 0 K\n",
      "Heating stage 2/16 at 20 K\n",
      "Heating stage 3/16 at 40 K\n",
      "Heating stage 4/16 at 60 K\n",
      "Heating stage 5/16 at 80 K\n",
      "Heating stage 6/16 at 100 K\n",
      "Heating stage 7/16 at 120 K\n",
      "Heating stage 8/16 at 140 K\n",
      "Heating stage 9/16 at 160 K\n",
      "Heating stage 10/16 at 180 K\n",
      "Heating stage 11/16 at 200 K\n",
      "Heating stage 12/16 at 220 K\n",
      "Heating stage 13/16 at 240 K\n",
      "Heating stage 14/16 at 260 K\n",
      "Heating stage 15/16 at 280 K\n",
      "Heating stage 16/16 at 300 K\n",
      "Final equilibration at 1 atm for 0.05 ns\n",
      "Done\n"
     ]
    },
    {
     "data": {
      "image/png": "[encoded data removed]",
      "text/plain": [
       "<Figure size 216x432 with 2 Axes>"
      ]
     },
     "metadata": {
      "needs_background": "light"
     },
     "output_type": "display_data"
    }
   ],
   "source": [
    "# Load sample peptide\n",
    "pdb = PDBFile(TARGET_PDB)\n",
    "\n",
    "# Create AMBER forcefield\n",
    "forcefield = ForceField(\n",
    "    'amber14-all.xml',\n",
    "    'amber14/tip3p.xml'\n",
    ")\n",
    "\n",
    "# Load pdb into modeller and add solvent\n",
    "modeller = Modeller(pdb.topology, pdb.positions)\n",
    "# modeller.addExtraParticles(forcefield)\n",
    "modeller.addHydrogens(forcefield)\n",
    "modeller.addSolvent(forcefield, model='tip3p', padding=1*nanometer, neutralize=False)\n",
    "\n",
    "# Equilibrate\n",
    "simulation = equilibrate(\n",
    "    modeller,\n",
    "    forcefield,\n",
    "    temp_range = range(0, 300, 20),\n",
    "    time_per_temp_increment = 0.001 * nanoseconds,\n",
    "    time_final_stage = 0.05 * nanoseconds\n",
    ")\n",
    "\n",
    "\n",
    "# Show graphs\n",
    "report = pd.read_csv('equilibration_state_data.csv')\n",
    "report = report.melt()\n",
    "with sns.plotting_context('paper'): \n",
    "    g = sns.FacetGrid(data=report, row='variable', sharey=False )\n",
    "    g.map(plt.plot, 'value')\n",
    "    plt.savefig('equilibration.pdf', bbox_inches='tight')\n",
    "    \n",
    "# label axis with time\n",
    "# ns/day (sanity check ~500ns/day)\n",
    "# run for a day, see number of flips\n",
    "# print a trajectory of the aaa dihedrals, counting the flips\n",
    "# heatmap of phi and psi would be a good first analysis, use mdanalysis \n",
    "# aiming for https://docs.mdanalysis.org/1.1.0/documentation_pages/analysis/dihedrals.html\n",
    "# number of events going between minima states\n",
    "# \"timetrace\" - a plot of the dihedral over time (aim for 500ns)\n",
    "# do this first, shows how often you go back and forth. one plot for each phi/psi angle\n",
    "# four plots - for each set of pairs\n",
    "# this gives two heatmap plots like in the documentation\n",
    "\n",
    "# "
   ]
  },
  {
   "cell_type": "markdown",
   "id": "26f75ac6",
   "metadata": {},
   "source": [
    "## Production"
   ]
  },
  {
   "cell_type": "code",
   "execution_count": 5,
   "id": "2dc197e5",
   "metadata": {},
   "outputs": [
    {
     "name": "stdout",
     "output_type": "stream",
     "text": [
      "Initialising production run...\n",
      "Running production...\n",
      "Done\n"
     ]
    },
    {
     "data": {
      "image/png": "[encoded data removed]",
      "text/plain": [
       "<Figure size 216x432 with 2 Axes>"
      ]
     },
     "metadata": {
      "needs_background": "light"
     },
     "output_type": "display_data"
    }
   ],
   "source": [
    "# Production\n",
    "simulation.positions = simulation.context.getState(getPositions=True).getPositions()\n",
    "production(\n",
    "    simulation,\n",
    "    forcefield,\n",
    "    output_pdb_filename = \"production_output.pdb\",\n",
    "    output_state_data_filename = \"production_state_data.csv\"\n",
    ")\n",
    "# dcd trajectory, not pdb\n",
    "# only save the protein, not the water\n",
    "# save the protein every 1ps\n",
    "# save the state after equilibration (xml state) to start prod from - share both aaa and beta turn in this equilibrated state with toni\n",
    "# visualise the trajectory (pymol or similar check colab examples) \n",
    "\n",
    "# Show graphs\n",
    "report = pd.read_csv('production_state_data.csv')\n",
    "report = report.melt()\n",
    "with sns.plotting_context('paper'): \n",
    "    g = sns.FacetGrid(data=report, row='variable', sharey=False )\n",
    "    g.map(plt.plot, 'value')\n",
    "    plt.savefig('production.pdf', bbox_inches='tight')"
   ]
  }
 ],
 "metadata": {
  "kernelspec": {
   "display_name": "Python 3 (ipykernel)",
   "language": "python",
   "name": "python3"
  },
  "language_info": {
   "codemirror_mode": {
    "name": "ipython",
    "version": 3
   },
   "file_extension": ".py",
   "mimetype": "text/x-python",
   "name": "python",
   "nbconvert_exporter": "python",
   "pygments_lexer": "ipython3",
   "version": "3.9.7"
  }
 },
 "nbformat": 4,
 "nbformat_minor": 5
}
