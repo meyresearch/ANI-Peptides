{
 "cells": [
  {
   "cell_type": "markdown",
   "id": "dbaceef4",
   "metadata": {},
   "source": [
    "# Small System, ~30 atoms\n",
    "\n",
    "ANI2x simulating a small peptide in vacuum"
   ]
  },
  {
   "cell_type": "code",
   "execution_count": 5,
   "id": "7aad2039",
   "metadata": {},
   "outputs": [
    {
     "name": "stdout",
     "output_type": "stream",
     "text": [
      "/home/matthewb/miniconda/envs/ani/lib/python3.9/site-packages/torchani/resources/\n"
     ]
    },
    {
     "ename": "RuntimeError",
     "evalue": "[enforce fail at CPUAllocator.cpp:61] . DefaultCPUAllocator: can't allocate memory: you tried to allocate 33542111232 bytes. Error code 12 (Cannot allocate memory)",
     "output_type": "error",
     "traceback": [
      "\u001b[0;31m---------------------------------------------------------------------------\u001b[0m",
      "\u001b[0;31mRuntimeError\u001b[0m                              Traceback (most recent call last)",
      "\u001b[1;32m/home/matthewb/ANI-Peptides/demos/ANI_minimal.ipynb Cell 2'\u001b[0m in \u001b[0;36m<module>\u001b[0;34m\u001b[0m\n\u001b[1;32m      <a href='vscode-notebook-cell:/home/matthewb/ANI-Peptides/demos/ANI_minimal.ipynb#ch0000002?line=8'>9</a>\u001b[0m pdb \u001b[39m=\u001b[39m PDBFile(\u001b[39m\"\u001b[39m\u001b[39m../pdbs_equilibrated/aaa/aaa_capped_amber_equilibrated.pdb\u001b[39m\u001b[39m\"\u001b[39m)\n\u001b[1;32m     <a href='vscode-notebook-cell:/home/matthewb/ANI-Peptides/demos/ANI_minimal.ipynb#ch0000002?line=9'>10</a>\u001b[0m potential \u001b[39m=\u001b[39m openmmml\u001b[39m.\u001b[39mMLPotential(\u001b[39m'\u001b[39m\u001b[39mani2x\u001b[39m\u001b[39m'\u001b[39m)\n\u001b[0;32m---> <a href='vscode-notebook-cell:/home/matthewb/ANI-Peptides/demos/ANI_minimal.ipynb#ch0000002?line=10'>11</a>\u001b[0m system \u001b[39m=\u001b[39m potential\u001b[39m.\u001b[39;49mcreateSystem(\n\u001b[1;32m     <a href='vscode-notebook-cell:/home/matthewb/ANI-Peptides/demos/ANI_minimal.ipynb#ch0000002?line=11'>12</a>\u001b[0m     pdb\u001b[39m.\u001b[39;49mtopology,\n\u001b[1;32m     <a href='vscode-notebook-cell:/home/matthewb/ANI-Peptides/demos/ANI_minimal.ipynb#ch0000002?line=12'>13</a>\u001b[0m     nonbondedMethod\u001b[39m=\u001b[39;49mPME,\n\u001b[1;32m     <a href='vscode-notebook-cell:/home/matthewb/ANI-Peptides/demos/ANI_minimal.ipynb#ch0000002?line=13'>14</a>\u001b[0m     nonbondedCutoff\u001b[39m=\u001b[39;49m\u001b[39m1\u001b[39;49m\u001b[39m*\u001b[39;49mnanometer,\n\u001b[1;32m     <a href='vscode-notebook-cell:/home/matthewb/ANI-Peptides/demos/ANI_minimal.ipynb#ch0000002?line=14'>15</a>\u001b[0m     constraints\u001b[39m=\u001b[39;49mHBonds,\n\u001b[1;32m     <a href='vscode-notebook-cell:/home/matthewb/ANI-Peptides/demos/ANI_minimal.ipynb#ch0000002?line=15'>16</a>\u001b[0m     hydrogenMass\u001b[39m=\u001b[39;49m\u001b[39m1\u001b[39;49m\u001b[39m*\u001b[39;49mamu \u001b[39m# required\u001b[39;49;00m\n\u001b[1;32m     <a href='vscode-notebook-cell:/home/matthewb/ANI-Peptides/demos/ANI_minimal.ipynb#ch0000002?line=16'>17</a>\u001b[0m )\n\u001b[1;32m     <a href='vscode-notebook-cell:/home/matthewb/ANI-Peptides/demos/ANI_minimal.ipynb#ch0000002?line=18'>19</a>\u001b[0m \u001b[39m# Setup simulation\u001b[39;00m\n\u001b[1;32m     <a href='vscode-notebook-cell:/home/matthewb/ANI-Peptides/demos/ANI_minimal.ipynb#ch0000002?line=19'>20</a>\u001b[0m integrator \u001b[39m=\u001b[39m LangevinIntegrator(\n\u001b[1;32m     <a href='vscode-notebook-cell:/home/matthewb/ANI-Peptides/demos/ANI_minimal.ipynb#ch0000002?line=20'>21</a>\u001b[0m     \u001b[39m300\u001b[39m \u001b[39m*\u001b[39m kelvin, \n\u001b[1;32m     <a href='vscode-notebook-cell:/home/matthewb/ANI-Peptides/demos/ANI_minimal.ipynb#ch0000002?line=21'>22</a>\u001b[0m     \u001b[39m1\u001b[39m \u001b[39m/\u001b[39m picosecond, \n\u001b[1;32m     <a href='vscode-notebook-cell:/home/matthewb/ANI-Peptides/demos/ANI_minimal.ipynb#ch0000002?line=22'>23</a>\u001b[0m     \u001b[39m2.0\u001b[39m \u001b[39m*\u001b[39m femtosecond,\n\u001b[1;32m     <a href='vscode-notebook-cell:/home/matthewb/ANI-Peptides/demos/ANI_minimal.ipynb#ch0000002?line=23'>24</a>\u001b[0m )\n",
      "File \u001b[0;32m~/miniconda/envs/ani/lib/python3.9/site-packages/openmmml/mlpotential.py:174\u001b[0m, in \u001b[0;36mMLPotential.createSystem\u001b[0;34m(self, topology, **args)\u001b[0m\n\u001b[1;32m    <a href='file:///~/miniconda/envs/ani/lib/python3.9/site-packages/openmmml/mlpotential.py?line=171'>172</a>\u001b[0m     \u001b[39melse\u001b[39;00m:\n\u001b[1;32m    <a href='file:///~/miniconda/envs/ani/lib/python3.9/site-packages/openmmml/mlpotential.py?line=172'>173</a>\u001b[0m         system\u001b[39m.\u001b[39maddParticle(atom\u001b[39m.\u001b[39melement\u001b[39m.\u001b[39mmass)\n\u001b[0;32m--> <a href='file:///~/miniconda/envs/ani/lib/python3.9/site-packages/openmmml/mlpotential.py?line=173'>174</a>\u001b[0m \u001b[39mself\u001b[39;49m\u001b[39m.\u001b[39;49m_impl\u001b[39m.\u001b[39;49maddForces(topology, system, \u001b[39mNone\u001b[39;49;00m, \u001b[39m0\u001b[39;49m, \u001b[39m*\u001b[39;49m\u001b[39m*\u001b[39;49margs)\n\u001b[1;32m    <a href='file:///~/miniconda/envs/ani/lib/python3.9/site-packages/openmmml/mlpotential.py?line=174'>175</a>\u001b[0m \u001b[39mreturn\u001b[39;00m system\n",
      "File \u001b[0;32m~/miniconda/envs/ani/lib/python3.9/site-packages/openmmml/models/anipotential.py:91\u001b[0m, in \u001b[0;36mANIPotentialImpl.addForces\u001b[0;34m(self, topology, system, atoms, forceGroup, filename, implementation, **args)\u001b[0m\n\u001b[1;32m     <a href='file:///~/miniconda/envs/ani/lib/python3.9/site-packages/openmmml/models/anipotential.py?line=88'>89</a>\u001b[0m     \u001b[39mfrom\u001b[39;00m \u001b[39mNNPOps\u001b[39;00m \u001b[39mimport\u001b[39;00m OptimizedTorchANI\n\u001b[1;32m     <a href='file:///~/miniconda/envs/ani/lib/python3.9/site-packages/openmmml/models/anipotential.py?line=89'>90</a>\u001b[0m     device \u001b[39m=\u001b[39m torch\u001b[39m.\u001b[39mdevice(\u001b[39m'\u001b[39m\u001b[39mcuda\u001b[39m\u001b[39m'\u001b[39m)\n\u001b[0;32m---> <a href='file:///~/miniconda/envs/ani/lib/python3.9/site-packages/openmmml/models/anipotential.py?line=90'>91</a>\u001b[0m     model \u001b[39m=\u001b[39m OptimizedTorchANI(model, species)\u001b[39m.\u001b[39mto(device)\n\u001b[1;32m     <a href='file:///~/miniconda/envs/ani/lib/python3.9/site-packages/openmmml/models/anipotential.py?line=91'>92</a>\u001b[0m \u001b[39melif\u001b[39;00m implementation \u001b[39m==\u001b[39m \u001b[39m\"\u001b[39m\u001b[39mcuaev\u001b[39m\u001b[39m\"\u001b[39m:\n\u001b[1;32m     <a href='file:///~/miniconda/envs/ani/lib/python3.9/site-packages/openmmml/models/anipotential.py?line=92'>93</a>\u001b[0m     \u001b[39mself\u001b[39m\u001b[39m.\u001b[39mmodel\u001b[39m.\u001b[39maev_computer\u001b[39m.\u001b[39muse_cuda_extension \u001b[39m=\u001b[39m \u001b[39mTrue\u001b[39;00m\n",
      "File \u001b[0;32m~/miniconda/envs/ani/lib/python3.9/site-packages/NNPOps/OptimizedTorchANI.py:44\u001b[0m, in \u001b[0;36mOptimizedTorchANI.__init__\u001b[0;34m(self, model, atomicNumbers)\u001b[0m\n\u001b[1;32m     <a href='file:///~/miniconda/envs/ani/lib/python3.9/site-packages/NNPOps/OptimizedTorchANI.py?line=41'>42</a>\u001b[0m \u001b[39mself\u001b[39m\u001b[39m.\u001b[39mspecies_converter \u001b[39m=\u001b[39m TorchANISpeciesConverter(model\u001b[39m.\u001b[39mspecies_converter, atomicNumbers)\n\u001b[1;32m     <a href='file:///~/miniconda/envs/ani/lib/python3.9/site-packages/NNPOps/OptimizedTorchANI.py?line=42'>43</a>\u001b[0m \u001b[39mself\u001b[39m\u001b[39m.\u001b[39maev_computer \u001b[39m=\u001b[39m TorchANISymmetryFunctions(model\u001b[39m.\u001b[39maev_computer)\n\u001b[0;32m---> <a href='file:///~/miniconda/envs/ani/lib/python3.9/site-packages/NNPOps/OptimizedTorchANI.py?line=43'>44</a>\u001b[0m \u001b[39mself\u001b[39m\u001b[39m.\u001b[39mneural_networks \u001b[39m=\u001b[39m TorchANIBatchedNN(model\u001b[39m.\u001b[39;49mspecies_converter, model\u001b[39m.\u001b[39;49mneural_networks, atomicNumbers)\n\u001b[1;32m     <a href='file:///~/miniconda/envs/ani/lib/python3.9/site-packages/NNPOps/OptimizedTorchANI.py?line=44'>45</a>\u001b[0m \u001b[39mself\u001b[39m\u001b[39m.\u001b[39menergy_shifter \u001b[39m=\u001b[39m TorchANIEnergyShifter(model\u001b[39m.\u001b[39mspecies_converter, model\u001b[39m.\u001b[39menergy_shifter, atomicNumbers)\n",
      "File \u001b[0;32m~/miniconda/envs/ani/lib/python3.9/site-packages/NNPOps/BatchedNN.py:119\u001b[0m, in \u001b[0;36mTorchANIBatchedNN.__init__\u001b[0;34m(self, converter, ensemble, atomicNumbers)\u001b[0m\n\u001b[1;32m    <a href='file:///~/miniconda/envs/ani/lib/python3.9/site-packages/NNPOps/BatchedNN.py?line=117'>118</a>\u001b[0m \u001b[39mdef\u001b[39;00m \u001b[39m__init__\u001b[39m(\u001b[39mself\u001b[39m, converter: SpeciesConverter, ensemble: Union[ANIModel, Ensemble], atomicNumbers: Tensor):\n\u001b[0;32m--> <a href='file:///~/miniconda/envs/ani/lib/python3.9/site-packages/NNPOps/BatchedNN.py?line=118'>119</a>\u001b[0m     \u001b[39msuper\u001b[39m()\u001b[39m.\u001b[39m\u001b[39m__init__\u001b[39m([_BatchedNN(converter, ensemble, atomicNumbers)])\n",
      "File \u001b[0;32m~/miniconda/envs/ani/lib/python3.9/site-packages/NNPOps/BatchedNN.py:59\u001b[0m, in \u001b[0;36m_BatchedNN.__init__\u001b[0;34m(self, converter, ensemble, atomicNumbers)\u001b[0m\n\u001b[1;32m     <a href='file:///~/miniconda/envs/ani/lib/python3.9/site-packages/NNPOps/BatchedNN.py?line=56'>57</a>\u001b[0m \u001b[39mfor\u001b[39;00m ilayer \u001b[39min\u001b[39;00m [\u001b[39m0\u001b[39m, \u001b[39m2\u001b[39m, \u001b[39m4\u001b[39m, \u001b[39m6\u001b[39m]:\n\u001b[1;32m     <a href='file:///~/miniconda/envs/ani/lib/python3.9/site-packages/NNPOps/BatchedNN.py?line=57'>58</a>\u001b[0m     layers \u001b[39m=\u001b[39m [[model[species][ilayer] \u001b[39mfor\u001b[39;00m species \u001b[39min\u001b[39;00m species_list] \u001b[39mfor\u001b[39;00m model \u001b[39min\u001b[39;00m models]\n\u001b[0;32m---> <a href='file:///~/miniconda/envs/ani/lib/python3.9/site-packages/NNPOps/BatchedNN.py?line=58'>59</a>\u001b[0m     weights, biases \u001b[39m=\u001b[39m \u001b[39mself\u001b[39;49m\u001b[39m.\u001b[39;49mbatchLinearLayers(layers)\n\u001b[1;32m     <a href='file:///~/miniconda/envs/ani/lib/python3.9/site-packages/NNPOps/BatchedNN.py?line=59'>60</a>\u001b[0m     \u001b[39mself\u001b[39m\u001b[39m.\u001b[39mregister_buffer(\u001b[39mf\u001b[39m\u001b[39m'\u001b[39m\u001b[39mlayer\u001b[39m\u001b[39m{\u001b[39;00milayer\u001b[39m}\u001b[39;00m\u001b[39m_weights\u001b[39m\u001b[39m'\u001b[39m, weights)\n\u001b[1;32m     <a href='file:///~/miniconda/envs/ani/lib/python3.9/site-packages/NNPOps/BatchedNN.py?line=60'>61</a>\u001b[0m     \u001b[39mself\u001b[39m\u001b[39m.\u001b[39mregister_buffer(\u001b[39mf\u001b[39m\u001b[39m'\u001b[39m\u001b[39mlayer\u001b[39m\u001b[39m{\u001b[39;00milayer\u001b[39m}\u001b[39;00m\u001b[39m_biases\u001b[39m\u001b[39m'\u001b[39m, biases)\n",
      "File \u001b[0;32m~/miniconda/envs/ani/lib/python3.9/site-packages/NNPOps/BatchedNN.py:79\u001b[0m, in \u001b[0;36m_BatchedNN.batchLinearLayers\u001b[0;34m(layers)\u001b[0m\n\u001b[1;32m     <a href='file:///~/miniconda/envs/ani/lib/python3.9/site-packages/NNPOps/BatchedNN.py?line=75'>76</a>\u001b[0m max_in \u001b[39m=\u001b[39m \u001b[39mmax\u001b[39m(layer\u001b[39m.\u001b[39min_features \u001b[39mfor\u001b[39;00m layer \u001b[39min\u001b[39;00m \u001b[39msum\u001b[39m(layers, []))\n\u001b[1;32m     <a href='file:///~/miniconda/envs/ani/lib/python3.9/site-packages/NNPOps/BatchedNN.py?line=77'>78</a>\u001b[0m \u001b[39m# Copy weights and biases\u001b[39;00m\n\u001b[0;32m---> <a href='file:///~/miniconda/envs/ani/lib/python3.9/site-packages/NNPOps/BatchedNN.py?line=78'>79</a>\u001b[0m weights \u001b[39m=\u001b[39m torch\u001b[39m.\u001b[39;49mzeros((\u001b[39m1\u001b[39;49m, num_atoms, num_models, max_out, max_in), dtype\u001b[39m=\u001b[39;49mtorch\u001b[39m.\u001b[39;49mfloat32)\n\u001b[1;32m     <a href='file:///~/miniconda/envs/ani/lib/python3.9/site-packages/NNPOps/BatchedNN.py?line=79'>80</a>\u001b[0m biases  \u001b[39m=\u001b[39m torch\u001b[39m.\u001b[39mzeros((\u001b[39m1\u001b[39m, num_atoms, num_models, max_out,      \u001b[39m1\u001b[39m), dtype\u001b[39m=\u001b[39mtorch\u001b[39m.\u001b[39mfloat32)\n\u001b[1;32m     <a href='file:///~/miniconda/envs/ani/lib/python3.9/site-packages/NNPOps/BatchedNN.py?line=80'>81</a>\u001b[0m \u001b[39mfor\u001b[39;00m imodel, sublayers \u001b[39min\u001b[39;00m \u001b[39menumerate\u001b[39m(layers):\n",
      "\u001b[0;31mRuntimeError\u001b[0m: [enforce fail at CPUAllocator.cpp:61] . DefaultCPUAllocator: can't allocate memory: you tried to allocate 33542111232 bytes. Error code 12 (Cannot allocate memory)"
     ]
    }
   ],
   "source": [
    "# Import libraries\n",
    "from openmm.app import *\n",
    "from openmm import *\n",
    "from openmm.unit import *\n",
    "import openmmml\n",
    "import sys\n",
    "\n",
    "# Load small alanine tripeptide system\n",
    "pdb = PDBFile(\"../pdbs/aaa_capped.pdb\")\n",
    "potential = openmmml.MLPotential('ani2x')\n",
    "system = potential.createSystem(\n",
    "    pdb.topology,\n",
    "    nonbondedMethod=PME,\n",
    "    nonbondedCutoff=1*nanometer,\n",
    "    constraints=HBonds,\n",
    "    hydrogenMass=1*amu # required\n",
    ")\n",
    "\n",
    "# Setup simulation\n",
    "integrator = LangevinIntegrator(\n",
    "    300 * kelvin, \n",
    "    1 / picosecond, \n",
    "    2.0 * femtosecond,\n",
    ")\n",
    "simulation = Simulation(\n",
    "    pdb.topology,\n",
    "    system,\n",
    "    integrator,\n",
    ")\n",
    "STEPS = 1000\n",
    "simulation.reporters.append(\n",
    "    StateDataReporter(\n",
    "        sys.stdout, \n",
    "        30, \n",
    "        totalSteps=STEPS,\n",
    "        speed=True,\n",
    "        progress=True,\n",
    "        remainingTime=True,\n",
    "    )\n",
    ")\n",
    "simulation.context.setPositions(pdb.positions)\n",
    "\n",
    "# Minimise and run\n",
    "simulation.minimizeEnergy()\n",
    "simulation.step(STEPS)\n",
    "print(\"done\")"
   ]
  },
  {
   "cell_type": "markdown",
   "id": "04715fa6",
   "metadata": {},
   "source": [
    "# Large Solvated System, Mixed ANI/AMBER, ~2500 atoms\n",
    "\n",
    "ANI2x is used for the peptide, and AMBER for the solvent.\n",
    "\n",
    "ANI2x cannot be used alone for such a large system, as it uses too much memory. I read somewhere that memory usage is ~On^2 for number of atoms"
   ]
  },
  {
   "cell_type": "code",
   "execution_count": null,
   "id": "21708b9e",
   "metadata": {},
   "outputs": [],
   "source": [
    "# Import libraries\n",
    "from openmm.app import *\n",
    "from openmm import *\n",
    "from openmm.unit import *\n",
    "import openmmml\n",
    "import sys\n",
    "\n",
    "# Load solvated, equilibrated system\n",
    "pdb = PDBFile(\"../pdbs_equilibrated/aaa/aaa_capped_amber_equilibrated.pdb\")\n",
    "\n",
    "# Select peptide (non-water) atoms to be simulated by ANI\n",
    "peptide_atoms = [atom.index for atom in pdb.topology.atoms() if atom.residue.name != \"HOH\"]\n",
    "\n",
    "# Create amber system\n",
    "amber_system = ForceField(\n",
    "    'amber14-all.xml',\n",
    "    'amber14/tip3p.xml'\n",
    ").createSystem(\n",
    "    pdb.topology,\n",
    "    nonbondedMethod=PME,\n",
    "    nonbondedCutoff=1*nanometer,\n",
    "    constraints=HBonds,\n",
    "    hydrogenMass=1*amu # required\n",
    ")\n",
    "\n",
    "# Setup mixed system\n",
    "potential = openmmml.MLPotential('ani2x')\n",
    "system = potential.createMixedSystem(\n",
    "    pdb.topology,\n",
    "    amber_system,\n",
    "    peptide_atoms\n",
    ")\n",
    "\n",
    "# Setup simulation\n",
    "integrator = LangevinIntegrator(\n",
    "    300 * kelvin, \n",
    "    1 / picosecond, \n",
    "    2 * femtosecond, # higher stepsizes are unstable\n",
    ")\n",
    "simulation = Simulation(\n",
    "    pdb.topology,\n",
    "    system,\n",
    "    integrator,\n",
    ")\n",
    "STEPS = 1000\n",
    "simulation.reporters.append(\n",
    "    StateDataReporter(\n",
    "        sys.stdout, \n",
    "        30, \n",
    "        totalSteps=STEPS,\n",
    "        speed=True,\n",
    "        progress=True,\n",
    "        remainingTime=True,\n",
    "    )\n",
    ")\n",
    "simulation.context.setPositions(pdb.positions)\n",
    "\n",
    "# Minimise and run\n",
    "simulation.minimizeEnergy()\n",
    "simulation.step(STEPS)\n",
    "print(\"done\")\n"
   ]
  }
 ],
 "metadata": {
  "kernelspec": {
   "display_name": "Python 3 (ipykernel)",
   "language": "python",
   "name": "python3"
  },
  "language_info": {
   "codemirror_mode": {
    "name": "ipython",
    "version": 3
   },
   "file_extension": ".py",
   "mimetype": "text/x-python",
   "name": "python",
   "nbconvert_exporter": "python",
   "pygments_lexer": "ipython3",
   "version": "3.9.10"
  }
 },
 "nbformat": 4,
 "nbformat_minor": 5
}
