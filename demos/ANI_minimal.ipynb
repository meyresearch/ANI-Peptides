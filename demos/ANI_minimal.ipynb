{
 "cells": [
  {
   "cell_type": "code",
   "execution_count": 13,
   "id": "7aad2039",
   "metadata": {},
   "outputs": [
    {
     "name": "stdout",
     "output_type": "stream",
     "text": [
      "/home/matthewb/miniconda/envs/ani/lib/python3.9/site-packages/torchani/resources/\n"
     ]
    }
   ],
   "source": [
    "# Import libraries\n",
    "from openmm.app import *\n",
    "from openmm import *\n",
    "from openmm.unit import *\n",
    "import openmmml\n",
    "import sys\n",
    "\n",
    "import importlib\n",
    "importlib.reload(openmmml)\n",
    "\n",
    "# Setup\n",
    "pdb = PDBFile(\"../pdbs/aaa.pdb\")\n",
    "potential = openmmml.MLPotential('ani2x')\n",
    "system = potential.createSystem(pdb.topology)"
   ]
  },
  {
   "cell_type": "code",
   "execution_count": 12,
   "id": "21708b9e",
   "metadata": {},
   "outputs": [
    {
     "name": "stdout",
     "output_type": "stream",
     "text": [
      "/home/matthewb/miniconda/envs/ani/lib/python3.9/site-packages/torchani/resources/\n"
     ]
    }
   ],
   "source": [
    "# Import libraries\n",
    "from openmm.app import *\n",
    "from openmm import *\n",
    "from openmm.unit import *\n",
    "import openmmml\n",
    "import sys\n",
    "\n",
    "import importlib\n",
    "importlib.reload(openmmml)\n",
    "\n",
    "pdb = PDBFile(\"../pdbs_equilibrated/aaa_amber.pdb\")\n",
    "# pdb.topology.setPeriodicBoxVectors(None)\n",
    "\n",
    "amber_system = forcefield = ForceField(\n",
    "    'amber14-all.xml',\n",
    "    'amber14/tip3p.xml'\n",
    ").createSystem(\n",
    "    pdb.topology,\n",
    "    nonbondedMethod=PME,\n",
    "    nonbondedCutoff=1*nanometer,\n",
    "    constraints=AllBonds,\n",
    "    hydrogenMass=4*amu\n",
    ")\n",
    "\n",
    "ani_atoms = [atom.index for atom in pdb.topology.atoms() if atom.residue.name != \"HOH\"]\n",
    "\n",
    "# Setup\n",
    "potential = openmmml.MLPotential('ani2x')\n",
    "system = potential.createMixedSystem(\n",
    "    pdb.topology,\n",
    "    amber_system,\n",
    "    ani_atoms\n",
    ")\n"
   ]
  },
  {
   "cell_type": "markdown",
   "id": "04715fa6",
   "metadata": {},
   "source": [
    "# Works fine on CPU (slow)"
   ]
  },
  {
   "cell_type": "code",
   "execution_count": 15,
   "id": "10fe30d4",
   "metadata": {},
   "outputs": [
    {
     "name": "stdout",
     "output_type": "stream",
     "text": [
      "#\"Progress (%)\",\"Speed (ns/day)\",\"Time Remaining\"\n",
      "3.0%,0,--\n",
      "6.0%,29.7,0:02\n",
      "9.0%,30.3,0:02\n",
      "12.0%,30.4,0:02\n",
      "15.0%,30.5,0:02\n",
      "18.0%,30.6,0:02\n",
      "21.0%,30.5,0:02\n",
      "24.0%,30.5,0:02\n",
      "27.0%,30.5,0:02\n",
      "30.0%,30.4,0:01\n",
      "33.0%,30.3,0:01\n",
      "36.0%,30.3,0:01\n",
      "39.0%,30.3,0:01\n",
      "42.0%,30.3,0:01\n",
      "45.0%,30.3,0:01\n",
      "48.0%,30.3,0:01\n",
      "51.0%,30.3,0:01\n",
      "54.0%,30.3,0:01\n",
      "57.0%,30.3,0:01\n",
      "60.0%,30.3,0:01\n",
      "63.0%,30.3,0:01\n",
      "66.0%,30.4,0:00\n",
      "69.0%,30.4,0:00\n",
      "72.0%,30.4,0:00\n",
      "75.0%,30.4,0:00\n",
      "78.0%,30.4,0:00\n",
      "81.0%,30.4,0:00\n",
      "84.0%,30.4,0:00\n",
      "87.0%,30.4,0:00\n",
      "90.0%,30.4,0:00\n",
      "93.0%,30.4,0:00\n",
      "96.0%,30.3,0:00\n",
      "99.0%,30.3,0:00\n",
      "done\n"
     ]
    }
   ],
   "source": [
    "integrator = LangevinIntegrator(\n",
    "    300 * kelvin, \n",
    "    1 / picosecond, \n",
    "    1.0 * femtosecond,\n",
    ")\n",
    "simulation = Simulation(\n",
    "    pdb.topology,\n",
    "    system,\n",
    "    integrator,\n",
    "    # Platform.getPlatformByName(\"CPU\"),\n",
    ")\n",
    "STEPS = 1000\n",
    "simulation.reporters.append(\n",
    "    StateDataReporter(\n",
    "        sys.stdout, \n",
    "        30, \n",
    "        totalSteps=STEPS,\n",
    "        speed=True,\n",
    "        progress=True,\n",
    "        remainingTime=True,\n",
    "    )\n",
    ")\n",
    "simulation.context.setPositions(pdb.positions)\n",
    "simulation.minimizeEnergy()\n",
    "simulation.step(STEPS)\n",
    "print(\"done\")"
   ]
  },
  {
   "cell_type": "markdown",
   "id": "36aea913",
   "metadata": {},
   "source": [
    "# Breaks with CUDA"
   ]
  },
  {
   "cell_type": "code",
   "execution_count": 10,
   "id": "18de8aab",
   "metadata": {},
   "outputs": [
    {
     "name": "stdout",
     "output_type": "stream",
     "text": [
      "#\"Progress (%)\",\"Speed (ns/day)\",\"Time Remaining\"\n",
      "3.0%,0,--\n",
      "6.0%,27.8,0:02\n",
      "9.0%,27.9,0:02\n",
      "12.0%,27.8,0:02\n",
      "15.0%,27.9,0:02\n",
      "18.0%,27.9,0:02\n",
      "21.0%,27.9,0:02\n",
      "24.0%,27.8,0:02\n",
      "27.0%,27.8,0:02\n",
      "30.0%,27.8,0:02\n",
      "33.0%,27.8,0:02\n",
      "36.0%,27.8,0:01\n",
      "39.0%,27.9,0:01\n",
      "42.0%,27.9,0:01\n",
      "45.0%,27.9,0:01\n",
      "48.0%,27.9,0:01\n",
      "51.0%,27.9,0:01\n",
      "54.0%,27.9,0:01\n",
      "57.0%,28,0:01\n",
      "60.0%,28,0:01\n",
      "63.0%,28,0:01\n",
      "66.0%,28,0:01\n",
      "69.0%,28,0:00\n",
      "72.0%,28,0:00\n",
      "75.0%,28,0:00\n",
      "78.0%,28,0:00\n",
      "81.0%,28.1,0:00\n",
      "84.0%,28.1,0:00\n",
      "87.0%,28.1,0:00\n",
      "90.0%,28.1,0:00\n",
      "93.0%,28.1,0:00\n",
      "96.0%,28.1,0:00\n",
      "99.0%,28.1,0:00\n",
      "done\n"
     ]
    }
   ],
   "source": [
    "integrator = LangevinIntegrator(\n",
    "    300 * kelvin, \n",
    "    1 / picosecond, \n",
    "    1.0 * femtosecond,\n",
    ")\n",
    "simulation = Simulation(\n",
    "    pdb.topology,\n",
    "    system,\n",
    "    integrator,\n",
    "    Platform.getPlatformByName(\"CUDA\"),\n",
    ")\n",
    "STEPS = 1000\n",
    "simulation.reporters.append(\n",
    "    StateDataReporter(\n",
    "        sys.stdout, \n",
    "        30, \n",
    "        totalSteps=STEPS,\n",
    "        speed=True,\n",
    "        progress=True,\n",
    "        remainingTime=True,\n",
    "    )\n",
    ")\n",
    "simulation.context.setPositions(pdb.positions)\n",
    "simulation.minimizeEnergy()\n",
    "simulation.step(STEPS)\n",
    "print(\"done\")"
   ]
  },
  {
   "cell_type": "markdown",
   "id": "90a3a8ed",
   "metadata": {},
   "source": [
    "# Troubleshooting"
   ]
  },
  {
   "cell_type": "code",
   "execution_count": 8,
   "id": "4eb7bdae",
   "metadata": {},
   "outputs": [
    {
     "name": "stdout",
     "output_type": "stream",
     "text": [
      "/bin/bash: conda: command not found\n"
     ]
    }
   ],
   "source": [
    "!conda list | grep -E \"torch|openmm\""
   ]
  },
  {
   "cell_type": "code",
   "execution_count": 4,
   "id": "8912a80a",
   "metadata": {},
   "outputs": [
    {
     "name": "stdout",
     "output_type": "stream",
     "text": [
      "False\n"
     ]
    },
    {
     "name": "stderr",
     "output_type": "stream",
     "text": [
      "/home/matthewb/miniconda/envs/ani/lib/python3.9/site-packages/torch/cuda/__init__.py:80: UserWarning: CUDA initialization: CUDA unknown error - this may be due to an incorrectly set up environment, e.g. changing env variable CUDA_VISIBLE_DEVICES after program start. Setting the available devices to be zero. (Triggered internally at  /home/conda/feedstock_root/build_artifacts/pytorch-recipe_1640869844479/work/c10/cuda/CUDAFunctions.cpp:112.)\n",
      "  return torch._C._cuda_getDeviceCount() > 0\n"
     ]
    },
    {
     "ename": "RuntimeError",
     "evalue": "CUDA unknown error - this may be due to an incorrectly set up environment, e.g. changing env variable CUDA_VISIBLE_DEVICES after program start. Setting the available devices to be zero.",
     "output_type": "error",
     "traceback": [
      "\u001b[0;31m---------------------------------------------------------------------------\u001b[0m",
      "\u001b[0;31mRuntimeError\u001b[0m                              Traceback (most recent call last)",
      "Input \u001b[0;32mIn [4]\u001b[0m, in \u001b[0;36m<module>\u001b[0;34m\u001b[0m\n\u001b[1;32m      1\u001b[0m \u001b[38;5;28;01mimport\u001b[39;00m \u001b[38;5;21;01mtorch\u001b[39;00m\n\u001b[1;32m      3\u001b[0m \u001b[38;5;28mprint\u001b[39m(torch\u001b[38;5;241m.\u001b[39mcuda\u001b[38;5;241m.\u001b[39mis_available())\n\u001b[0;32m----> 4\u001b[0m \u001b[38;5;28mprint\u001b[39m(\u001b[43mtorch\u001b[49m\u001b[38;5;241;43m.\u001b[39;49m\u001b[43mcuda\u001b[49m\u001b[38;5;241;43m.\u001b[39;49m\u001b[43mcurrent_device\u001b[49m\u001b[43m(\u001b[49m\u001b[43m)\u001b[49m)\n\u001b[1;32m      5\u001b[0m \u001b[38;5;28mprint\u001b[39m(torch\u001b[38;5;241m.\u001b[39mcuda\u001b[38;5;241m.\u001b[39mdevice(\u001b[38;5;241m0\u001b[39m))\n\u001b[1;32m      6\u001b[0m \u001b[38;5;28mprint\u001b[39m(torch\u001b[38;5;241m.\u001b[39mcuda\u001b[38;5;241m.\u001b[39mdevice_count())\n",
      "File \u001b[0;32m~/miniconda/envs/ani/lib/python3.9/site-packages/torch/cuda/__init__.py:479\u001b[0m, in \u001b[0;36mcurrent_device\u001b[0;34m()\u001b[0m\n\u001b[1;32m    477\u001b[0m \u001b[38;5;28;01mdef\u001b[39;00m \u001b[38;5;21mcurrent_device\u001b[39m() \u001b[38;5;241m-\u001b[39m\u001b[38;5;241m>\u001b[39m \u001b[38;5;28mint\u001b[39m:\n\u001b[1;32m    478\u001b[0m     \u001b[38;5;124mr\u001b[39m\u001b[38;5;124;03m\"\"\"Returns the index of a currently selected device.\"\"\"\u001b[39;00m\n\u001b[0;32m--> 479\u001b[0m     \u001b[43m_lazy_init\u001b[49m\u001b[43m(\u001b[49m\u001b[43m)\u001b[49m\n\u001b[1;32m    480\u001b[0m     \u001b[38;5;28;01mreturn\u001b[39;00m torch\u001b[38;5;241m.\u001b[39m_C\u001b[38;5;241m.\u001b[39m_cuda_getDevice()\n",
      "File \u001b[0;32m~/miniconda/envs/ani/lib/python3.9/site-packages/torch/cuda/__init__.py:214\u001b[0m, in \u001b[0;36m_lazy_init\u001b[0;34m()\u001b[0m\n\u001b[1;32m    210\u001b[0m     \u001b[38;5;28;01mraise\u001b[39;00m \u001b[38;5;167;01mAssertionError\u001b[39;00m(\n\u001b[1;32m    211\u001b[0m         \u001b[38;5;124m\"\u001b[39m\u001b[38;5;124mlibcudart functions unavailable. It looks like you have a broken build?\u001b[39m\u001b[38;5;124m\"\u001b[39m)\n\u001b[1;32m    212\u001b[0m \u001b[38;5;66;03m# This function throws if there's a driver initialization error, no GPUs\u001b[39;00m\n\u001b[1;32m    213\u001b[0m \u001b[38;5;66;03m# are found or any other error occurs\u001b[39;00m\n\u001b[0;32m--> 214\u001b[0m \u001b[43mtorch\u001b[49m\u001b[38;5;241;43m.\u001b[39;49m\u001b[43m_C\u001b[49m\u001b[38;5;241;43m.\u001b[39;49m\u001b[43m_cuda_init\u001b[49m\u001b[43m(\u001b[49m\u001b[43m)\u001b[49m\n\u001b[1;32m    215\u001b[0m \u001b[38;5;66;03m# Some of the queued calls may reentrantly call _lazy_init();\u001b[39;00m\n\u001b[1;32m    216\u001b[0m \u001b[38;5;66;03m# we need to just return without initializing in that case.\u001b[39;00m\n\u001b[1;32m    217\u001b[0m \u001b[38;5;66;03m# However, we must not let any *other* threads in!\u001b[39;00m\n\u001b[1;32m    218\u001b[0m _tls\u001b[38;5;241m.\u001b[39mis_initializing \u001b[38;5;241m=\u001b[39m \u001b[38;5;28;01mTrue\u001b[39;00m\n",
      "\u001b[0;31mRuntimeError\u001b[0m: CUDA unknown error - this may be due to an incorrectly set up environment, e.g. changing env variable CUDA_VISIBLE_DEVICES after program start. Setting the available devices to be zero."
     ]
    }
   ],
   "source": [
    "import torch\n",
    "\n",
    "print(torch.cuda.is_available())\n",
    "print(torch.cuda.current_device())\n",
    "print(torch.cuda.device(0))\n",
    "print(torch.cuda.device_count())\n",
    "print(torch.cuda.get_device_name(0))"
   ]
  }
 ],
 "metadata": {
  "kernelspec": {
   "display_name": "Python 3 (ipykernel)",
   "language": "python",
   "name": "python3"
  },
  "language_info": {
   "codemirror_mode": {
    "name": "ipython",
    "version": 3
   },
   "file_extension": ".py",
   "mimetype": "text/x-python",
   "name": "python",
   "nbconvert_exporter": "python",
   "pygments_lexer": "ipython3",
   "version": "3.9.10"
  }
 },
 "nbformat": 4,
 "nbformat_minor": 5
}
