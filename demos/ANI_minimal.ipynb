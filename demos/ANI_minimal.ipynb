{
 "cells": [
  {
   "cell_type": "code",
   "execution_count": 2,
   "id": "7aad2039",
   "metadata": {},
   "outputs": [
    {
     "name": "stdout",
     "output_type": "stream",
     "text": [
      "/home/mbowley/miniconda3/envs/ani2/lib/python3.9/site-packages/torchani-2.2.3.dev2+g3dfbaf4-py3.9-linux-x86_64.egg/torchani/resources/\n"
     ]
    }
   ],
   "source": [
    "# Import libraries\n",
    "from openmm.app import *\n",
    "from openmm import *\n",
    "from openmm.unit import *\n",
    "from openmmml import MLPotential\n",
    "import sys\n",
    "\n",
    "# Setup\n",
    "pdb = PDBFile(\"aaa.pdb\")\n",
    "potential = MLPotential('ani2x')\n",
    "system = potential.createSystem(pdb.topology)"
   ]
  },
  {
   "cell_type": "markdown",
   "id": "04715fa6",
   "metadata": {},
   "source": [
    "# Works fine on OpenCL"
   ]
  },
  {
   "cell_type": "code",
   "execution_count": 2,
   "id": "10fe30d4",
   "metadata": {},
   "outputs": [
    {
     "name": "stderr",
     "output_type": "stream",
     "text": [
      "[W BinaryOps.cpp:601] Warning: floor_divide is deprecated, and will be removed in a future version of pytorch. It currently rounds toward 0 (like the 'trunc' function NOT 'floor'). This results in incorrect rounding for negative values.\n",
      "To keep the current behavior, use torch.div(a, b, rounding_mode='trunc'), or for actual floor division, use torch.div(a, b, rounding_mode='floor'). (function operator())\n"
     ]
    },
    {
     "ename": "KeyboardInterrupt",
     "evalue": "",
     "output_type": "error",
     "traceback": [
      "\u001b[0;31m---------------------------------------------------------------------------\u001b[0m",
      "\u001b[0;31mKeyboardInterrupt\u001b[0m                         Traceback (most recent call last)",
      "\u001b[0;32m/tmp/ipykernel_712024/1179418996.py\u001b[0m in \u001b[0;36m<module>\u001b[0;34m\u001b[0m\n\u001b[1;32m     12\u001b[0m \u001b[0msimulation\u001b[0m\u001b[0;34m.\u001b[0m\u001b[0mcontext\u001b[0m\u001b[0;34m.\u001b[0m\u001b[0msetPositions\u001b[0m\u001b[0;34m(\u001b[0m\u001b[0mpdb\u001b[0m\u001b[0;34m.\u001b[0m\u001b[0mpositions\u001b[0m\u001b[0;34m)\u001b[0m\u001b[0;34m\u001b[0m\u001b[0;34m\u001b[0m\u001b[0m\n\u001b[1;32m     13\u001b[0m \u001b[0msimulation\u001b[0m\u001b[0;34m.\u001b[0m\u001b[0mminimizeEnergy\u001b[0m\u001b[0;34m(\u001b[0m\u001b[0;34m)\u001b[0m\u001b[0;34m\u001b[0m\u001b[0;34m\u001b[0m\u001b[0m\n\u001b[0;32m---> 14\u001b[0;31m \u001b[0msimulation\u001b[0m\u001b[0;34m.\u001b[0m\u001b[0mstep\u001b[0m\u001b[0;34m(\u001b[0m\u001b[0;36m1000\u001b[0m\u001b[0;34m)\u001b[0m\u001b[0;34m\u001b[0m\u001b[0;34m\u001b[0m\u001b[0m\n\u001b[0m\u001b[1;32m     15\u001b[0m state_reporter = StateDataReporter(\n\u001b[1;32m     16\u001b[0m     \u001b[0msys\u001b[0m\u001b[0;34m.\u001b[0m\u001b[0mstdout\u001b[0m\u001b[0;34m,\u001b[0m\u001b[0;34m\u001b[0m\u001b[0;34m\u001b[0m\u001b[0m\n",
      "\u001b[0;32m~/miniconda3/envs/ani/lib/python3.9/site-packages/openmm/app/simulation.py\u001b[0m in \u001b[0;36mstep\u001b[0;34m(self, steps)\u001b[0m\n\u001b[1;32m    139\u001b[0m     \u001b[0;32mdef\u001b[0m \u001b[0mstep\u001b[0m\u001b[0;34m(\u001b[0m\u001b[0mself\u001b[0m\u001b[0;34m,\u001b[0m \u001b[0msteps\u001b[0m\u001b[0;34m)\u001b[0m\u001b[0;34m:\u001b[0m\u001b[0;34m\u001b[0m\u001b[0;34m\u001b[0m\u001b[0m\n\u001b[1;32m    140\u001b[0m         \u001b[0;34m\"\"\"Advance the simulation by integrating a specified number of time steps.\"\"\"\u001b[0m\u001b[0;34m\u001b[0m\u001b[0;34m\u001b[0m\u001b[0m\n\u001b[0;32m--> 141\u001b[0;31m         \u001b[0mself\u001b[0m\u001b[0;34m.\u001b[0m\u001b[0m_simulate\u001b[0m\u001b[0;34m(\u001b[0m\u001b[0mendStep\u001b[0m\u001b[0;34m=\u001b[0m\u001b[0mself\u001b[0m\u001b[0;34m.\u001b[0m\u001b[0mcurrentStep\u001b[0m\u001b[0;34m+\u001b[0m\u001b[0msteps\u001b[0m\u001b[0;34m)\u001b[0m\u001b[0;34m\u001b[0m\u001b[0;34m\u001b[0m\u001b[0m\n\u001b[0m\u001b[1;32m    142\u001b[0m \u001b[0;34m\u001b[0m\u001b[0m\n\u001b[1;32m    143\u001b[0m     \u001b[0;32mdef\u001b[0m \u001b[0mrunForClockTime\u001b[0m\u001b[0;34m(\u001b[0m\u001b[0mself\u001b[0m\u001b[0;34m,\u001b[0m \u001b[0mtime\u001b[0m\u001b[0;34m,\u001b[0m \u001b[0mcheckpointFile\u001b[0m\u001b[0;34m=\u001b[0m\u001b[0;32mNone\u001b[0m\u001b[0;34m,\u001b[0m \u001b[0mstateFile\u001b[0m\u001b[0;34m=\u001b[0m\u001b[0;32mNone\u001b[0m\u001b[0;34m,\u001b[0m \u001b[0mcheckpointInterval\u001b[0m\u001b[0;34m=\u001b[0m\u001b[0;32mNone\u001b[0m\u001b[0;34m)\u001b[0m\u001b[0;34m:\u001b[0m\u001b[0;34m\u001b[0m\u001b[0;34m\u001b[0m\u001b[0m\n",
      "\u001b[0;32m~/miniconda3/envs/ani/lib/python3.9/site-packages/openmm/app/simulation.py\u001b[0m in \u001b[0;36m_simulate\u001b[0;34m(self, endStep, endTime)\u001b[0m\n\u001b[1;32m    204\u001b[0m             \u001b[0mstepsToGo\u001b[0m \u001b[0;34m=\u001b[0m \u001b[0mnextSteps\u001b[0m\u001b[0;34m\u001b[0m\u001b[0;34m\u001b[0m\u001b[0m\n\u001b[1;32m    205\u001b[0m             \u001b[0;32mwhile\u001b[0m \u001b[0mstepsToGo\u001b[0m \u001b[0;34m>\u001b[0m \u001b[0;36m10\u001b[0m\u001b[0;34m:\u001b[0m\u001b[0;34m\u001b[0m\u001b[0;34m\u001b[0m\u001b[0m\n\u001b[0;32m--> 206\u001b[0;31m                 \u001b[0mself\u001b[0m\u001b[0;34m.\u001b[0m\u001b[0mintegrator\u001b[0m\u001b[0;34m.\u001b[0m\u001b[0mstep\u001b[0m\u001b[0;34m(\u001b[0m\u001b[0;36m10\u001b[0m\u001b[0;34m)\u001b[0m \u001b[0;31m# Only take 10 steps at a time, to give Python more chances to respond to a control-c.\u001b[0m\u001b[0;34m\u001b[0m\u001b[0;34m\u001b[0m\u001b[0m\n\u001b[0m\u001b[1;32m    207\u001b[0m                 \u001b[0mstepsToGo\u001b[0m \u001b[0;34m-=\u001b[0m \u001b[0;36m10\u001b[0m\u001b[0;34m\u001b[0m\u001b[0;34m\u001b[0m\u001b[0m\n\u001b[1;32m    208\u001b[0m                 \u001b[0;32mif\u001b[0m \u001b[0mendTime\u001b[0m \u001b[0;32mis\u001b[0m \u001b[0;32mnot\u001b[0m \u001b[0;32mNone\u001b[0m \u001b[0;32mand\u001b[0m \u001b[0mdatetime\u001b[0m\u001b[0;34m.\u001b[0m\u001b[0mnow\u001b[0m\u001b[0;34m(\u001b[0m\u001b[0;34m)\u001b[0m \u001b[0;34m>=\u001b[0m \u001b[0mendTime\u001b[0m\u001b[0;34m:\u001b[0m\u001b[0;34m\u001b[0m\u001b[0;34m\u001b[0m\u001b[0m\n",
      "\u001b[0;32m~/miniconda3/envs/ani/lib/python3.9/site-packages/openmm/openmm.py\u001b[0m in \u001b[0;36mstep\u001b[0;34m(self, steps)\u001b[0m\n\u001b[1;32m  18845\u001b[0m             \u001b[0mthe\u001b[0m \u001b[0mnumber\u001b[0m \u001b[0mof\u001b[0m \u001b[0mtime\u001b[0m \u001b[0msteps\u001b[0m \u001b[0mto\u001b[0m \u001b[0mtake\u001b[0m\u001b[0;34m\u001b[0m\u001b[0;34m\u001b[0m\u001b[0m\n\u001b[1;32m  18846\u001b[0m         \"\"\"\n\u001b[0;32m> 18847\u001b[0;31m         \u001b[0;32mreturn\u001b[0m \u001b[0m_openmm\u001b[0m\u001b[0;34m.\u001b[0m\u001b[0mLangevinIntegrator_step\u001b[0m\u001b[0;34m(\u001b[0m\u001b[0mself\u001b[0m\u001b[0;34m,\u001b[0m \u001b[0msteps\u001b[0m\u001b[0;34m)\u001b[0m\u001b[0;34m\u001b[0m\u001b[0;34m\u001b[0m\u001b[0m\n\u001b[0m\u001b[1;32m  18848\u001b[0m \u001b[0;34m\u001b[0m\u001b[0m\n\u001b[1;32m  18849\u001b[0m     \u001b[0;32mdef\u001b[0m \u001b[0m__init__\u001b[0m\u001b[0;34m(\u001b[0m\u001b[0mself\u001b[0m\u001b[0;34m,\u001b[0m \u001b[0;34m*\u001b[0m\u001b[0margs\u001b[0m\u001b[0;34m)\u001b[0m\u001b[0;34m:\u001b[0m\u001b[0;34m\u001b[0m\u001b[0;34m\u001b[0m\u001b[0m\n",
      "\u001b[0;31mKeyboardInterrupt\u001b[0m: "
     ]
    }
   ],
   "source": [
    "integrator = LangevinIntegrator(\n",
    "    300 * kelvin, \n",
    "    1 / picosecond, \n",
    "    1.0 * femtosecond,\n",
    ")\n",
    "simulation = Simulation(\n",
    "    pdb.topology,\n",
    "    system,\n",
    "    integrator,\n",
    "    Platform.getPlatformByName(\"CPU\"),\n",
    ")\n",
    "simulation.context.setPositions(pdb.positions)\n",
    "simulation.minimizeEnergy()\n",
    "simulation.step(1000)\n",
    "state_reporter = StateDataReporter(\n",
    "    sys.stdout,\n",
    "    100,\n",
    "    temperature = True,\n",
    "    potentialEnergy = True,\n",
    "    speed=True\n",
    ")\n",
    "simulation.reporters.append(state_reporter)\n",
    "print(\"done\")"
   ]
  },
  {
   "cell_type": "markdown",
   "id": "36aea913",
   "metadata": {},
   "source": [
    "# Breaks with CUDA"
   ]
  },
  {
   "cell_type": "code",
   "execution_count": 4,
   "id": "18de8aab",
   "metadata": {},
   "outputs": [
    {
     "ename": "OpenMMException",
     "evalue": "The following operation failed in the TorchScript interpreter.\nTraceback of TorchScript, serialized code (most recent call last):\n  File \"code/__torch__/openmmml/models/anipotential/___torch_mangle_14.py\", line 31, in forward\n      _5 = torch.mul(boxvectors1, 10.)\n      pbc = self.pbc\n      _6, energy1, = (model0).forward(_4, _5, pbc, )\n                      ~~~~~~~~~~~~~~~ <--- HERE\n      energy = energy1\n    energyScale = self.energyScale\n  File \"code/__torch__/torchani/models.py\", line 32, in forward\n      pass\n    aev_computer = self.aev_computer\n    species_aevs = (aev_computer).forward(species_coordinates0, cell, pbc, )\n                    ~~~~~~~~~~~~~~~~~~~~~ <--- HERE\n    neural_networks = self.neural_networks\n    species_energies = (neural_networks).forward(species_aevs, None, None, )\n  File \"code/__torch__/torchani/aev.py\", line 68, in forward\n        ops.prim.RaiseException(\"AssertionError: \")\n        cell3, pbc0 = _1, _1\n      shifts = _0(cell3, pbc0, 5.0999999999999996, )\n               ~~ <--- HERE\n      triu_index0 = self.triu_index\n      aev1 = __torch__.torchani.aev.compute_aev(species, coordinates, triu_index0, (self).constants(), (7, 16, 112, 32, 896), (cell3, shifts), )\n  File \"code/__torch__/torchani/aev.py\", line 163, in compute_shifts\n  num_repeats = torch.to(_34, 4)\n  _35 = torch.new_zeros(num_repeats, annotate(List[int], []))\n  num_repeats0 = torch.where(pbc, num_repeats, _35)\n                 ~~~~~~~~~~~ <--- HERE\n  _36 = torch.item(torch.select(num_repeats0, 0, 0))\n  r1 = torch.arange(1, torch.add(_36, 1), dtype=None, layout=None, device=ops.prim.device(cell))\n\nTraceback of TorchScript, original code (most recent call last):\n  File \"/home/mbowley/miniconda3/envs/ani2/lib/python3.9/site-packages/openmmml-1.0-py3.9.egg/openmmml/models/anipotential.py\", line 111, in forward\n                else:\n                    boxvectors = boxvectors.to(torch.float32)\n                    _, energy = self.model((self.species, 10.0*positions.unsqueeze(0)), cell=10.0*boxvectors, pbc=self.pbc)\n                                ~~~~~~~~~~ <--- HERE\n                return self.energyScale*energy\n  File \"/home/mbowley/miniconda3/envs/ani2/lib/python3.9/site-packages/torchani-2.2.3.dev2+g3dfbaf4-py3.9-linux-x86_64.egg/torchani/models.py\", line 106, in forward\n            raise ValueError(f'Unknown species found in {species_coordinates[0]}')\n    \n        species_aevs = self.aev_computer(species_coordinates, cell=cell, pbc=pbc)\n                       ~~~~~~~~~~~~~~~~~ <--- HERE\n        species_energies = self.neural_networks(species_aevs)\n        return self.energy_shifter(species_energies)\n  File \"/home/mbowley/miniconda3/envs/ani2/lib/python3.9/site-packages/torchani-2.2.3.dev2+g3dfbaf4-py3.9-linux-x86_64.egg/torchani/aev.py\", line 532, in forward\n            assert (cell is not None and pbc is not None)\n            cutoff = max(self.Rcr, self.Rca)\n            shifts = compute_shifts(cell, pbc, cutoff)\n                     ~~~~~~~~~~~~~~ <--- HERE\n            aev = compute_aev(species, coordinates, self.triu_index, self.constants(), self.sizes, (cell, shifts))\n    \n  File \"/home/mbowley/miniconda3/envs/ani2/lib/python3.9/site-packages/torchani-2.2.3.dev2+g3dfbaf4-py3.9-linux-x86_64.egg/torchani/aev.py\", line 114, in compute_shifts\n    inv_distances = reciprocal_cell.norm(2, -1)\n    num_repeats = torch.ceil(cutoff * inv_distances).to(torch.long)\n    num_repeats = torch.where(pbc, num_repeats, num_repeats.new_zeros(()))\n                  ~~~~~~~~~~~ <--- HERE\n    r1 = torch.arange(1, num_repeats[0].item() + 1, device=cell.device)\n    r2 = torch.arange(1, num_repeats[1].item() + 1, device=cell.device)\nRuntimeError: Expected condition, x and y to be on the same device, but condition is on cpu and x and y are on cuda:0 and cuda:0 respectively\n",
     "output_type": "error",
     "traceback": [
      "\u001b[0;31m---------------------------------------------------------------------------\u001b[0m",
      "\u001b[0;31mOpenMMException\u001b[0m                           Traceback (most recent call last)",
      "Input \u001b[0;32mIn [4]\u001b[0m, in \u001b[0;36m<module>\u001b[0;34m\u001b[0m\n\u001b[1;32m      6\u001b[0m simulation \u001b[38;5;241m=\u001b[39m Simulation(\n\u001b[1;32m      7\u001b[0m     pdb\u001b[38;5;241m.\u001b[39mtopology,\n\u001b[1;32m      8\u001b[0m     system,\n\u001b[1;32m      9\u001b[0m     integrator,\n\u001b[1;32m     10\u001b[0m     Platform\u001b[38;5;241m.\u001b[39mgetPlatformByName(\u001b[38;5;124m\"\u001b[39m\u001b[38;5;124mCUDA\u001b[39m\u001b[38;5;124m\"\u001b[39m),\n\u001b[1;32m     11\u001b[0m )\n\u001b[1;32m     12\u001b[0m simulation\u001b[38;5;241m.\u001b[39mcontext\u001b[38;5;241m.\u001b[39msetPositions(pdb\u001b[38;5;241m.\u001b[39mpositions)\n\u001b[0;32m---> 13\u001b[0m \u001b[43msimulation\u001b[49m\u001b[38;5;241;43m.\u001b[39;49m\u001b[43mminimizeEnergy\u001b[49m\u001b[43m(\u001b[49m\u001b[43m)\u001b[49m\n\u001b[1;32m     14\u001b[0m simulation\u001b[38;5;241m.\u001b[39mstep(\u001b[38;5;241m100\u001b[39m)\n\u001b[1;32m     15\u001b[0m \u001b[38;5;28mprint\u001b[39m(\u001b[38;5;124m\"\u001b[39m\u001b[38;5;124mdone\u001b[39m\u001b[38;5;124m\"\u001b[39m)\n",
      "File \u001b[0;32m~/miniconda3/envs/ani2/lib/python3.9/site-packages/openmm/app/simulation.py:137\u001b[0m, in \u001b[0;36mSimulation.minimizeEnergy\u001b[0;34m(self, tolerance, maxIterations)\u001b[0m\n\u001b[1;32m    123\u001b[0m \u001b[38;5;28;01mdef\u001b[39;00m \u001b[38;5;21mminimizeEnergy\u001b[39m(\u001b[38;5;28mself\u001b[39m, tolerance\u001b[38;5;241m=\u001b[39m\u001b[38;5;241m10\u001b[39m\u001b[38;5;241m*\u001b[39munit\u001b[38;5;241m.\u001b[39mkilojoules_per_mole\u001b[38;5;241m/\u001b[39munit\u001b[38;5;241m.\u001b[39mnanometer, maxIterations\u001b[38;5;241m=\u001b[39m\u001b[38;5;241m0\u001b[39m):\n\u001b[1;32m    124\u001b[0m     \u001b[38;5;124;03m\"\"\"Perform a local energy minimization on the system.\u001b[39;00m\n\u001b[1;32m    125\u001b[0m \n\u001b[1;32m    126\u001b[0m \u001b[38;5;124;03m    Parameters\u001b[39;00m\n\u001b[0;32m   (...)\u001b[0m\n\u001b[1;32m    135\u001b[0m \u001b[38;5;124;03m        to how many iterations it takes.\u001b[39;00m\n\u001b[1;32m    136\u001b[0m \u001b[38;5;124;03m    \"\"\"\u001b[39;00m\n\u001b[0;32m--> 137\u001b[0m     \u001b[43mmm\u001b[49m\u001b[38;5;241;43m.\u001b[39;49m\u001b[43mLocalEnergyMinimizer\u001b[49m\u001b[38;5;241;43m.\u001b[39;49m\u001b[43mminimize\u001b[49m\u001b[43m(\u001b[49m\u001b[38;5;28;43mself\u001b[39;49m\u001b[38;5;241;43m.\u001b[39;49m\u001b[43mcontext\u001b[49m\u001b[43m,\u001b[49m\u001b[43m \u001b[49m\u001b[43mtolerance\u001b[49m\u001b[43m,\u001b[49m\u001b[43m \u001b[49m\u001b[43mmaxIterations\u001b[49m\u001b[43m)\u001b[49m\n",
      "File \u001b[0;32m~/miniconda3/envs/ani2/lib/python3.9/site-packages/openmm/openmm.py:1834\u001b[0m, in \u001b[0;36mLocalEnergyMinimizer.minimize\u001b[0;34m(context, tolerance, maxIterations)\u001b[0m\n\u001b[1;32m   1819\u001b[0m \u001b[38;5;129m@staticmethod\u001b[39m\n\u001b[1;32m   1820\u001b[0m \u001b[38;5;28;01mdef\u001b[39;00m \u001b[38;5;21mminimize\u001b[39m(context, tolerance\u001b[38;5;241m=\u001b[39m\u001b[38;5;241m10\u001b[39m, maxIterations\u001b[38;5;241m=\u001b[39m\u001b[38;5;241m0\u001b[39m):\n\u001b[1;32m   1821\u001b[0m     \u001b[38;5;124mr\u001b[39m\u001b[38;5;124;03m\"\"\"\u001b[39;00m\n\u001b[1;32m   1822\u001b[0m \u001b[38;5;124;03m    minimize(context, tolerance=10, maxIterations=0)\u001b[39;00m\n\u001b[1;32m   1823\u001b[0m \u001b[38;5;124;03m    Search for a new set of particle positions that represent a local potential energy minimum. On exit, the Context will have been updated with the new positions.\u001b[39;00m\n\u001b[0;32m   (...)\u001b[0m\n\u001b[1;32m   1832\u001b[0m \u001b[38;5;124;03m        the maximum number of iterations to perform. If this is 0, minimation is continued until the results converge without regard to how many iterations it takes. The default value is 0.\u001b[39;00m\n\u001b[1;32m   1833\u001b[0m \u001b[38;5;124;03m    \"\"\"\u001b[39;00m\n\u001b[0;32m-> 1834\u001b[0m     \u001b[38;5;28;01mreturn\u001b[39;00m \u001b[43m_openmm\u001b[49m\u001b[38;5;241;43m.\u001b[39;49m\u001b[43mLocalEnergyMinimizer_minimize\u001b[49m\u001b[43m(\u001b[49m\u001b[43mcontext\u001b[49m\u001b[43m,\u001b[49m\u001b[43m \u001b[49m\u001b[43mtolerance\u001b[49m\u001b[43m,\u001b[49m\u001b[43m \u001b[49m\u001b[43mmaxIterations\u001b[49m\u001b[43m)\u001b[49m\n",
      "\u001b[0;31mOpenMMException\u001b[0m: The following operation failed in the TorchScript interpreter.\nTraceback of TorchScript, serialized code (most recent call last):\n  File \"code/__torch__/openmmml/models/anipotential/___torch_mangle_14.py\", line 31, in forward\n      _5 = torch.mul(boxvectors1, 10.)\n      pbc = self.pbc\n      _6, energy1, = (model0).forward(_4, _5, pbc, )\n                      ~~~~~~~~~~~~~~~ <--- HERE\n      energy = energy1\n    energyScale = self.energyScale\n  File \"code/__torch__/torchani/models.py\", line 32, in forward\n      pass\n    aev_computer = self.aev_computer\n    species_aevs = (aev_computer).forward(species_coordinates0, cell, pbc, )\n                    ~~~~~~~~~~~~~~~~~~~~~ <--- HERE\n    neural_networks = self.neural_networks\n    species_energies = (neural_networks).forward(species_aevs, None, None, )\n  File \"code/__torch__/torchani/aev.py\", line 68, in forward\n        ops.prim.RaiseException(\"AssertionError: \")\n        cell3, pbc0 = _1, _1\n      shifts = _0(cell3, pbc0, 5.0999999999999996, )\n               ~~ <--- HERE\n      triu_index0 = self.triu_index\n      aev1 = __torch__.torchani.aev.compute_aev(species, coordinates, triu_index0, (self).constants(), (7, 16, 112, 32, 896), (cell3, shifts), )\n  File \"code/__torch__/torchani/aev.py\", line 163, in compute_shifts\n  num_repeats = torch.to(_34, 4)\n  _35 = torch.new_zeros(num_repeats, annotate(List[int], []))\n  num_repeats0 = torch.where(pbc, num_repeats, _35)\n                 ~~~~~~~~~~~ <--- HERE\n  _36 = torch.item(torch.select(num_repeats0, 0, 0))\n  r1 = torch.arange(1, torch.add(_36, 1), dtype=None, layout=None, device=ops.prim.device(cell))\n\nTraceback of TorchScript, original code (most recent call last):\n  File \"/home/mbowley/miniconda3/envs/ani2/lib/python3.9/site-packages/openmmml-1.0-py3.9.egg/openmmml/models/anipotential.py\", line 111, in forward\n                else:\n                    boxvectors = boxvectors.to(torch.float32)\n                    _, energy = self.model((self.species, 10.0*positions.unsqueeze(0)), cell=10.0*boxvectors, pbc=self.pbc)\n                                ~~~~~~~~~~ <--- HERE\n                return self.energyScale*energy\n  File \"/home/mbowley/miniconda3/envs/ani2/lib/python3.9/site-packages/torchani-2.2.3.dev2+g3dfbaf4-py3.9-linux-x86_64.egg/torchani/models.py\", line 106, in forward\n            raise ValueError(f'Unknown species found in {species_coordinates[0]}')\n    \n        species_aevs = self.aev_computer(species_coordinates, cell=cell, pbc=pbc)\n                       ~~~~~~~~~~~~~~~~~ <--- HERE\n        species_energies = self.neural_networks(species_aevs)\n        return self.energy_shifter(species_energies)\n  File \"/home/mbowley/miniconda3/envs/ani2/lib/python3.9/site-packages/torchani-2.2.3.dev2+g3dfbaf4-py3.9-linux-x86_64.egg/torchani/aev.py\", line 532, in forward\n            assert (cell is not None and pbc is not None)\n            cutoff = max(self.Rcr, self.Rca)\n            shifts = compute_shifts(cell, pbc, cutoff)\n                     ~~~~~~~~~~~~~~ <--- HERE\n            aev = compute_aev(species, coordinates, self.triu_index, self.constants(), self.sizes, (cell, shifts))\n    \n  File \"/home/mbowley/miniconda3/envs/ani2/lib/python3.9/site-packages/torchani-2.2.3.dev2+g3dfbaf4-py3.9-linux-x86_64.egg/torchani/aev.py\", line 114, in compute_shifts\n    inv_distances = reciprocal_cell.norm(2, -1)\n    num_repeats = torch.ceil(cutoff * inv_distances).to(torch.long)\n    num_repeats = torch.where(pbc, num_repeats, num_repeats.new_zeros(()))\n                  ~~~~~~~~~~~ <--- HERE\n    r1 = torch.arange(1, num_repeats[0].item() + 1, device=cell.device)\n    r2 = torch.arange(1, num_repeats[1].item() + 1, device=cell.device)\nRuntimeError: Expected condition, x and y to be on the same device, but condition is on cpu and x and y are on cuda:0 and cuda:0 respectively\n"
     ]
    }
   ],
   "source": [
    "integrator = LangevinIntegrator(\n",
    "    300 * kelvin, \n",
    "    1 / picosecond, \n",
    "    1.0 * femtosecond,\n",
    ")\n",
    "simulation = Simulation(\n",
    "    pdb.topology,\n",
    "    system,\n",
    "    integrator,\n",
    "    Platform.getPlatformByName(\"CUDA\"),\n",
    ")\n",
    "simulation.context.setPositions(pdb.positions)\n",
    "simulation.minimizeEnergy()\n",
    "simulation.step(100)\n",
    "print(\"done\")"
   ]
  },
  {
   "cell_type": "markdown",
   "id": "90a3a8ed",
   "metadata": {},
   "source": [
    "# Troubleshooting"
   ]
  },
  {
   "cell_type": "code",
   "execution_count": 2,
   "id": "4eb7bdae",
   "metadata": {},
   "outputs": [
    {
     "name": "stdout",
     "output_type": "stream",
     "text": [
      "openmm                    7.7.0            py39h792354b_0    conda-forge\n",
      "openmm-torch              0.5             cuda112py39hb628e3f_0    conda-forge\n",
      "openmmml                  1.0                      pypi_0    pypi\n",
      "pytorch                   1.10.0          cuda112py39h3ad47f5_1    conda-forge\n",
      "pytorch-gpu               1.10.0          cuda112py39h0bbbad9_1    conda-forge\n",
      "torchani                  2.2.3.dev2+g3dfbaf4          pypi_0    pypi\n"
     ]
    }
   ],
   "source": [
    "!conda list | grep -E \"torch|openmm\""
   ]
  },
  {
   "cell_type": "code",
   "execution_count": 3,
   "id": "8912a80a",
   "metadata": {},
   "outputs": [
    {
     "name": "stdout",
     "output_type": "stream",
     "text": [
      "True\n",
      "0\n",
      "<torch.cuda.device object at 0x7fafd317f0a0>\n",
      "4\n",
      "NVIDIA GeForce GTX 1080\n"
     ]
    }
   ],
   "source": [
    "import torch\n",
    "\n",
    "print(torch.cuda.is_available())\n",
    "print(torch.cuda.current_device())\n",
    "print(torch.cuda.device(0))\n",
    "print(torch.cuda.device_count())\n",
    "print(torch.cuda.get_device_name(0))"
   ]
  }
 ],
 "metadata": {
  "kernelspec": {
   "display_name": "Python 3 (ipykernel)",
   "language": "python",
   "name": "python3"
  },
  "language_info": {
   "codemirror_mode": {
    "name": "ipython",
    "version": 3
   },
   "file_extension": ".py",
   "mimetype": "text/x-python",
   "name": "python",
   "nbconvert_exporter": "python",
   "pygments_lexer": "ipython3",
   "version": "3.9.9"
  }
 },
 "nbformat": 4,
 "nbformat_minor": 5
}
