{
  "nbformat": 4,
  "nbformat_minor": 0,
  "metadata": {
    "colab": {
      "name": "Demo - AMBER.ipynb",
      "provenance": [],
      "collapsed_sections": [],
      "authorship_tag": "ABX9TyONOkXWGXFCCUJCcqit3OUj",
      "include_colab_link": true
    },
    "kernelspec": {
      "name": "python3",
      "display_name": "Python 3"
    },
    "language_info": {
      "name": "python"
    }
  },
  "cells": [
    {
      "cell_type": "markdown",
      "metadata": {
        "id": "view-in-github",
        "colab_type": "text"
      },
      "source": [
        "<a href=\"https://colab.research.google.com/github/meyresearch/ANI-Peptides/blob/main/demos/AMBER_equilibrating.ipynb\" target=\"_parent\"><img src=\"https://colab.research.google.com/assets/colab-badge.svg\" alt=\"Open In Colab\"/></a>"
      ]
    },
    {
      "cell_type": "markdown",
      "metadata": {
        "id": "UsvmNVNmavgm"
      },
      "source": [
        "# Runtime Environment Setup"
      ]
    },
    {
      "cell_type": "markdown",
      "metadata": {
        "id": "hiQev3LkiW51"
      },
      "source": [
        "Before you start, ensure you have been allocated a GPU runtime. Go to `Runtime -> Change runtime type -> GPU`"
      ]
    },
    {
      "cell_type": "markdown",
      "metadata": {
        "id": "Obanx6qoAgo8"
      },
      "source": [
        "Allow kernel to restart after running this cell."
      ]
    },
    {
      "cell_type": "code",
      "metadata": {
        "id": "VFkcgvtbaut8",
        "outputId": "d5892392-5ffc-4dda-8d93-1b6e56e983fe",
        "colab": {
          "base_uri": "https://localhost:8080/"
        }
      },
      "source": [
        "!pip install -q condacolab\n",
        "import condacolab\n",
        "condacolab.install()"
      ],
      "execution_count": 7,
      "outputs": [
        {
          "output_type": "stream",
          "name": "stdout",
          "text": [
            "✨🍰✨ Everything looks OK!\n"
          ]
        }
      ]
    },
    {
      "cell_type": "markdown",
      "metadata": {
        "id": "RiYgOUeTA0tR"
      },
      "source": [
        "Ensure good conda/mamba installation"
      ]
    },
    {
      "cell_type": "code",
      "metadata": {
        "id": "hNCmMpshAzhn",
        "outputId": "057bc177-7cea-495f-c84d-c684d9604ed4",
        "colab": {
          "base_uri": "https://localhost:8080/"
        }
      },
      "source": [
        "import condacolab\n",
        "condacolab.check()"
      ],
      "execution_count": 1,
      "outputs": [
        {
          "output_type": "stream",
          "name": "stdout",
          "text": [
            "✨🍰✨ Everything looks OK!\n"
          ]
        }
      ]
    },
    {
      "cell_type": "markdown",
      "metadata": {
        "id": "3VWZhONKbMIx"
      },
      "source": [
        "Install Dependencies\n",
        "\n",
        "\n",
        "\n",
        "*   *OpenMM* - Molecular dynamics simulation\n",
        "*   *NGLView, PyTraj* - Viewing libraries\n",
        "\n"
      ]
    },
    {
      "cell_type": "code",
      "metadata": {
        "id": "OBwFUplRbOww",
        "outputId": "34c69dbd-792c-42cb-b7cc-89219c22ec39",
        "colab": {
          "base_uri": "https://localhost:8080/"
        }
      },
      "source": [
        "!mamba install -q openmm nglview\n",
        "!pip install -q pytraj"
      ],
      "execution_count": 2,
      "outputs": [
        {
          "output_type": "stream",
          "name": "stdout",
          "text": [
            "  Package                          Version  Build                Channel                    Size\n",
            "──────────────────────────────────────────────────────────────────────────────────────────────────\n",
            "  Install:\n",
            "──────────────────────────────────────────────────────────────────────────────────────────────────\n",
            "\n",
            "\u001b[32m  argcomplete                  \u001b[00m     1.12.3  pyhd8ed1ab_2         conda-forge/noarch        34 KB\n",
            "\u001b[32m  argon2-cffi                  \u001b[00m     21.1.0  py37h5e8e339_2       conda-forge/linux-64      46 KB\n",
            "\u001b[32m  async_generator              \u001b[00m       1.10  py_0                 conda-forge/noarch        18 KB\n",
            "\u001b[32m  attrs                        \u001b[00m     21.2.0  pyhd8ed1ab_0         conda-forge/noarch        44 KB\n",
            "\u001b[32m  backcall                     \u001b[00m      0.2.0  pyh9f0ad1d_0         conda-forge/noarch        13 KB\n",
            "\u001b[32m  backports                    \u001b[00m        1.0  py_2                 conda-forge/noarch         4 KB\n",
            "\u001b[32m  backports.functools_lru_cache\u001b[00m      1.6.4  pyhd8ed1ab_0         conda-forge/noarch         9 KB\n",
            "\u001b[32m  bleach                       \u001b[00m      4.1.0  pyhd8ed1ab_0         conda-forge/noarch       121 KB\n",
            "\u001b[32m  cudatoolkit                  \u001b[00m     11.1.1  h6406543_8           conda-forge/linux-64       1 GB\n",
            "\u001b[32m  debugpy                      \u001b[00m      1.4.1  py37hcd2ae1e_0       conda-forge/linux-64       2 MB\n",
            "\u001b[32m  decorator                    \u001b[00m      5.1.0  pyhd8ed1ab_0         conda-forge/noarch        11 KB\n",
            "\u001b[32m  defusedxml                   \u001b[00m      0.7.1  pyhd8ed1ab_0         conda-forge/noarch        23 KB\n",
            "\u001b[32m  entrypoints                  \u001b[00m        0.3  py37hc8dfbb8_1002    conda-forge/linux-64      13 KB\n",
            "\u001b[32m  fftw                         \u001b[00m     3.3.10  nompi_hcdd671c_101   conda-forge/linux-64       6 MB\n",
            "\u001b[32m  importlib-metadata           \u001b[00m      4.8.1  py37h89c1867_1       conda-forge/linux-64      32 KB\n",
            "\u001b[32m  importlib_metadata           \u001b[00m      4.8.1  hd8ed1ab_1           conda-forge/noarch         4 KB\n",
            "\u001b[32m  importlib_resources          \u001b[00m      5.4.0  pyhd8ed1ab_0         conda-forge/noarch        21 KB\n",
            "\u001b[32m  ipykernel                    \u001b[00m      6.4.2  py37h6531663_0       conda-forge/linux-64     173 KB\n",
            "\u001b[32m  ipython                      \u001b[00m     7.29.0  py37h6531663_0       conda-forge/linux-64       1 MB\n",
            "\u001b[32m  ipython_genutils             \u001b[00m      0.2.0  py_1                 conda-forge/noarch        21 KB\n",
            "\u001b[32m  ipywidgets                   \u001b[00m      7.6.5  pyhd8ed1ab_0         conda-forge/noarch       101 KB\n",
            "\u001b[32m  jedi                         \u001b[00m     0.18.0  py37h89c1867_3       conda-forge/linux-64     928 KB\n",
            "\u001b[32m  jinja2                       \u001b[00m      3.0.2  pyhd8ed1ab_0         conda-forge/noarch        99 KB\n",
            "\u001b[32m  jsonschema                   \u001b[00m      4.2.1  pyhd8ed1ab_0         conda-forge/noarch       118 KB\n",
            "\u001b[32m  jupyter_client               \u001b[00m      7.0.6  pyhd8ed1ab_0         conda-forge/noarch        87 KB\n",
            "\u001b[32m  jupyter_core                 \u001b[00m      4.9.1  py37h89c1867_0       conda-forge/linux-64      80 KB\n",
            "\u001b[32m  jupyterlab_pygments          \u001b[00m      0.1.2  pyh9f0ad1d_0         conda-forge/noarch         8 KB\n",
            "\u001b[32m  jupyterlab_widgets           \u001b[00m      1.0.2  pyhd8ed1ab_0         conda-forge/noarch       130 KB\n",
            "\u001b[32m  libblas                      \u001b[00m      3.9.0  12_linux64_openblas  conda-forge/linux-64      12 KB\n",
            "\u001b[32m  libcblas                     \u001b[00m      3.9.0  12_linux64_openblas  conda-forge/linux-64      12 KB\n",
            "\u001b[32m  libgfortran-ng               \u001b[00m     11.2.0  h69a702a_11          conda-forge/linux-64      19 KB\n",
            "\u001b[32m  libgfortran5                 \u001b[00m     11.2.0  h5c6108e_11          conda-forge/linux-64       2 MB\n",
            "\u001b[32m  liblapack                    \u001b[00m      3.9.0  12_linux64_openblas  conda-forge/linux-64      12 KB\n",
            "\u001b[32m  libopenblas                  \u001b[00m     0.3.18  pthreads_h8fe5266_0  conda-forge/linux-64      10 MB\n",
            "\u001b[32m  libsodium                    \u001b[00m     1.0.18  h516909a_1           conda-forge/linux-64     366 KB\n",
            "\u001b[32m  markupsafe                   \u001b[00m      2.0.1  py37h5e8e339_1       conda-forge/linux-64      22 KB\n",
            "\u001b[32m  matplotlib-inline            \u001b[00m      0.1.3  pyhd8ed1ab_0         conda-forge/noarch        11 KB\n",
            "\u001b[32m  mistune                      \u001b[00m      0.8.4  py37h5e8e339_1005    conda-forge/linux-64      54 KB\n",
            "\u001b[32m  nbclient                     \u001b[00m      0.5.4  pyhd8ed1ab_0         conda-forge/noarch        60 KB\n",
            "\u001b[32m  nbconvert                    \u001b[00m      6.2.0  py37h89c1867_0       conda-forge/linux-64     553 KB\n",
            "\u001b[32m  nbformat                     \u001b[00m      5.1.3  pyhd8ed1ab_0         conda-forge/noarch        47 KB\n",
            "\u001b[32m  nest-asyncio                 \u001b[00m      1.5.1  pyhd8ed1ab_0         conda-forge/noarch         9 KB\n",
            "\u001b[32m  nglview                      \u001b[00m      3.0.3  pyh8a188c0_0         conda-forge/noarch         6 MB\n",
            "\u001b[32m  notebook                     \u001b[00m      6.4.5  pyha770c72_0         conda-forge/noarch         6 MB\n",
            "\u001b[32m  numpy                        \u001b[00m     1.21.4  py37h31617e3_0       conda-forge/linux-64       6 MB\n",
            "\u001b[32m  ocl-icd                      \u001b[00m      2.3.1  h7f98852_0           conda-forge/linux-64     119 KB\n",
            "\u001b[32m  ocl-icd-system               \u001b[00m      1.0.0  1                    conda-forge/linux-64       4 KB\n",
            "\u001b[32m  openmm                       \u001b[00m      7.6.0  py37he27d83c_0       conda-forge/linux-64      11 MB\n",
            "\u001b[32m  packaging                    \u001b[00m       21.2  pyhd8ed1ab_1         conda-forge/noarch        35 KB\n",
            "\u001b[32m  pandoc                       \u001b[00m     2.16.1  h7f98852_0           conda-forge/linux-64      13 MB\n",
            "\u001b[32m  pandocfilters                \u001b[00m      1.5.0  pyhd8ed1ab_0         conda-forge/noarch        11 KB\n",
            "\u001b[32m  parso                        \u001b[00m      0.8.2  pyhd8ed1ab_0         conda-forge/noarch        68 KB\n",
            "\u001b[32m  pexpect                      \u001b[00m      4.8.0  py37hc8dfbb8_1       conda-forge/linux-64      79 KB\n",
            "\u001b[32m  pickleshare                  \u001b[00m      0.7.5  py37hc8dfbb8_1002    conda-forge/linux-64      13 KB\n",
            "\u001b[32m  prometheus_client            \u001b[00m     0.12.0  pyhd8ed1ab_0         conda-forge/noarch        47 KB\n",
            "\u001b[32m  prompt-toolkit               \u001b[00m     3.0.22  pyha770c72_0         conda-forge/noarch       249 KB\n",
            "\u001b[32m  ptyprocess                   \u001b[00m      0.7.0  pyhd3deb0d_0         conda-forge/noarch        16 KB\n",
            "\u001b[32m  pygments                     \u001b[00m     2.10.0  pyhd8ed1ab_0         conda-forge/noarch       760 KB\n",
            "\u001b[32m  pyparsing                    \u001b[00m      2.4.7  pyhd8ed1ab_1         conda-forge/noarch        60 KB\n",
            "\u001b[32m  pyrsistent                   \u001b[00m     0.18.0  py37h5e8e339_0       conda-forge/linux-64      90 KB\n",
            "\u001b[32m  python-dateutil              \u001b[00m      2.8.2  pyhd8ed1ab_0         conda-forge/noarch       240 KB\n",
            "\u001b[32m  pyzmq                        \u001b[00m     22.1.0  py37h336d617_0       conda-forge/linux-64     500 KB\n",
            "\u001b[32m  send2trash                   \u001b[00m      1.8.0  pyhd8ed1ab_0         conda-forge/noarch        17 KB\n",
            "\u001b[32m  terminado                    \u001b[00m     0.12.1  py37h89c1867_1       conda-forge/linux-64      28 KB\n",
            "\u001b[32m  testpath                     \u001b[00m      0.5.0  pyhd8ed1ab_0         conda-forge/noarch        86 KB\n",
            "\u001b[32m  tornado                      \u001b[00m        6.1  py37h5e8e339_2       conda-forge/linux-64     642 KB\n",
            "\u001b[32m  traitlets                    \u001b[00m      5.1.1  pyhd8ed1ab_0         conda-forge/noarch        82 KB\n",
            "\u001b[32m  typing_extensions            \u001b[00m   3.10.0.2  pyha770c72_0         conda-forge/noarch        28 KB\n",
            "\u001b[32m  wcwidth                      \u001b[00m      0.2.5  pyh9f0ad1d_2         conda-forge/noarch        33 KB\n",
            "\u001b[32m  webencodings                 \u001b[00m      0.5.1  py_1                 conda-forge/noarch        12 KB\n",
            "\u001b[32m  widgetsnbextension           \u001b[00m      3.5.2  py37h89c1867_0       conda-forge/linux-64       1 MB\n",
            "\u001b[32m  zeromq                       \u001b[00m      4.3.4  h9c3ff4c_0           conda-forge/linux-64     352 KB\n",
            "\u001b[32m  zipp                         \u001b[00m      3.6.0  pyhd8ed1ab_0         conda-forge/noarch        12 KB\n",
            "\n",
            "  Upgrade:\n",
            "──────────────────────────────────────────────────────────────────────────────────────────────────\n",
            "\n",
            "\u001b[31m  ca-certificates              \u001b[00m  2020.12.5  ha878542_0           installed                      \n",
            "\u001b[32m  ca-certificates              \u001b[00m  2021.10.8  ha878542_0           conda-forge/linux-64     139 KB\n",
            "\u001b[31m  certifi                      \u001b[00m  2020.12.5  py37h89c1867_1       installed                      \n",
            "\u001b[32m  certifi                      \u001b[00m  2021.10.8  py37h89c1867_1       conda-forge/linux-64     145 KB\n",
            "\u001b[31m  libgcc-ng                    \u001b[00m      9.3.0  h2828fa1_18          installed                      \n",
            "\u001b[32m  libgcc-ng                    \u001b[00m     11.2.0  h1d223b6_11          conda-forge/linux-64     887 KB\n",
            "\u001b[31m  libgomp                      \u001b[00m      9.3.0  h2828fa1_18          installed                      \n",
            "\u001b[32m  libgomp                      \u001b[00m     11.2.0  h1d223b6_11          conda-forge/linux-64     427 KB\n",
            "\u001b[31m  openssl                      \u001b[00m     1.1.1j  h7f98852_0           installed                      \n",
            "\u001b[32m  openssl                      \u001b[00m     1.1.1l  h7f98852_0           conda-forge/linux-64       2 MB\n",
            "\n",
            "  Summary:\n",
            "\n",
            "  Install: 73 packages\n",
            "  Upgrade: 5 packages\n",
            "\n",
            "  Total download: 1 GB\n",
            "\n",
            "──────────────────────────────────────────────────────────────────────────────────────────────────\n",
            "\n",
            "Preparing transaction: ...working... done\n",
            "Verifying transaction: ...working... done\n",
            "Executing transaction: ...working... By downloading and using the CUDA Toolkit conda packages, you accept the terms and conditions of the CUDA End User License Agreement (EULA): https://docs.nvidia.com/cuda/eula/index.html\n",
            "\n",
            "Enabling notebook extension jupyter-js-widgets/extension...\n",
            "Paths used for configuration of notebook: \n",
            "    \t/usr/local/etc/jupyter/nbconfig/notebook.d/nglview-js-widgets.json\n",
            "    \t/usr/local/etc/jupyter/nbconfig/notebook.d/plotlywidget.json\n",
            "    \t/usr/local/etc/jupyter/nbconfig/notebook.d/widgetsnbextension.json\n",
            "    \t/usr/local/etc/jupyter/nbconfig/notebook.json\n",
            "Paths used for configuration of notebook: \n",
            "    \t/usr/local/etc/jupyter/nbconfig/notebook.d/nglview-js-widgets.json\n",
            "    \t/usr/local/etc/jupyter/nbconfig/notebook.d/plotlywidget.json\n",
            "    \t/usr/local/etc/jupyter/nbconfig/notebook.d/widgetsnbextension.json\n",
            "      - Validating: \u001b[32mOK\u001b[0m\n",
            "Paths used for configuration of notebook: \n",
            "    \t/usr/local/etc/jupyter/nbconfig/notebook.d/nglview-js-widgets.json\n",
            "    \t/usr/local/etc/jupyter/nbconfig/notebook.d/plotlywidget.json\n",
            "    \t/usr/local/etc/jupyter/nbconfig/notebook.d/widgetsnbextension.json\n",
            "    \t/usr/local/etc/jupyter/nbconfig/notebook.json\n",
            "\n",
            "done\n",
            "\u001b[K     |████████████████████████████████| 16.1 MB 125 kB/s \n",
            "\u001b[?25h"
          ]
        }
      ]
    },
    {
      "cell_type": "markdown",
      "metadata": {
        "id": "pX6ARn5sMsJh"
      },
      "source": [
        "Test OpenMM"
      ]
    },
    {
      "cell_type": "code",
      "metadata": {
        "id": "Jq57Nf3bhlzv",
        "outputId": "6736e89c-1414-4710-9c87-50ab6f6253bf",
        "colab": {
          "base_uri": "https://localhost:8080/"
        }
      },
      "source": [
        "!python -m openmm.testInstallation"
      ],
      "execution_count": 8,
      "outputs": [
        {
          "output_type": "stream",
          "name": "stdout",
          "text": [
            "\n",
            "OpenMM Version: 7.6\n",
            "Git Revision: ad113a0cb37991a2de67a08026cf3b91616bafbe\n",
            "\n",
            "There are 3 Platforms available:\n",
            "\n",
            "1 Reference - Successfully computed forces\n",
            "2 CPU - Successfully computed forces\n",
            "3 CUDA - Error computing forces with CUDA platform\n",
            "\n",
            "CUDA platform error: Error initializing CUDA: CUDA_ERROR_NO_DEVICE (100) at /home/conda/feedstock_root/build_artifacts/openmm_1630082260311/work/platforms/cuda/src/CudaContext.cpp:138\n",
            "\n",
            "Median difference in forces between platforms:\n",
            "\n",
            "Reference vs. CPU: 6.28871e-06\n",
            "\n",
            "All differences are within tolerance.\n"
          ]
        }
      ]
    },
    {
      "cell_type": "markdown",
      "metadata": {
        "id": "lZZgEciFhYHz"
      },
      "source": [
        "Fetch sample peptide"
      ]
    },
    {
      "cell_type": "code",
      "metadata": {
        "id": "gGeSIWlXhJfH"
      },
      "source": [
        "!wget -q https://github.com/meyresearch/ANI-Peptides/raw/main/demos/aaa.pdb"
      ],
      "execution_count": 9,
      "outputs": []
    },
    {
      "cell_type": "markdown",
      "metadata": {
        "id": "PYGwUEcwjZYC"
      },
      "source": [
        "# AMBER Simulation"
      ]
    },
    {
      "cell_type": "code",
      "metadata": {
        "id": "PtLiP1fxjibi"
      },
      "source": [
        "# Import libraries\n",
        "\n",
        "from openmm.app import *\n",
        "from openmm import *\n",
        "from openmm.unit import *"
      ],
      "execution_count": 97,
      "outputs": []
    },
    {
      "cell_type": "code",
      "metadata": {
        "id": "X17K3DrnHrbd"
      },
      "source": [
        "from IPython.display import ProgressBar\n",
        "\n",
        "class ProgressBarWriter(ProgressBar):\n",
        "    def write(self, string):\n",
        "        if string.startswith(\"#\"):\n",
        "            self.progress = 0\n",
        "        else:\n",
        "            string = string.strip(',\\n')\n",
        "            try:\n",
        "                self.progress = int(string)\n",
        "            except ValueError:\n",
        "                pass\n",
        "\n",
        "def ProgressBarReporter(steps, interval):\n",
        "    return StateDataReporter(\n",
        "        ProgressBarWriter(total = steps), \n",
        "        interval, \n",
        "        step = True,\n",
        "        totalSteps = steps,\n",
        "    )"
      ],
      "execution_count": 98,
      "outputs": []
    },
    {
      "cell_type": "code",
      "metadata": {
        "id": "Ouh_n4BNS057"
      },
      "source": [
        "def equilibrate(\n",
        "        coords: Topology,\n",
        "        forcefield: ForceField,\n",
        "        pressure: Quantity = 1*atmosphere,\n",
        "        temperature: Quantity = 300*kelvin,\n",
        "        friction_coeff: Quantity = 1/femtosecond,\n",
        "        step_size: Quantity = 0.004*femtoseconds,\n",
        "        steps: int or None = 100000,\n",
        "        duration: Quantity or None = None,\n",
        "        pdb_report_interval: int or None = None,\n",
        "        state_report_interval: int or None = None,\n",
        "        progressbar_interval: int or None = None,\n",
        "    ):\n",
        "\n",
        "    assert duration or steps\n",
        "\n",
        "    if duration:\n",
        "        steps = int(duration / step_size)\n",
        "\n",
        "    if not pdb_report_interval:\n",
        "        pdb_report_interval = steps // 10\n",
        "\n",
        "    if not state_report_interval:\n",
        "        state_report_interval = steps // 10\n",
        "\n",
        "    if not progressbar_interval:\n",
        "        progressbar_interval = steps // 50\n",
        "\n",
        "    # Create system\n",
        "    system = forcefield.createSystem(\n",
        "        coords.topology, \n",
        "        nonbondedMethod=PME,\n",
        "        nonbondedCutoff=1*nanometer,\n",
        "        constraints=HBonds\n",
        "    )\n",
        "\n",
        "    # Add a barostat for constant pressure\n",
        "    system.addForce(\n",
        "        MonteCarloBarostat(\n",
        "            pressure,\n",
        "            temperature\n",
        "        )\n",
        "    )\n",
        "\n",
        "    # Create constant temp integrator\n",
        "    integrator = LangevinMiddleIntegrator(\n",
        "        temperature,\n",
        "        friction_coeff,\n",
        "        step_size\n",
        "    )\n",
        "\n",
        "    # Create simulation and set initial positions\n",
        "    simulation = Simulation(\n",
        "        coords.topology,\n",
        "        system,\n",
        "        integrator\n",
        "    )\n",
        "    simulation.context.setPositions(coords.positions)\n",
        "\n",
        "    # Local energy minimisation\n",
        "    simulation.minimizeEnergy()\n",
        "\n",
        "    # Create pdb file reporter\n",
        "    simulation.reporters.append(\n",
        "        PDBReporter(\n",
        "            'equilibration_output.pdb',\n",
        "            pdb_report_interval\n",
        "        )\n",
        "    )\n",
        "\n",
        "    # Create state data file reporter\n",
        "    simulation.reporters.append(\n",
        "        StateDataReporter(\n",
        "            'equilibration_state_data.csv', \n",
        "            state_report_interval, \n",
        "            step=True,\n",
        "            potentialEnergy=True, \n",
        "            temperature=True\n",
        "        )\n",
        "    )\n",
        "\n",
        "    # Create progress bar reporter\n",
        "    simulation.reporters.append(\n",
        "        ProgressBarReporter(steps, progressbar_interval)\n",
        "    )\n",
        "\n",
        "    # Run simulation through specified time steps\n",
        "    simulation.step(steps)\n"
      ],
      "execution_count": 99,
      "outputs": []
    },
    {
      "cell_type": "code",
      "metadata": {
        "id": "SNrmOdK5CW3c",
        "outputId": "5bdce300-88f0-4699-c177-1825abcab530",
        "colab": {
          "base_uri": "https://localhost:8080/",
          "height": 394
        }
      },
      "source": [
        "# Load sample peptide\n",
        "pdb = PDBFile('aaa.pdb')\n",
        "# Create AMBER forcefield\n",
        "forcefield = ForceField(\n",
        "    'amber14-all.xml',\n",
        "    'amber14/tip3pfb.xml'\n",
        ")\n",
        "# Load pdb into modeller and add solvent\n",
        "modeller = Modeller(pdb.topology, pdb.positions)\n",
        "modeller.addSolvent(forcefield, model='tip3p', padding=1*nanometer)\n",
        "\n",
        "equilibrate(\n",
        "    modeller,\n",
        "    forcefield,\n",
        "    pressure = 1*atmosphere,\n",
        "    temperature = 300*kelvin,\n",
        "    friction_coeff = 1/femtosecond,\n",
        "    step_size = 0.004*femtoseconds,\n",
        "    steps = 100000\n",
        ")"
      ],
      "execution_count": 100,
      "outputs": [
        {
          "output_type": "display_data",
          "data": {
            "text/html": [
              "<progress style='width:60ex' max='100000' value='2000'></progress>"
            ],
            "text/plain": [
              "[=                                                           ] 2000/100000"
            ]
          },
          "metadata": {}
        },
        {
          "output_type": "error",
          "ename": "KeyboardInterrupt",
          "evalue": "ignored",
          "traceback": [
            "\u001b[0;31m---------------------------------------------------------------------------\u001b[0m",
            "\u001b[0;31mKeyboardInterrupt\u001b[0m                         Traceback (most recent call last)",
            "\u001b[0;32m<ipython-input-100-dab24f753754>\u001b[0m in \u001b[0;36m<module>\u001b[0;34m()\u001b[0m\n\u001b[1;32m     17\u001b[0m     \u001b[0mfriction_coeff\u001b[0m \u001b[0;34m=\u001b[0m \u001b[0;36m1\u001b[0m\u001b[0;34m/\u001b[0m\u001b[0mfemtosecond\u001b[0m\u001b[0;34m,\u001b[0m\u001b[0;34m\u001b[0m\u001b[0;34m\u001b[0m\u001b[0m\n\u001b[1;32m     18\u001b[0m     \u001b[0mstep_size\u001b[0m \u001b[0;34m=\u001b[0m \u001b[0;36m0.004\u001b[0m\u001b[0;34m*\u001b[0m\u001b[0mfemtoseconds\u001b[0m\u001b[0;34m,\u001b[0m\u001b[0;34m\u001b[0m\u001b[0;34m\u001b[0m\u001b[0m\n\u001b[0;32m---> 19\u001b[0;31m     \u001b[0msteps\u001b[0m \u001b[0;34m=\u001b[0m \u001b[0;36m100000\u001b[0m\u001b[0;34m\u001b[0m\u001b[0;34m\u001b[0m\u001b[0m\n\u001b[0m\u001b[1;32m     20\u001b[0m )\n",
            "\u001b[0;32m<ipython-input-99-a4169e72fd50>\u001b[0m in \u001b[0;36mequilibrate\u001b[0;34m(coords, forcefield, pressure, temperature, friction_coeff, step_size, steps, duration, pdb_report_interval, state_report_interval, progressbar_interval)\u001b[0m\n\u001b[1;32m     86\u001b[0m \u001b[0;34m\u001b[0m\u001b[0m\n\u001b[1;32m     87\u001b[0m     \u001b[0;31m# Run simulation through specified time steps\u001b[0m\u001b[0;34m\u001b[0m\u001b[0;34m\u001b[0m\u001b[0;34m\u001b[0m\u001b[0m\n\u001b[0;32m---> 88\u001b[0;31m     \u001b[0msimulation\u001b[0m\u001b[0;34m.\u001b[0m\u001b[0mstep\u001b[0m\u001b[0;34m(\u001b[0m\u001b[0msteps\u001b[0m\u001b[0;34m)\u001b[0m\u001b[0;34m\u001b[0m\u001b[0;34m\u001b[0m\u001b[0m\n\u001b[0m",
            "\u001b[0;32m/usr/local/lib/python3.7/site-packages/openmm/app/simulation.py\u001b[0m in \u001b[0;36mstep\u001b[0;34m(self, steps)\u001b[0m\n\u001b[1;32m    132\u001b[0m     \u001b[0;32mdef\u001b[0m \u001b[0mstep\u001b[0m\u001b[0;34m(\u001b[0m\u001b[0mself\u001b[0m\u001b[0;34m,\u001b[0m \u001b[0msteps\u001b[0m\u001b[0;34m)\u001b[0m\u001b[0;34m:\u001b[0m\u001b[0;34m\u001b[0m\u001b[0;34m\u001b[0m\u001b[0m\n\u001b[1;32m    133\u001b[0m         \u001b[0;34m\"\"\"Advance the simulation by integrating a specified number of time steps.\"\"\"\u001b[0m\u001b[0;34m\u001b[0m\u001b[0;34m\u001b[0m\u001b[0m\n\u001b[0;32m--> 134\u001b[0;31m         \u001b[0mself\u001b[0m\u001b[0;34m.\u001b[0m\u001b[0m_simulate\u001b[0m\u001b[0;34m(\u001b[0m\u001b[0mendStep\u001b[0m\u001b[0;34m=\u001b[0m\u001b[0mself\u001b[0m\u001b[0;34m.\u001b[0m\u001b[0mcurrentStep\u001b[0m\u001b[0;34m+\u001b[0m\u001b[0msteps\u001b[0m\u001b[0;34m)\u001b[0m\u001b[0;34m\u001b[0m\u001b[0;34m\u001b[0m\u001b[0m\n\u001b[0m\u001b[1;32m    135\u001b[0m \u001b[0;34m\u001b[0m\u001b[0m\n\u001b[1;32m    136\u001b[0m     \u001b[0;32mdef\u001b[0m \u001b[0mrunForClockTime\u001b[0m\u001b[0;34m(\u001b[0m\u001b[0mself\u001b[0m\u001b[0;34m,\u001b[0m \u001b[0mtime\u001b[0m\u001b[0;34m,\u001b[0m \u001b[0mcheckpointFile\u001b[0m\u001b[0;34m=\u001b[0m\u001b[0;32mNone\u001b[0m\u001b[0;34m,\u001b[0m \u001b[0mstateFile\u001b[0m\u001b[0;34m=\u001b[0m\u001b[0;32mNone\u001b[0m\u001b[0;34m,\u001b[0m \u001b[0mcheckpointInterval\u001b[0m\u001b[0;34m=\u001b[0m\u001b[0;32mNone\u001b[0m\u001b[0;34m)\u001b[0m\u001b[0;34m:\u001b[0m\u001b[0;34m\u001b[0m\u001b[0;34m\u001b[0m\u001b[0m\n",
            "\u001b[0;32m/usr/local/lib/python3.7/site-packages/openmm/app/simulation.py\u001b[0m in \u001b[0;36m_simulate\u001b[0;34m(self, endStep, endTime)\u001b[0m\n\u001b[1;32m    197\u001b[0m             \u001b[0mstepsToGo\u001b[0m \u001b[0;34m=\u001b[0m \u001b[0mnextSteps\u001b[0m\u001b[0;34m\u001b[0m\u001b[0;34m\u001b[0m\u001b[0m\n\u001b[1;32m    198\u001b[0m             \u001b[0;32mwhile\u001b[0m \u001b[0mstepsToGo\u001b[0m \u001b[0;34m>\u001b[0m \u001b[0;36m10\u001b[0m\u001b[0;34m:\u001b[0m\u001b[0;34m\u001b[0m\u001b[0;34m\u001b[0m\u001b[0m\n\u001b[0;32m--> 199\u001b[0;31m                 \u001b[0mself\u001b[0m\u001b[0;34m.\u001b[0m\u001b[0mintegrator\u001b[0m\u001b[0;34m.\u001b[0m\u001b[0mstep\u001b[0m\u001b[0;34m(\u001b[0m\u001b[0;36m10\u001b[0m\u001b[0;34m)\u001b[0m \u001b[0;31m# Only take 10 steps at a time, to give Python more chances to respond to a control-c.\u001b[0m\u001b[0;34m\u001b[0m\u001b[0;34m\u001b[0m\u001b[0m\n\u001b[0m\u001b[1;32m    200\u001b[0m                 \u001b[0mstepsToGo\u001b[0m \u001b[0;34m-=\u001b[0m \u001b[0;36m10\u001b[0m\u001b[0;34m\u001b[0m\u001b[0;34m\u001b[0m\u001b[0m\n\u001b[1;32m    201\u001b[0m                 \u001b[0mself\u001b[0m\u001b[0;34m.\u001b[0m\u001b[0mcurrentStep\u001b[0m \u001b[0;34m+=\u001b[0m \u001b[0;36m10\u001b[0m\u001b[0;34m\u001b[0m\u001b[0;34m\u001b[0m\u001b[0m\n",
            "\u001b[0;32m/usr/local/lib/python3.7/site-packages/openmm/openmm.py\u001b[0m in \u001b[0;36mstep\u001b[0;34m(self, steps)\u001b[0m\n\u001b[1;32m   9597\u001b[0m             \u001b[0mthe\u001b[0m \u001b[0mnumber\u001b[0m \u001b[0mof\u001b[0m \u001b[0mtime\u001b[0m \u001b[0msteps\u001b[0m \u001b[0mto\u001b[0m \u001b[0mtake\u001b[0m\u001b[0;34m\u001b[0m\u001b[0;34m\u001b[0m\u001b[0m\n\u001b[1;32m   9598\u001b[0m         \"\"\"\n\u001b[0;32m-> 9599\u001b[0;31m         \u001b[0;32mreturn\u001b[0m \u001b[0m_openmm\u001b[0m\u001b[0;34m.\u001b[0m\u001b[0mLangevinMiddleIntegrator_step\u001b[0m\u001b[0;34m(\u001b[0m\u001b[0mself\u001b[0m\u001b[0;34m,\u001b[0m \u001b[0msteps\u001b[0m\u001b[0;34m)\u001b[0m\u001b[0;34m\u001b[0m\u001b[0;34m\u001b[0m\u001b[0m\n\u001b[0m\u001b[1;32m   9600\u001b[0m \u001b[0;34m\u001b[0m\u001b[0m\n\u001b[1;32m   9601\u001b[0m     \u001b[0;32mdef\u001b[0m \u001b[0m__init__\u001b[0m\u001b[0;34m(\u001b[0m\u001b[0mself\u001b[0m\u001b[0;34m,\u001b[0m \u001b[0;34m*\u001b[0m\u001b[0margs\u001b[0m\u001b[0;34m)\u001b[0m\u001b[0;34m:\u001b[0m\u001b[0;34m\u001b[0m\u001b[0;34m\u001b[0m\u001b[0m\n",
            "\u001b[0;31mKeyboardInterrupt\u001b[0m: "
          ]
        }
      ]
    },
    {
      "cell_type": "code",
      "metadata": {
        "id": "j29S_kwyjnFN"
      },
      "source": [
        "# Load sample peptide\n",
        "coords = PDBFile('aaa.pdb')\n",
        "\n",
        "\n",
        "\n",
        "\n",
        "\n",
        "\n",
        "# Create AMBER forcefield\n",
        "forcefield = ForceField(\n",
        "    'amber14-all.xml',\n",
        "    'amber14/tip3pfb.xml'\n",
        ")\n",
        "\n",
        "# Create system\n",
        "system = forcefield.createSystem(\n",
        "    pdb.topology, \n",
        "    nonbondedMethod=PME,\n",
        "    nonbondedCutoff=1*nanometer,\n",
        "    constraints=HBonds\n",
        ")\n",
        "\n",
        "# Create constant temp integrator\n",
        "integrator = LangevinMiddleIntegrator(\n",
        "    300*kelvin,\n",
        "    1/picosecond,\n",
        "    0.004*picoseconds\n",
        ")\n",
        "\n",
        "# Create simulation and set initial positions\n",
        "simulation = Simulation(\n",
        "    pdb.topology,\n",
        "    system,\n",
        "    integrator\n",
        ")\n",
        "simulation.context.setPositions(pdb.positions)\n",
        "\n",
        "# Local energy minimisation\n",
        "simulation.minimizeEnergy()\n",
        "\n",
        "# Create reporters for output\n",
        "simulation.reporters.append(\n",
        "    PDBReporter('output.pdb', 1000)\n",
        ")\n",
        "simulation.reporters.append(\n",
        "    StateDataReporter(\n",
        "        stdout, \n",
        "        1000, \n",
        "        step=True,\n",
        "        potentialEnergy=True, \n",
        "        temperature=True\n",
        "    )\n",
        ")"
      ],
      "execution_count": null,
      "outputs": []
    },
    {
      "cell_type": "code",
      "metadata": {
        "id": "zb8xIDlektlj"
      },
      "source": [
        "# Run the simulation through 10000 time steps\n",
        "simulation.step(10000)"
      ],
      "execution_count": null,
      "outputs": []
    },
    {
      "cell_type": "markdown",
      "metadata": {
        "id": "1R-bb3TvieWN"
      },
      "source": [
        "# Viewer"
      ]
    },
    {
      "cell_type": "code",
      "metadata": {
        "id": "yvRCAsdZpkiJ"
      },
      "source": [
        "import pytraj as pt\n",
        "import nglview as nv\n",
        "from google.colab import output\n",
        "output.enable_custom_widget_manager()"
      ],
      "execution_count": null,
      "outputs": []
    },
    {
      "cell_type": "code",
      "metadata": {
        "id": "AoRwlq1urWNW"
      },
      "source": [
        "traj = pt.load(\"output.pdb\")\n",
        "view = nv.show_pytraj(traj)\n",
        "view.add_representation(\"licorice\")\n",
        "view.add_unitcell()\n",
        "view"
      ],
      "execution_count": null,
      "outputs": []
    }
  ]
}