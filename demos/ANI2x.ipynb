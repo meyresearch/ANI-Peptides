{
 "cells": [
  {
   "cell_type": "markdown",
   "metadata": {
    "colab_type": "text",
    "id": "view-in-github"
   },
   "source": [
    "<a href=\"https://colab.research.google.com/github/meyresearch/ANI-Peptides/blob/main/demos/ANI2x.ipynb\" target=\"_parent\"><img src=\"https://colab.research.google.com/assets/colab-badge.svg\" alt=\"Open In Colab\"/></a>"
   ]
  },
  {
   "cell_type": "markdown",
   "metadata": {
    "id": "UsvmNVNmavgm"
   },
   "source": [
    "# Runtime Environment Setup"
   ]
  },
  {
   "cell_type": "markdown",
   "metadata": {
    "id": "Obanx6qoAgo8"
   },
   "source": [
    "Allow kernel to restart after running this cell."
   ]
  },
  {
   "cell_type": "code",
   "execution_count": 1,
   "metadata": {
    "colab": {
     "base_uri": "https://localhost:8080/"
    },
    "id": "VFkcgvtbaut8",
    "outputId": "c1950176-f019-4a16-8a3c-4478fdf866e6"
   },
   "outputs": [
    {
     "name": "stdout",
     "output_type": "stream",
     "text": [
      "⏬ Downloading https://github.com/jaimergp/miniforge/releases/latest/download/Mambaforge-colab-Linux-x86_64.sh...\n",
      "📦 Installing...\n",
      "📌 Adjusting configuration...\n",
      "🩹 Patching environment...\n",
      "⏲ Done in 0:00:40\n",
      "🔁 Restarting kernel...\n"
     ]
    }
   ],
   "source": [
    "!pip install -q condacolab\n",
    "import condacolab\n",
    "condacolab.install()"
   ]
  },
  {
   "cell_type": "markdown",
   "metadata": {
    "id": "RiYgOUeTA0tR"
   },
   "source": [
    "Ensure good conda/mamba installation"
   ]
  },
  {
   "cell_type": "code",
   "execution_count": 1,
   "metadata": {
    "colab": {
     "base_uri": "https://localhost:8080/"
    },
    "id": "hNCmMpshAzhn",
    "outputId": "1a120228-63ce-4116-e30b-2d80fa18f6de"
   },
   "outputs": [
    {
     "name": "stdout",
     "output_type": "stream",
     "text": [
      "✨🍰✨ Everything looks OK!\n"
     ]
    }
   ],
   "source": [
    "import condacolab\n",
    "condacolab.check()"
   ]
  },
  {
   "cell_type": "markdown",
   "metadata": {
    "id": "9NVtVeO5LPui"
   },
   "source": [
    "Install Dependencies - This takes a little while\n",
    "\n",
    "*   **OpenMM**\n",
    "\n",
    " Base molecular simulation toolkit\n",
    "\n",
    "*   **TorchANI**\n",
    "\n",
    " Implementation of ANI\n",
    "\n",
    "*   **PyTorch**\n",
    "\n",
    " TorchANI runs on the PyTorch machine learning framework \n",
    "\n",
    "*   **OpenMM-Torch**\n",
    "\n",
    " A plugin for OpenMM that allows PyTorch static computation graphs (TorchANI) to be used in OpenMM as a TorchForce object, an OpenMM Force class \n",
    "\n",
    "*   **OpenMM-ML**\n",
    "\n",
    " Implements TorchANI as an OpenMM TorchForce using OpenMM-Torch. The glue that brings everything together!\n",
    "\n",
    "*   **NGLview**\n",
    "\n",
    " 3D molecule viewer\n",
    "\n",
    "*   **PyTraj**\n",
    "\n",
    " Trajectory library"
   ]
  },
  {
   "cell_type": "code",
   "execution_count": 2,
   "metadata": {
    "colab": {
     "base_uri": "https://localhost:8080/"
    },
    "id": "OBwFUplRbOww",
    "outputId": "22df3dc0-7c26-4a0d-841b-4127b544ba08"
   },
   "outputs": [
    {
     "name": "stdout",
     "output_type": "stream",
     "text": [
      "  Package                          Version  Build                       Channel                    Size\n",
      "─────────────────────────────────────────────────────────────────────────────────────────────────────────\n",
      "  Install:\n",
      "─────────────────────────────────────────────────────────────────────────────────────────────────────────\n",
      "\n",
      "\u001b[32m  argcomplete                  \u001b[00m     1.12.3  pyhd8ed1ab_2                conda-forge/noarch        34 KB\n",
      "\u001b[32m  argon2-cffi                  \u001b[00m     21.1.0  py37h5e8e339_2              conda-forge/linux-64      46 KB\n",
      "\u001b[32m  async_generator              \u001b[00m       1.10  py_0                        conda-forge/noarch        18 KB\n",
      "\u001b[32m  attrs                        \u001b[00m     21.2.0  pyhd8ed1ab_0                conda-forge/noarch        44 KB\n",
      "\u001b[32m  backcall                     \u001b[00m      0.2.0  pyh9f0ad1d_0                conda-forge/noarch        13 KB\n",
      "\u001b[32m  backports                    \u001b[00m        1.0  py_2                        conda-forge/noarch         4 KB\n",
      "\u001b[32m  backports.functools_lru_cache\u001b[00m      1.6.4  pyhd8ed1ab_0                conda-forge/noarch         9 KB\n",
      "\u001b[32m  bleach                       \u001b[00m      4.1.0  pyhd8ed1ab_0                conda-forge/noarch       121 KB\n",
      "\u001b[32m  cached-property              \u001b[00m      1.5.2  hd8ed1ab_1                  conda-forge/noarch         4 KB\n",
      "\u001b[32m  cached_property              \u001b[00m      1.5.2  pyha770c72_1                conda-forge/noarch        11 KB\n",
      "\u001b[32m  cudatoolkit                  \u001b[00m     11.1.1  h6406543_8                  conda-forge/linux-64       1 GB\n",
      "\u001b[32m  cudnn                        \u001b[00m   8.2.1.32  h86fa8c9_0                  conda-forge/linux-64     674 MB\n",
      "\u001b[32m  debugpy                      \u001b[00m      1.4.1  py37hcd2ae1e_0              conda-forge/linux-64       2 MB\n",
      "\u001b[32m  decorator                    \u001b[00m      5.1.0  pyhd8ed1ab_0                conda-forge/noarch        11 KB\n",
      "\u001b[32m  defusedxml                   \u001b[00m      0.7.1  pyhd8ed1ab_0                conda-forge/noarch        23 KB\n",
      "\u001b[32m  entrypoints                  \u001b[00m        0.3  py37hc8dfbb8_1002           conda-forge/linux-64      13 KB\n",
      "\u001b[32m  fftw                         \u001b[00m     3.3.10  nompi_hcdd671c_101          conda-forge/linux-64       6 MB\n",
      "\u001b[32m  future                       \u001b[00m     0.18.2  py37h89c1867_4              conda-forge/linux-64     713 KB\n",
      "\u001b[32m  h5py                         \u001b[00m      3.3.0  nompi_py37ha3df211_100      conda-forge/linux-64       1 MB\n",
      "\u001b[32m  hdf5                         \u001b[00m     1.10.6  nompi_h6a2412b_1114         conda-forge/linux-64       3 MB\n",
      "\u001b[32m  importlib-metadata           \u001b[00m      4.8.2  py37h89c1867_0              conda-forge/linux-64      32 KB\n",
      "\u001b[32m  importlib_metadata           \u001b[00m      4.8.2  hd8ed1ab_0                  conda-forge/noarch         4 KB\n",
      "\u001b[32m  importlib_resources          \u001b[00m      5.4.0  pyhd8ed1ab_0                conda-forge/noarch        21 KB\n",
      "\u001b[32m  ipykernel                    \u001b[00m      6.4.2  py37h6531663_0              conda-forge/linux-64     173 KB\n",
      "\u001b[32m  ipython                      \u001b[00m     7.29.0  py37h6531663_0              conda-forge/linux-64       1 MB\n",
      "\u001b[32m  ipython_genutils             \u001b[00m      0.2.0  py_1                        conda-forge/noarch        21 KB\n",
      "\u001b[32m  ipywidgets                   \u001b[00m      7.6.5  pyhd8ed1ab_0                conda-forge/noarch       101 KB\n",
      "\u001b[32m  jedi                         \u001b[00m     0.18.0  py37h89c1867_3              conda-forge/linux-64     928 KB\n",
      "\u001b[32m  jinja2                       \u001b[00m      3.0.2  pyhd8ed1ab_0                conda-forge/noarch        99 KB\n",
      "\u001b[32m  jsonschema                   \u001b[00m      4.2.1  pyhd8ed1ab_0                conda-forge/noarch       118 KB\n",
      "\u001b[32m  jupyter_client               \u001b[00m      7.0.6  pyhd8ed1ab_0                conda-forge/noarch        87 KB\n",
      "\u001b[32m  jupyter_core                 \u001b[00m      4.9.1  py37h89c1867_0              conda-forge/linux-64      80 KB\n",
      "\u001b[32m  jupyterlab_pygments          \u001b[00m      0.1.2  pyh9f0ad1d_0                conda-forge/noarch         8 KB\n",
      "\u001b[32m  jupyterlab_widgets           \u001b[00m      1.0.2  pyhd8ed1ab_0                conda-forge/noarch       130 KB\n",
      "\u001b[32m  lark-parser                  \u001b[00m     0.12.0  pyhd8ed1ab_0                conda-forge/noarch        78 KB\n",
      "\u001b[32m  libblas                      \u001b[00m      3.9.0  8_mkl                       conda-forge/linux-64      12 KB\n",
      "\u001b[32m  libcblas                     \u001b[00m      3.9.0  8_mkl                       conda-forge/linux-64      11 KB\n",
      "\u001b[32m  libgfortran-ng               \u001b[00m     11.2.0  h69a702a_11                 conda-forge/linux-64      19 KB\n",
      "\u001b[32m  libgfortran5                 \u001b[00m     11.2.0  h5c6108e_11                 conda-forge/linux-64       2 MB\n",
      "\u001b[32m  liblapack                    \u001b[00m      3.9.0  8_mkl                       conda-forge/linux-64      11 KB\n",
      "\u001b[32m  libprotobuf                  \u001b[00m     3.15.8  h780b84a_0                  conda-forge/linux-64       2 MB\n",
      "\u001b[32m  libsodium                    \u001b[00m     1.0.18  h516909a_1                  conda-forge/linux-64     366 KB\n",
      "\u001b[32m  llvm-openmp                  \u001b[00m     12.0.1  h4bd325d_1                  conda-forge/linux-64       3 MB\n",
      "\u001b[32m  magma                        \u001b[00m      2.5.4  ha9b7cf9_2                  conda-forge/linux-64     105 MB\n",
      "\u001b[32m  markupsafe                   \u001b[00m      2.0.1  py37h5e8e339_1              conda-forge/linux-64      22 KB\n",
      "\u001b[32m  matplotlib-inline            \u001b[00m      0.1.3  pyhd8ed1ab_0                conda-forge/noarch        11 KB\n",
      "\u001b[32m  mistune                      \u001b[00m      0.8.4  py37h5e8e339_1005           conda-forge/linux-64      54 KB\n",
      "\u001b[32m  mkl                          \u001b[00m     2020.4  h726a3e6_304                conda-forge/linux-64     216 MB\n",
      "\u001b[32m  nbclient                     \u001b[00m      0.5.5  pyhd8ed1ab_0                conda-forge/noarch        63 KB\n",
      "\u001b[32m  nbconvert                    \u001b[00m      6.2.0  py37h89c1867_0              conda-forge/linux-64     553 KB\n",
      "\u001b[32m  nbformat                     \u001b[00m      5.1.3  pyhd8ed1ab_0                conda-forge/noarch        47 KB\n",
      "\u001b[32m  nccl                         \u001b[00m   2.11.4.1  h97a9cb7_0                  conda-forge/linux-64     174 MB\n",
      "\u001b[32m  nest-asyncio                 \u001b[00m      1.5.1  pyhd8ed1ab_0                conda-forge/noarch         9 KB\n",
      "\u001b[32m  nglview                      \u001b[00m      3.0.3  pyh8a188c0_0                conda-forge/noarch         6 MB\n",
      "\u001b[32m  ninja                        \u001b[00m     1.10.2  h4bd325d_0                  conda-forge/linux-64       2 MB\n",
      "\u001b[32m  notebook                     \u001b[00m      6.4.5  pyha770c72_0                conda-forge/noarch         6 MB\n",
      "\u001b[32m  numpy                        \u001b[00m     1.21.4  py37h31617e3_0              conda-forge/linux-64       6 MB\n",
      "\u001b[32m  ocl-icd                      \u001b[00m      2.3.1  h7f98852_0                  conda-forge/linux-64     119 KB\n",
      "\u001b[32m  ocl-icd-system               \u001b[00m      1.0.0  1                           conda-forge/linux-64       4 KB\n",
      "\u001b[32m  openmm                       \u001b[00m      7.6.0  py37he27d83c_0              conda-forge/linux-64      11 MB\n",
      "\u001b[32m  openmm-torch                 \u001b[00m        0.4  cuda111py37hd230915_1       conda-forge/linux-64     152 KB\n",
      "\u001b[32m  packaging                    \u001b[00m       21.2  pyhd8ed1ab_1                conda-forge/noarch        35 KB\n",
      "\u001b[32m  pandoc                       \u001b[00m     2.16.1  h7f98852_0                  conda-forge/linux-64      13 MB\n",
      "\u001b[32m  pandocfilters                \u001b[00m      1.5.0  pyhd8ed1ab_0                conda-forge/noarch        11 KB\n",
      "\u001b[32m  parso                        \u001b[00m      0.8.2  pyhd8ed1ab_0                conda-forge/noarch        68 KB\n",
      "\u001b[32m  pexpect                      \u001b[00m      4.8.0  py37hc8dfbb8_1              conda-forge/linux-64      79 KB\n",
      "\u001b[32m  pickleshare                  \u001b[00m      0.7.5  py37hc8dfbb8_1002           conda-forge/linux-64      13 KB\n",
      "\u001b[32m  prometheus_client            \u001b[00m     0.12.0  pyhd8ed1ab_0                conda-forge/noarch        47 KB\n",
      "\u001b[32m  prompt-toolkit               \u001b[00m     3.0.22  pyha770c72_0                conda-forge/noarch       249 KB\n",
      "\u001b[32m  ptyprocess                   \u001b[00m      0.7.0  pyhd3deb0d_0                conda-forge/noarch        16 KB\n",
      "\u001b[32m  pygments                     \u001b[00m     2.10.0  pyhd8ed1ab_0                conda-forge/noarch       760 KB\n",
      "\u001b[32m  pyparsing                    \u001b[00m      2.4.7  pyhd8ed1ab_1                conda-forge/noarch        60 KB\n",
      "\u001b[32m  pyrsistent                   \u001b[00m     0.18.0  py37h5e8e339_0              conda-forge/linux-64      90 KB\n",
      "\u001b[32m  python-dateutil              \u001b[00m      2.8.2  pyhd8ed1ab_0                conda-forge/noarch       240 KB\n",
      "\u001b[32m  pytorch                      \u001b[00m      1.8.0  cuda111py37h50e976f_1       conda-forge/linux-64     827 MB\n",
      "\u001b[32m  pytorch-gpu                  \u001b[00m      1.8.0  cuda111py37h788eb59_1       conda-forge/linux-64      12 KB\n",
      "\u001b[32m  pyzmq                        \u001b[00m     22.1.0  py37h336d617_0              conda-forge/linux-64     500 KB\n",
      "\u001b[32m  send2trash                   \u001b[00m      1.8.0  pyhd8ed1ab_0                conda-forge/noarch        17 KB\n",
      "\u001b[32m  sleef                        \u001b[00m      3.5.1  h28343ad_2                  conda-forge/linux-64       1 MB\n",
      "\u001b[32m  terminado                    \u001b[00m     0.12.1  py37h89c1867_1              conda-forge/linux-64      28 KB\n",
      "\u001b[32m  testpath                     \u001b[00m      0.5.0  pyhd8ed1ab_0                conda-forge/noarch        86 KB\n",
      "\u001b[32m  torchani                     \u001b[00m      2.2.2  py37cuda111hedfbbc8_0_cuda  conda-forge/linux-64      22 MB\n",
      "\u001b[32m  tornado                      \u001b[00m        6.1  py37h5e8e339_2              conda-forge/linux-64     642 KB\n",
      "\u001b[32m  traitlets                    \u001b[00m      5.1.1  pyhd8ed1ab_0                conda-forge/noarch        82 KB\n",
      "\u001b[32m  typing_extensions            \u001b[00m   3.10.0.2  pyha770c72_0                conda-forge/noarch        28 KB\n",
      "\u001b[32m  wcwidth                      \u001b[00m      0.2.5  pyh9f0ad1d_2                conda-forge/noarch        33 KB\n",
      "\u001b[32m  webencodings                 \u001b[00m      0.5.1  py_1                        conda-forge/noarch        12 KB\n",
      "\u001b[32m  widgetsnbextension           \u001b[00m      3.5.2  py37h89c1867_0              conda-forge/linux-64       1 MB\n",
      "\u001b[32m  zeromq                       \u001b[00m      4.3.4  h9c3ff4c_0                  conda-forge/linux-64     352 KB\n",
      "\u001b[32m  zipp                         \u001b[00m      3.6.0  pyhd8ed1ab_0                conda-forge/noarch        12 KB\n",
      "\n",
      "  Change:\n",
      "─────────────────────────────────────────────────────────────────────────────────────────────────────────\n",
      "\n",
      "\u001b[31m  _openmp_mutex                \u001b[00m        4.5  1_gnu                       installed                      \n",
      "\u001b[32m  _openmp_mutex                \u001b[00m        4.5  1_llvm                      conda-forge/linux-64       5 KB\n",
      "\n",
      "  Upgrade:\n",
      "─────────────────────────────────────────────────────────────────────────────────────────────────────────\n",
      "\n",
      "\u001b[31m  ca-certificates              \u001b[00m  2020.12.5  ha878542_0                  installed                      \n",
      "\u001b[32m  ca-certificates              \u001b[00m  2021.10.8  ha878542_0                  conda-forge/linux-64     139 KB\n",
      "\u001b[31m  certifi                      \u001b[00m  2020.12.5  py37h89c1867_1              installed                      \n",
      "\u001b[32m  certifi                      \u001b[00m  2021.10.8  py37h89c1867_1              conda-forge/linux-64     145 KB\n",
      "\u001b[31m  libgcc-ng                    \u001b[00m      9.3.0  h2828fa1_18                 installed                      \n",
      "\u001b[32m  libgcc-ng                    \u001b[00m     11.2.0  h1d223b6_11                 conda-forge/linux-64     887 KB\n",
      "\u001b[31m  libgomp                      \u001b[00m      9.3.0  h2828fa1_18                 installed                      \n",
      "\u001b[32m  libgomp                      \u001b[00m     11.2.0  h1d223b6_11                 conda-forge/linux-64     427 KB\n",
      "\u001b[31m  openssl                      \u001b[00m     1.1.1j  h7f98852_0                  installed                      \n",
      "\u001b[32m  openssl                      \u001b[00m     1.1.1l  h7f98852_0                  conda-forge/linux-64       2 MB\n",
      "\n",
      "  Summary:\n",
      "\n",
      "  Install: 90 packages\n",
      "  Change: 1 packages\n",
      "  Upgrade: 5 packages\n",
      "\n",
      "  Total download: 3 GB\n",
      "\n",
      "─────────────────────────────────────────────────────────────────────────────────────────────────────────\n",
      "\n",
      "Preparing transaction: ...working... done\n",
      "Verifying transaction: ...working... done\n",
      "Executing transaction: ...working... By downloading and using the CUDA Toolkit conda packages, you accept the terms and conditions of the CUDA End User License Agreement (EULA): https://docs.nvidia.com/cuda/eula/index.html\n",
      "\n",
      "By downloading and using the cuDNN conda packages, you accept the terms and conditions of the NVIDIA cuDNN EULA -\n",
      "  https://docs.nvidia.com/deeplearning/cudnn/sla/index.html\n",
      "\n",
      "Enabling notebook extension jupyter-js-widgets/extension...\n",
      "Paths used for configuration of notebook: \n",
      "    \t/usr/local/etc/jupyter/nbconfig/notebook.d/nglview-js-widgets.json\n",
      "    \t/usr/local/etc/jupyter/nbconfig/notebook.d/plotlywidget.json\n",
      "    \t/usr/local/etc/jupyter/nbconfig/notebook.d/widgetsnbextension.json\n",
      "    \t/usr/local/etc/jupyter/nbconfig/notebook.json\n",
      "Paths used for configuration of notebook: \n",
      "    \t/usr/local/etc/jupyter/nbconfig/notebook.d/nglview-js-widgets.json\n",
      "    \t/usr/local/etc/jupyter/nbconfig/notebook.d/plotlywidget.json\n",
      "    \t/usr/local/etc/jupyter/nbconfig/notebook.d/widgetsnbextension.json\n",
      "      - Validating: \u001b[32mOK\u001b[0m\n",
      "Paths used for configuration of notebook: \n",
      "    \t/usr/local/etc/jupyter/nbconfig/notebook.d/nglview-js-widgets.json\n",
      "    \t/usr/local/etc/jupyter/nbconfig/notebook.d/plotlywidget.json\n",
      "    \t/usr/local/etc/jupyter/nbconfig/notebook.d/widgetsnbextension.json\n",
      "    \t/usr/local/etc/jupyter/nbconfig/notebook.json\n",
      "\n",
      "done\n",
      "\u001b[K     |████████████████████████████████| 16.1 MB 115 kB/s \n",
      "\u001b[?25hCloning into 'openmm-ml'...\n",
      "remote: Enumerating objects: 59, done.\u001b[K\n",
      "remote: Counting objects: 100% (59/59), done.\u001b[K\n",
      "remote: Compressing objects: 100% (44/44), done.\u001b[K\n",
      "remote: Total 59 (delta 26), reused 39 (delta 14), pack-reused 0\u001b[K\n",
      "Unpacking objects: 100% (59/59), done.\n",
      "Processing ./openmm-ml\n",
      "Requirement already satisfied: numpy in /usr/local/lib/python3.7/site-packages (from openmmml==1.0) (1.21.4)\n",
      "Requirement already satisfied: openmm>=7.5 in /usr/local/lib/python3.7/site-packages (from openmmml==1.0) (7.6.0)\n",
      "Building wheels for collected packages: openmmml\n",
      "  Building wheel for openmmml (setup.py) ... \u001b[?25l\u001b[?25hdone\n",
      "  Created wheel for openmmml: filename=openmmml-1.0-py3-none-any.whl size=8811 sha256=330f3775b11f1d20af5faac5aeedf173362819de768f10d567e1bcee4f96ad55\n",
      "  Stored in directory: /root/.cache/pip/wheels/55/f7/57/41db8c59a54ba7661a6e69e705a550cd2f5bea8830f8661329\n",
      "Successfully built openmmml\n",
      "Installing collected packages: openmmml\n",
      "Successfully installed openmmml-1.0\n"
     ]
    }
   ],
   "source": [
    "# seems to be some bug in pytorch, need to try to find a combination of dependencies that works.\n",
    "# no difference using conda\n",
    "\n",
    "!mamba install -q openmm openmm-torch pytorch torchani nglview\n",
    "!pip install -q pytraj\n",
    "!git clone https://github.com/openmm/openmm-ml\n",
    "!pip install openmm-ml/."
   ]
  },
  {
   "cell_type": "markdown",
   "metadata": {
    "id": "pX6ARn5sMsJh"
   },
   "source": [
    "Test OpenMM"
   ]
  },
  {
   "cell_type": "code",
   "execution_count": 13,
   "metadata": {
    "colab": {
     "base_uri": "https://localhost:8080/"
    },
    "id": "Jq57Nf3bhlzv",
    "outputId": "183b880c-725e-4412-c12d-f6a532b50c40",
    "scrolled": true
   },
   "outputs": [
    {
     "name": "stdout",
     "output_type": "stream",
     "text": [
      "\n",
      "OpenMM Version: 7.7\n",
      "Git Revision: 130124a3f9277b054ec40927360a6ad20c8f5fa6\n",
      "\n",
      "There are 4 Platforms available:\n",
      "\n",
      "1 Reference - Successfully computed forces\n",
      "2 CPU - Successfully computed forces\n",
      "3 CUDA - Successfully computed forces\n",
      "4 OpenCL - Successfully computed forces\n",
      "\n",
      "Median difference in forces between platforms:\n",
      "\n",
      "Reference vs. CPU: 6.2902e-06\n",
      "Reference vs. CUDA: 6.73547e-06\n",
      "CPU vs. CUDA: 7.30642e-07\n",
      "Reference vs. OpenCL: 1  *** LARGE DIFFERENCE **\n",
      "CPU vs. OpenCL: 1  *** LARGE DIFFERENCE **\n",
      "CUDA vs. OpenCL: 1  *** LARGE DIFFERENCE **\n",
      "Problem with OpenMM installation encountered. OpenMM will not work correctly until the problem has been fixed.\n",
      "\n",
      "\n",
      "Error message: Large differences observed. See messages above.\n"
     ]
    }
   ],
   "source": [
    "!python -m openmm.testInstallation"
   ]
  },
  {
   "cell_type": "code",
   "execution_count": 11,
   "metadata": {},
   "outputs": [
    {
     "name": "stdout",
     "output_type": "stream",
     "text": [
      "<openmm.openmm.Platform; proxy of <Swig Object of type 'OpenMM::Platform *' at 0x7fb15c959d80> >\n"
     ]
    }
   ],
   "source": []
  },
  {
   "cell_type": "markdown",
   "metadata": {
    "id": "lZZgEciFhYHz"
   },
   "source": [
    "Fetch sample peptide"
   ]
  },
  {
   "cell_type": "code",
   "execution_count": 5,
   "metadata": {
    "id": "gGeSIWlXhJfH"
   },
   "outputs": [],
   "source": [
    "!wget -q https://github.com/meyresearch/ANI-Peptides/raw/main/demos/aaa.pdb"
   ]
  },
  {
   "cell_type": "markdown",
   "metadata": {
    "id": "iaJYxPXNpJYJ"
   },
   "source": [
    "# ANI Simulation"
   ]
  },
  {
   "cell_type": "markdown",
   "metadata": {
    "id": "yohGt2jltN80"
   },
   "source": [
    "ANI2x cannot simulate Na or Cl in solvent. We create a mixed system where our protein is simulated by ANI, and the solvent by AMBER."
   ]
  },
  {
   "cell_type": "code",
   "execution_count": 2,
   "metadata": {
    "id": "PtLiP1fxjibi"
   },
   "outputs": [],
   "source": [
    "# Import libraries\n",
    "from openmm.app import *\n",
    "from openmm import *\n",
    "from openmm.unit import *\n",
    "from openmmml import MLPotential"
   ]
  },
  {
   "cell_type": "code",
   "execution_count": 8,
   "metadata": {
    "id": "r_VUSn0ok7Mm"
   },
   "outputs": [],
   "source": [
    "# Progress bar for simulations\n",
    "\n",
    "from IPython.display import ProgressBar\n",
    "\n",
    "class ProgressBarWriter(ProgressBar):\n",
    "    def write(self, string):\n",
    "        if string.startswith(\"#\"):\n",
    "            self.progress = 0\n",
    "        else:\n",
    "            string = string.strip(',\\n')\n",
    "            try:\n",
    "                self.progress = int(string)\n",
    "            except ValueError:\n",
    "                pass\n",
    "\n",
    "def ProgressBarReporter(steps, interval):\n",
    "    return StateDataReporter(\n",
    "        ProgressBarWriter(total = steps), \n",
    "        interval, \n",
    "        step = True,\n",
    "        totalSteps = steps,\n",
    "    )"
   ]
  },
  {
   "cell_type": "code",
   "execution_count": 4,
   "metadata": {
    "id": "MPszWWyDlAgc"
   },
   "outputs": [],
   "source": [
    "# Simulation function (to run simulations consistently)\n",
    "\n",
    "def simulate(\n",
    "    simulation,\n",
    "    output_pdb_filename: str = \"output.pdb\",\n",
    "    output_state_data_filename: str = \"state_data.csv\",\n",
    "    step_size: Quantity = 0.004*femtoseconds,\n",
    "    steps: int or None = 100000,\n",
    "    duration: Quantity or None = None,\n",
    "    pdb_report_interval: int or None = None,\n",
    "    state_report_interval: int or None = None,\n",
    "    progressbar_interval: int or None = None,\n",
    "):\n",
    "    assert duration or steps\n",
    "\n",
    "    if duration:\n",
    "        steps = int(duration / step_size)\n",
    "\n",
    "    if not pdb_report_interval:\n",
    "        pdb_report_interval = steps // 10\n",
    "\n",
    "    if not state_report_interval:\n",
    "        state_report_interval = steps // 10\n",
    "\n",
    "    if not progressbar_interval:\n",
    "        progressbar_interval = steps // 50\n",
    "\n",
    "    # Create pdb file reporter\n",
    "    simulation.reporters.append(\n",
    "        PDBReporter(\n",
    "            output_pdb_filename,\n",
    "            pdb_report_interval\n",
    "        )\n",
    "    )\n",
    "\n",
    "    # Create state data file reporter\n",
    "    simulation.reporters.append(\n",
    "        StateDataReporter(\n",
    "            output_state_data_filename, \n",
    "            state_report_interval, \n",
    "            step=True,\n",
    "            potentialEnergy=True, \n",
    "            temperature=True\n",
    "        )\n",
    "    )\n",
    "\n",
    "    # Create progress bar reporter\n",
    "    simulation.reporters.append(\n",
    "        ProgressBarReporter(steps, progressbar_interval)\n",
    "    )\n",
    "\n",
    "    # Run simulation through specified time steps\n",
    "    print(\"Running simulation...\")\n",
    "    simulation.step(steps)"
   ]
  },
  {
   "cell_type": "code",
   "execution_count": 2,
   "metadata": {},
   "outputs": [],
   "source": [
    "# Import libraries\n",
    "from openmm.app import *\n",
    "from openmm import *\n",
    "from openmm.unit import *\n",
    "from openmmml import MLPotential\n",
    "# Load sample peptide\n",
    "pdb = PDBFile('aaa.pdb')\n",
    "ml_atoms  = [atom.index for atom in pdb.topology.atoms() if atom.residue.name == \"ALA\"]"
   ]
  },
  {
   "cell_type": "code",
   "execution_count": 12,
   "metadata": {
    "id": "WZeQJve0lGi7"
   },
   "outputs": [],
   "source": [
    "# Equilibration function - Constant pressure & temp\n",
    "\n",
    "def equilibrate(\n",
    "    coords: Topology,\n",
    "    forcefield: ForceField,\n",
    "    pressure: Quantity = 1*atmosphere,\n",
    "    temperature: Quantity = 300*kelvin,\n",
    "    friction_coeff: Quantity = 1/femtosecond,\n",
    "    step_size: Quantity = 0.004*femtoseconds,\n",
    "    **kwargs\n",
    "):      \n",
    "    print(\"Initialising equilibration run...\")\n",
    "\n",
    "    # Create AMBER system\n",
    "    mm_system = forcefield.createSystem(\n",
    "        coords.topology, \n",
    "        nonbondedMethod=PME,\n",
    "        nonbondedCutoff=1*nanometer,\n",
    "        constraints=AllBonds,\n",
    "        hydrogenMass=4*amu,\n",
    "    )\n",
    "\n",
    "    # Select protein atoms to be simulated by ANI2x\n",
    "    ml_atoms  = [atom.index for atom in pdb.topology.atoms() if atom.residue.name == \"ALA\"]\n",
    "\n",
    "    # Create ANI2x potential\n",
    "    potential = MLPotential('ani2x')\n",
    "    platform = Platform.getPlatformByName('CUDA')\n",
    "\n",
    "\n",
    "    # Create mixed ANI/AMBER system\n",
    "    ml_system = potential.createMixedSystem(pdb.topology, mm_system, ml_atoms)\n",
    "\n",
    "    # Add a barostat for constant pressure\n",
    "    ml_system.addForce(\n",
    "        MonteCarloBarostat(\n",
    "            pressure,\n",
    "            temperature\n",
    "        )\n",
    "    )\n",
    "\n",
    "    # Create constant temp integrator\n",
    "    integrator = LangevinMiddleIntegrator(\n",
    "        temperature,\n",
    "        friction_coeff,\n",
    "        step_size\n",
    "    )\n",
    "\n",
    "    # Create simulation and set initial positions\n",
    "    simulation = Simulation(\n",
    "        coords.topology,\n",
    "        ml_system,\n",
    "        integrator,\n",
    "        Platform.getPlatformByName('CUDA')\n",
    "    )\n",
    "    simulation.context.setPositions(coords.positions)\n",
    "\n",
    "    # Local energy minimisation\n",
    "    print(\"Local energy minimisation...\")\n",
    "    simulation.minimizeEnergy()\n",
    "\n",
    "    simulate(\n",
    "        simulation,\n",
    "        **kwargs\n",
    "    )\n",
    "\n",
    "    return simulation"
   ]
  },
  {
   "cell_type": "code",
   "execution_count": 16,
   "metadata": {
    "id": "oMuU1_M-lKrv"
   },
   "outputs": [],
   "source": [
    "# Production function - Constant volume & temp\n",
    "\n",
    "def production(\n",
    "    coords: Topology,\n",
    "    forcefield: ForceField,\n",
    "    temperature: Quantity = 300*kelvin,\n",
    "    friction_coeff: Quantity = 1/femtosecond,\n",
    "    step_size: Quantity = 0.004*femtoseconds,\n",
    "    **kwargs\n",
    "):      \n",
    "    print(\"Initialising production run...\")\n",
    "\n",
    "    # Create AMBER system\n",
    "    mm_system = forcefield.createSystem(\n",
    "        coords.topology, \n",
    "        nonbondedMethod=PME,\n",
    "        nonbondedCutoff=1*nanometer,\n",
    "        constraints=AllBonds,\n",
    "        hydrogenMass=4*amu,\n",
    "    )\n",
    "\n",
    "    # Select protein atoms to be simulated by ANI2x\n",
    "    ml_atoms  = [atom.index for atom in pdb.topology.atoms() if atom.residue.name == \"ALA\"]\n",
    "\n",
    "    # Create ANI2x potential\n",
    "    potential = MLPotential('ani2x')\n",
    "\n",
    "    # Create mixed ANI/AMBER system\n",
    "    ml_system = potential.createMixedSystem(pdb.topology, mm_system, ml_atoms)\n",
    "\n",
    "    # Create constant temp integrator\n",
    "    integrator = LangevinMiddleIntegrator(\n",
    "        temperature,\n",
    "        friction_coeff,\n",
    "        step_size\n",
    "    )\n",
    "\n",
    "    # Create simulation and set initial positions\n",
    "    simulation = Simulation(\n",
    "        coords.topology,\n",
    "        ml_system,\n",
    "        integrator,\n",
    "        Platform.getPlatformByName('CUDA')\n",
    "    )\n",
    "    simulation.context.setPositions(coords.positions)\n",
    "\n",
    "\n",
    "    simulate(\n",
    "        simulation,\n",
    "        **kwargs\n",
    "    )\n",
    "\n",
    "    return simulation"
   ]
  },
  {
   "cell_type": "code",
   "execution_count": 17,
   "metadata": {
    "colab": {
     "base_uri": "https://localhost:8080/",
     "height": 270
    },
    "id": "PCEvZ6ZulMnQ",
    "outputId": "0bcf54f5-939e-4911-92ea-01ec529d8159"
   },
   "outputs": [
    {
     "name": "stdout",
     "output_type": "stream",
     "text": [
      "Initialising equilibration run...\n",
      "/home/mbowley/miniconda3/envs/ani/lib/python3.9/site-packages/torchani/resources/\n",
      "Local energy minimisation...\n"
     ]
    },
    {
     "ename": "OpenMMException",
     "evalue": "The following operation failed in the TorchScript interpreter.\nTraceback of TorchScript, serialized code (most recent call last):\n  File \"code/__torch__/openmmml/models/anipotential/___torch_mangle_16.py\", line 34, in forward\n      _6 = torch.mul(boxvectors1, 10.)\n      pbc = self.pbc\n      _7, energy1, = (model0).forward(_5, _6, pbc, )\n                      ~~~~~~~~~~~~~~~ <--- HERE\n      energy = energy1\n    energyScale = self.energyScale\n  File \"code/__torch__/torchani/models.py\", line 32, in forward\n      pass\n    aev_computer = self.aev_computer\n    species_aevs = (aev_computer).forward(species_coordinates0, cell, pbc, )\n                    ~~~~~~~~~~~~~~~~~~~~~ <--- HERE\n    neural_networks = self.neural_networks\n    species_energies = (neural_networks).forward(species_aevs, None, None, )\n  File \"code/__torch__/torchani/aev.py\", line 68, in forward\n        ops.prim.RaiseException(\"AssertionError: \")\n        cell3, pbc0 = _1, _1\n      shifts = _0(cell3, pbc0, 5.0999999999999996, )\n               ~~ <--- HERE\n      triu_index0 = self.triu_index\n      aev1 = __torch__.torchani.aev.compute_aev(species, coordinates, triu_index0, (self).constants(), (7, 16, 112, 32, 896), (cell3, shifts), )\n  File \"code/__torch__/torchani/aev.py\", line 163, in compute_shifts\n  num_repeats = torch.to(_34, 4)\n  _35 = torch.new_zeros(num_repeats, annotate(List[int], []))\n  num_repeats0 = torch.where(pbc, num_repeats, _35)\n                 ~~~~~~~~~~~ <--- HERE\n  _36 = torch.item(torch.select(num_repeats0, 0, 0))\n  r1 = torch.arange(1, torch.add(_36, 1), dtype=None, layout=None, device=ops.prim.device(cell))\n\nTraceback of TorchScript, original code (most recent call last):\n  File \"/home/mbowley/miniconda3/envs/ani/lib/python3.9/site-packages/openmmml/models/anipotential.py\", line 111, in forward\n                else:\n                    boxvectors = boxvectors.to(torch.float32)\n                    _, energy = self.model((self.species, 10.0*positions.unsqueeze(0)), cell=10.0*boxvectors, pbc=self.pbc)\n                                ~~~~~~~~~~ <--- HERE\n                return self.energyScale*energy\n  File \"/home/mbowley/miniconda3/envs/ani/lib/python3.9/site-packages/torchani/models.py\", line 106, in forward\n            raise ValueError(f'Unknown species found in {species_coordinates[0]}')\n    \n        species_aevs = self.aev_computer(species_coordinates, cell=cell, pbc=pbc)\n                       ~~~~~~~~~~~~~~~~~ <--- HERE\n        species_energies = self.neural_networks(species_aevs)\n        return self.energy_shifter(species_energies)\n  File \"/home/mbowley/miniconda3/envs/ani/lib/python3.9/site-packages/torchani/aev.py\", line 532, in forward\n            assert (cell is not None and pbc is not None)\n            cutoff = max(self.Rcr, self.Rca)\n            shifts = compute_shifts(cell, pbc, cutoff)\n                     ~~~~~~~~~~~~~~ <--- HERE\n            aev = compute_aev(species, coordinates, self.triu_index, self.constants(), self.sizes, (cell, shifts))\n    \n  File \"/home/mbowley/miniconda3/envs/ani/lib/python3.9/site-packages/torchani/aev.py\", line 114, in compute_shifts\n    inv_distances = reciprocal_cell.norm(2, -1)\n    num_repeats = torch.ceil(cutoff * inv_distances).to(torch.long)\n    num_repeats = torch.where(pbc, num_repeats, num_repeats.new_zeros(()))\n                  ~~~~~~~~~~~ <--- HERE\n    r1 = torch.arange(1, num_repeats[0].item() + 1, device=cell.device)\n    r2 = torch.arange(1, num_repeats[1].item() + 1, device=cell.device)\nRuntimeError: Expected condition, x and y to be on the same device, but condition is on cpu and x and y are on cuda:0 and cuda:0 respectively\n",
     "output_type": "error",
     "traceback": [
      "\u001b[0;31m---------------------------------------------------------------------------\u001b[0m",
      "\u001b[0;31mOpenMMException\u001b[0m                           Traceback (most recent call last)",
      "\u001b[0;32m/tmp/ipykernel_659665/2593128698.py\u001b[0m in \u001b[0;36m<module>\u001b[0;34m\u001b[0m\n\u001b[1;32m     12\u001b[0m \u001b[0mmodeller\u001b[0m\u001b[0;34m.\u001b[0m\u001b[0maddSolvent\u001b[0m\u001b[0;34m(\u001b[0m\u001b[0mforcefield\u001b[0m\u001b[0;34m,\u001b[0m \u001b[0mmodel\u001b[0m\u001b[0;34m=\u001b[0m\u001b[0;34m'tip3p'\u001b[0m\u001b[0;34m,\u001b[0m \u001b[0mpadding\u001b[0m\u001b[0;34m=\u001b[0m\u001b[0;36m1\u001b[0m\u001b[0;34m*\u001b[0m\u001b[0mnanometer\u001b[0m\u001b[0;34m)\u001b[0m\u001b[0;34m\u001b[0m\u001b[0;34m\u001b[0m\u001b[0m\n\u001b[1;32m     13\u001b[0m \u001b[0;34m\u001b[0m\u001b[0m\n\u001b[0;32m---> 14\u001b[0;31m simulation = equilibrate(\n\u001b[0m\u001b[1;32m     15\u001b[0m     \u001b[0mmodeller\u001b[0m\u001b[0;34m,\u001b[0m\u001b[0;34m\u001b[0m\u001b[0;34m\u001b[0m\u001b[0m\n\u001b[1;32m     16\u001b[0m     \u001b[0mforcefield\u001b[0m\u001b[0;34m,\u001b[0m\u001b[0;34m\u001b[0m\u001b[0;34m\u001b[0m\u001b[0m\n",
      "\u001b[0;32m/tmp/ipykernel_659665/2271152977.py\u001b[0m in \u001b[0;36mequilibrate\u001b[0;34m(coords, forcefield, pressure, temperature, friction_coeff, step_size, **kwargs)\u001b[0m\n\u001b[1;32m     58\u001b[0m     \u001b[0;31m# Local energy minimisation\u001b[0m\u001b[0;34m\u001b[0m\u001b[0;34m\u001b[0m\u001b[0m\n\u001b[1;32m     59\u001b[0m     \u001b[0mprint\u001b[0m\u001b[0;34m(\u001b[0m\u001b[0;34m\"Local energy minimisation...\"\u001b[0m\u001b[0;34m)\u001b[0m\u001b[0;34m\u001b[0m\u001b[0;34m\u001b[0m\u001b[0m\n\u001b[0;32m---> 60\u001b[0;31m     \u001b[0msimulation\u001b[0m\u001b[0;34m.\u001b[0m\u001b[0mminimizeEnergy\u001b[0m\u001b[0;34m(\u001b[0m\u001b[0;34m)\u001b[0m\u001b[0;34m\u001b[0m\u001b[0;34m\u001b[0m\u001b[0m\n\u001b[0m\u001b[1;32m     61\u001b[0m \u001b[0;34m\u001b[0m\u001b[0m\n\u001b[1;32m     62\u001b[0m     simulate(\n",
      "\u001b[0;32m~/miniconda3/envs/ani/lib/python3.9/site-packages/openmm/app/simulation.py\u001b[0m in \u001b[0;36mminimizeEnergy\u001b[0;34m(self, tolerance, maxIterations)\u001b[0m\n\u001b[1;32m    135\u001b[0m             \u001b[0mto\u001b[0m \u001b[0mhow\u001b[0m \u001b[0mmany\u001b[0m \u001b[0miterations\u001b[0m \u001b[0mit\u001b[0m \u001b[0mtakes\u001b[0m\u001b[0;34m.\u001b[0m\u001b[0;34m\u001b[0m\u001b[0;34m\u001b[0m\u001b[0m\n\u001b[1;32m    136\u001b[0m         \"\"\"\n\u001b[0;32m--> 137\u001b[0;31m         \u001b[0mmm\u001b[0m\u001b[0;34m.\u001b[0m\u001b[0mLocalEnergyMinimizer\u001b[0m\u001b[0;34m.\u001b[0m\u001b[0mminimize\u001b[0m\u001b[0;34m(\u001b[0m\u001b[0mself\u001b[0m\u001b[0;34m.\u001b[0m\u001b[0mcontext\u001b[0m\u001b[0;34m,\u001b[0m \u001b[0mtolerance\u001b[0m\u001b[0;34m,\u001b[0m \u001b[0mmaxIterations\u001b[0m\u001b[0;34m)\u001b[0m\u001b[0;34m\u001b[0m\u001b[0;34m\u001b[0m\u001b[0m\n\u001b[0m\u001b[1;32m    138\u001b[0m \u001b[0;34m\u001b[0m\u001b[0m\n\u001b[1;32m    139\u001b[0m     \u001b[0;32mdef\u001b[0m \u001b[0mstep\u001b[0m\u001b[0;34m(\u001b[0m\u001b[0mself\u001b[0m\u001b[0;34m,\u001b[0m \u001b[0msteps\u001b[0m\u001b[0;34m)\u001b[0m\u001b[0;34m:\u001b[0m\u001b[0;34m\u001b[0m\u001b[0;34m\u001b[0m\u001b[0m\n",
      "\u001b[0;32m~/miniconda3/envs/ani/lib/python3.9/site-packages/openmm/openmm.py\u001b[0m in \u001b[0;36mminimize\u001b[0;34m(context, tolerance, maxIterations)\u001b[0m\n\u001b[1;32m   1832\u001b[0m             \u001b[0mthe\u001b[0m \u001b[0mmaximum\u001b[0m \u001b[0mnumber\u001b[0m \u001b[0mof\u001b[0m \u001b[0miterations\u001b[0m \u001b[0mto\u001b[0m \u001b[0mperform\u001b[0m\u001b[0;34m.\u001b[0m \u001b[0mIf\u001b[0m \u001b[0mthis\u001b[0m \u001b[0;32mis\u001b[0m \u001b[0;36m0\u001b[0m\u001b[0;34m,\u001b[0m \u001b[0mminimation\u001b[0m \u001b[0;32mis\u001b[0m \u001b[0mcontinued\u001b[0m \u001b[0muntil\u001b[0m \u001b[0mthe\u001b[0m \u001b[0mresults\u001b[0m \u001b[0mconverge\u001b[0m \u001b[0mwithout\u001b[0m \u001b[0mregard\u001b[0m \u001b[0mto\u001b[0m \u001b[0mhow\u001b[0m \u001b[0mmany\u001b[0m \u001b[0miterations\u001b[0m \u001b[0mit\u001b[0m \u001b[0mtakes\u001b[0m\u001b[0;34m.\u001b[0m \u001b[0mThe\u001b[0m \u001b[0mdefault\u001b[0m \u001b[0mvalue\u001b[0m \u001b[0;32mis\u001b[0m \u001b[0;36m0.\u001b[0m\u001b[0;34m\u001b[0m\u001b[0;34m\u001b[0m\u001b[0m\n\u001b[1;32m   1833\u001b[0m         \"\"\"\n\u001b[0;32m-> 1834\u001b[0;31m         \u001b[0;32mreturn\u001b[0m \u001b[0m_openmm\u001b[0m\u001b[0;34m.\u001b[0m\u001b[0mLocalEnergyMinimizer_minimize\u001b[0m\u001b[0;34m(\u001b[0m\u001b[0mcontext\u001b[0m\u001b[0;34m,\u001b[0m \u001b[0mtolerance\u001b[0m\u001b[0;34m,\u001b[0m \u001b[0mmaxIterations\u001b[0m\u001b[0;34m)\u001b[0m\u001b[0;34m\u001b[0m\u001b[0;34m\u001b[0m\u001b[0m\n\u001b[0m\u001b[1;32m   1835\u001b[0m     \u001b[0m__swig_destroy__\u001b[0m \u001b[0;34m=\u001b[0m \u001b[0m_openmm\u001b[0m\u001b[0;34m.\u001b[0m\u001b[0mdelete_LocalEnergyMinimizer\u001b[0m\u001b[0;34m\u001b[0m\u001b[0;34m\u001b[0m\u001b[0m\n\u001b[1;32m   1836\u001b[0m \u001b[0;34m\u001b[0m\u001b[0m\n",
      "\u001b[0;31mOpenMMException\u001b[0m: The following operation failed in the TorchScript interpreter.\nTraceback of TorchScript, serialized code (most recent call last):\n  File \"code/__torch__/openmmml/models/anipotential/___torch_mangle_16.py\", line 34, in forward\n      _6 = torch.mul(boxvectors1, 10.)\n      pbc = self.pbc\n      _7, energy1, = (model0).forward(_5, _6, pbc, )\n                      ~~~~~~~~~~~~~~~ <--- HERE\n      energy = energy1\n    energyScale = self.energyScale\n  File \"code/__torch__/torchani/models.py\", line 32, in forward\n      pass\n    aev_computer = self.aev_computer\n    species_aevs = (aev_computer).forward(species_coordinates0, cell, pbc, )\n                    ~~~~~~~~~~~~~~~~~~~~~ <--- HERE\n    neural_networks = self.neural_networks\n    species_energies = (neural_networks).forward(species_aevs, None, None, )\n  File \"code/__torch__/torchani/aev.py\", line 68, in forward\n        ops.prim.RaiseException(\"AssertionError: \")\n        cell3, pbc0 = _1, _1\n      shifts = _0(cell3, pbc0, 5.0999999999999996, )\n               ~~ <--- HERE\n      triu_index0 = self.triu_index\n      aev1 = __torch__.torchani.aev.compute_aev(species, coordinates, triu_index0, (self).constants(), (7, 16, 112, 32, 896), (cell3, shifts), )\n  File \"code/__torch__/torchani/aev.py\", line 163, in compute_shifts\n  num_repeats = torch.to(_34, 4)\n  _35 = torch.new_zeros(num_repeats, annotate(List[int], []))\n  num_repeats0 = torch.where(pbc, num_repeats, _35)\n                 ~~~~~~~~~~~ <--- HERE\n  _36 = torch.item(torch.select(num_repeats0, 0, 0))\n  r1 = torch.arange(1, torch.add(_36, 1), dtype=None, layout=None, device=ops.prim.device(cell))\n\nTraceback of TorchScript, original code (most recent call last):\n  File \"/home/mbowley/miniconda3/envs/ani/lib/python3.9/site-packages/openmmml/models/anipotential.py\", line 111, in forward\n                else:\n                    boxvectors = boxvectors.to(torch.float32)\n                    _, energy = self.model((self.species, 10.0*positions.unsqueeze(0)), cell=10.0*boxvectors, pbc=self.pbc)\n                                ~~~~~~~~~~ <--- HERE\n                return self.energyScale*energy\n  File \"/home/mbowley/miniconda3/envs/ani/lib/python3.9/site-packages/torchani/models.py\", line 106, in forward\n            raise ValueError(f'Unknown species found in {species_coordinates[0]}')\n    \n        species_aevs = self.aev_computer(species_coordinates, cell=cell, pbc=pbc)\n                       ~~~~~~~~~~~~~~~~~ <--- HERE\n        species_energies = self.neural_networks(species_aevs)\n        return self.energy_shifter(species_energies)\n  File \"/home/mbowley/miniconda3/envs/ani/lib/python3.9/site-packages/torchani/aev.py\", line 532, in forward\n            assert (cell is not None and pbc is not None)\n            cutoff = max(self.Rcr, self.Rca)\n            shifts = compute_shifts(cell, pbc, cutoff)\n                     ~~~~~~~~~~~~~~ <--- HERE\n            aev = compute_aev(species, coordinates, self.triu_index, self.constants(), self.sizes, (cell, shifts))\n    \n  File \"/home/mbowley/miniconda3/envs/ani/lib/python3.9/site-packages/torchani/aev.py\", line 114, in compute_shifts\n    inv_distances = reciprocal_cell.norm(2, -1)\n    num_repeats = torch.ceil(cutoff * inv_distances).to(torch.long)\n    num_repeats = torch.where(pbc, num_repeats, num_repeats.new_zeros(()))\n                  ~~~~~~~~~~~ <--- HERE\n    r1 = torch.arange(1, num_repeats[0].item() + 1, device=cell.device)\n    r2 = torch.arange(1, num_repeats[1].item() + 1, device=cell.device)\nRuntimeError: Expected condition, x and y to be on the same device, but condition is on cpu and x and y are on cuda:0 and cuda:0 respectively\n"
     ]
    }
   ],
   "source": [
    "# Load sample peptide\n",
    "pdb = PDBFile('aaa.pdb')\n",
    "\n",
    "# Create AMBER forcefield\n",
    "forcefield = ForceField(\n",
    "    'amber14-all.xml',\n",
    "    'amber14/tip3pfb.xml'\n",
    ")\n",
    "\n",
    "# Load pdb into modeller and add solvent\n",
    "modeller = Modeller(pdb.topology, pdb.positions)\n",
    "modeller.addSolvent(forcefield, model='tip3p', padding=1*nanometer)\n",
    "\n",
    "simulation = equilibrate(\n",
    "    modeller,\n",
    "    forcefield,\n",
    "    pressure = 1*atmosphere,\n",
    "    temperature = 300*kelvin,\n",
    "    friction_coeff = 1/femtosecond,\n",
    "    step_size = 0.004*femtoseconds,\n",
    "    steps = 10000,\n",
    "    output_pdb_filename = \"equilibration_output.pdb\",\n",
    "    output_state_data_filename = \"equilibration_state_data.csv\"\n",
    ")\n",
    "\n",
    "simulation.positions = simulation.context.getState(getPositions=True).getPositions()\n",
    "\n",
    "production(\n",
    "    simulation,\n",
    "    forcefield,\n",
    "    temperature = 300*kelvin,\n",
    "    friction_coeff = 1/femtosecond,\n",
    "    step_size = 0.004*femtoseconds,\n",
    "    steps = 10000,\n",
    "    output_pdb_filename = \"production_output.pdb\",\n",
    "    output_state_data_filename = \"production_state_data.csv\"\n",
    ")"
   ]
  },
  {
   "cell_type": "code",
   "execution_count": 14,
   "metadata": {
    "colab": {
     "base_uri": "https://localhost:8080/",
     "height": 90
    },
    "id": "8k3W_FC03bkV",
    "outputId": "ecf78378-8338-4135-cf31-9d3957472a4c"
   },
   "outputs": [
    {
     "ename": "ModuleNotFoundError",
     "evalue": "No module named 'google'",
     "output_type": "error",
     "traceback": [
      "\u001b[0;31m---------------------------------------------------------------------------\u001b[0m",
      "\u001b[0;31mModuleNotFoundError\u001b[0m                       Traceback (most recent call last)",
      "\u001b[0;32m/tmp/ipykernel_652666/2643218677.py\u001b[0m in \u001b[0;36m<module>\u001b[0;34m\u001b[0m\n\u001b[0;32m----> 1\u001b[0;31m \u001b[0;32mfrom\u001b[0m \u001b[0mgoogle\u001b[0m\u001b[0;34m.\u001b[0m\u001b[0mcolab\u001b[0m \u001b[0;32mimport\u001b[0m \u001b[0mfiles\u001b[0m\u001b[0;34m\u001b[0m\u001b[0;34m\u001b[0m\u001b[0m\n\u001b[0m\u001b[1;32m      2\u001b[0m \u001b[0mget_ipython\u001b[0m\u001b[0;34m(\u001b[0m\u001b[0;34m)\u001b[0m\u001b[0;34m.\u001b[0m\u001b[0msystem\u001b[0m\u001b[0;34m(\u001b[0m\u001b[0;34m'ls'\u001b[0m\u001b[0;34m)\u001b[0m\u001b[0;34m\u001b[0m\u001b[0;34m\u001b[0m\u001b[0m\n\u001b[1;32m      3\u001b[0m \u001b[0mfiles\u001b[0m\u001b[0;34m.\u001b[0m\u001b[0mdownload\u001b[0m\u001b[0;34m(\u001b[0m\u001b[0;34m\"equilibration_output.pdb\"\u001b[0m\u001b[0;34m)\u001b[0m\u001b[0;34m\u001b[0m\u001b[0;34m\u001b[0m\u001b[0m\n\u001b[1;32m      4\u001b[0m \u001b[0mfiles\u001b[0m\u001b[0;34m.\u001b[0m\u001b[0mdownload\u001b[0m\u001b[0;34m(\u001b[0m\u001b[0;34m\"equilibration_state_data.csv\"\u001b[0m\u001b[0;34m)\u001b[0m\u001b[0;34m\u001b[0m\u001b[0;34m\u001b[0m\u001b[0m\n\u001b[1;32m      5\u001b[0m \u001b[0mfiles\u001b[0m\u001b[0;34m.\u001b[0m\u001b[0mdownload\u001b[0m\u001b[0;34m(\u001b[0m\u001b[0;34m\"production_output.pdb\"\u001b[0m\u001b[0;34m)\u001b[0m\u001b[0;34m\u001b[0m\u001b[0;34m\u001b[0m\u001b[0m\n",
      "\u001b[0;31mModuleNotFoundError\u001b[0m: No module named 'google'"
     ]
    }
   ],
   "source": [
    "from google.colab import files\n",
    "!ls\n",
    "files.download(\"equilibration_output.pdb\")\n",
    "files.download(\"equilibration_state_data.csv\")\n",
    "files.download(\"production_output.pdb\")\n",
    "files.download(\"production_state_data.csv\")"
   ]
  },
  {
   "cell_type": "code",
   "execution_count": 26,
   "metadata": {
    "colab": {
     "base_uri": "https://localhost:8080/",
     "height": 295
    },
    "id": "tCIfXTCs9Qe7",
    "outputId": "4961ce29-8f98-45d1-9dba-4bfb48faabb9"
   },
   "outputs": [
    {
     "data": {
      "image/png": "[encoded data removed]",
      "text/plain": [
       "<Figure size 432x288 with 2 Axes>"
      ]
     },
     "metadata": {
      "needs_background": "light"
     },
     "output_type": "display_data"
    }
   ],
   "source": [
    "import matplotlib.pyplot as plt\n",
    "import csv\n",
    "\n",
    "with open('equilibration_state_data.csv','r') as csvfile:\n",
    "    plots = csv.reader(csvfile, delimiter = ',')\n",
    "    \n",
    "    headers = next(plots)\n",
    "    data = list(zip(*plots))\n",
    "    \n",
    "    plt.figure()\n",
    "    \n",
    "    for header_idx in range(1, len(headers)):\n",
    "        plt.subplot(len(headers)-1, 1, header_idx)\n",
    "        plt.xlabel(headers[0])\n",
    "        plt.ylabel(headers[header_idx])\n",
    "        plt.plot(data[0], data[header_idx])"
   ]
  },
  {
   "cell_type": "code",
   "execution_count": 7,
   "metadata": {
    "colab": {
     "base_uri": "https://localhost:8080/",
     "height": 371
    },
    "id": "PMKuh-Ov-ISN",
    "outputId": "a7e4b126-cc0a-4c87-81f2-8ee2337d543d"
   },
   "outputs": [
    {
     "ename": "FileNotFoundError",
     "evalue": "ignored",
     "output_type": "error",
     "traceback": [
      "\u001b[0;31m---------------------------------------------------------------------------\u001b[0m",
      "\u001b[0;31mFileNotFoundError\u001b[0m                         Traceback (most recent call last)",
      "\u001b[0;32m<ipython-input-7-509d9b0a5532>\u001b[0m in \u001b[0;36m<module>\u001b[0;34m()\u001b[0m\n\u001b[1;32m      1\u001b[0m \u001b[0;31m# Load sample peptide\u001b[0m\u001b[0;34m\u001b[0m\u001b[0;34m\u001b[0m\u001b[0;34m\u001b[0m\u001b[0m\n\u001b[0;32m----> 2\u001b[0;31m \u001b[0mpdb\u001b[0m \u001b[0;34m=\u001b[0m \u001b[0mPDBFile\u001b[0m\u001b[0;34m(\u001b[0m\u001b[0;34m'aaa_equilibrated.pdb'\u001b[0m\u001b[0;34m)\u001b[0m\u001b[0;34m\u001b[0m\u001b[0;34m\u001b[0m\u001b[0m\n\u001b[0m\u001b[1;32m      3\u001b[0m \u001b[0;34m\u001b[0m\u001b[0m\n\u001b[1;32m      4\u001b[0m \u001b[0;31m# Create AMBER forcefield\u001b[0m\u001b[0;34m\u001b[0m\u001b[0;34m\u001b[0m\u001b[0;34m\u001b[0m\u001b[0m\n\u001b[1;32m      5\u001b[0m forcefield = ForceField(\n",
      "\u001b[0;32m/usr/local/lib/python3.7/site-packages/openmm/app/pdbfile.py\u001b[0m in \u001b[0;36m__init__\u001b[0;34m(self, file, extraParticleIdentifier)\u001b[0m\n\u001b[1;32m     91\u001b[0m             \u001b[0mown_handle\u001b[0m \u001b[0;34m=\u001b[0m \u001b[0;32mFalse\u001b[0m\u001b[0;34m\u001b[0m\u001b[0;34m\u001b[0m\u001b[0m\n\u001b[1;32m     92\u001b[0m             \u001b[0;32mif\u001b[0m \u001b[0misinstance\u001b[0m\u001b[0;34m(\u001b[0m\u001b[0mfile\u001b[0m\u001b[0;34m,\u001b[0m \u001b[0mstr\u001b[0m\u001b[0;34m)\u001b[0m\u001b[0;34m:\u001b[0m\u001b[0;34m\u001b[0m\u001b[0;34m\u001b[0m\u001b[0m\n\u001b[0;32m---> 93\u001b[0;31m                 \u001b[0minputfile\u001b[0m \u001b[0;34m=\u001b[0m \u001b[0mopen\u001b[0m\u001b[0;34m(\u001b[0m\u001b[0mfile\u001b[0m\u001b[0;34m)\u001b[0m\u001b[0;34m\u001b[0m\u001b[0;34m\u001b[0m\u001b[0m\n\u001b[0m\u001b[1;32m     94\u001b[0m                 \u001b[0mown_handle\u001b[0m \u001b[0;34m=\u001b[0m \u001b[0;32mTrue\u001b[0m\u001b[0;34m\u001b[0m\u001b[0;34m\u001b[0m\u001b[0m\n\u001b[1;32m     95\u001b[0m             \u001b[0mpdb\u001b[0m \u001b[0;34m=\u001b[0m \u001b[0mPdbStructure\u001b[0m\u001b[0;34m(\u001b[0m\u001b[0minputfile\u001b[0m\u001b[0;34m,\u001b[0m \u001b[0mload_all_models\u001b[0m\u001b[0;34m=\u001b[0m\u001b[0;32mTrue\u001b[0m\u001b[0;34m,\u001b[0m \u001b[0mextraParticleIdentifier\u001b[0m\u001b[0;34m=\u001b[0m\u001b[0mextraParticleIdentifier\u001b[0m\u001b[0;34m)\u001b[0m\u001b[0;34m\u001b[0m\u001b[0;34m\u001b[0m\u001b[0m\n",
      "\u001b[0;31mFileNotFoundError\u001b[0m: [Errno 2] No such file or directory: 'aaa_equilibrated.pdb'"
     ]
    }
   ],
   "source": [
    "# Load sample peptide\n",
    "pdb = PDBFile('aaa.pdb')\n",
    "\n",
    "# Create AMBER forcefield\n",
    "forcefield = ForceField(\n",
    "    'amber14-all.xml',\n",
    "    'amber14/tip3pfb.xml'\n",
    ")\n",
    "\n",
    "# Create AMBER system\n",
    "mm_system = forcefield.createSystem(\n",
    "    pdb.topology, \n",
    "    nonbondedMethod=PME,\n",
    "    nonbondedCutoff=1*nanometer,\n",
    "    constraints=HBonds\n",
    ")\n",
    "\n",
    "# Select protein atoms to be simulated by ANI2x\n",
    "ml_atoms  = [atom.index for atom in pdb.topology.atoms() if atom.residue.name == \"ALA\"]\n",
    "\n",
    "# Create ANI2x potential\n",
    "potential = MLPotential('ani2x')\n",
    "\n",
    "# Create mixed ANI/AMBER system\n",
    "ml_system = potential.createMixedSystem(pdb.topology, mm_system, ml_atoms)\n",
    "\n",
    "# Create constant temp integrator\n",
    "integrator = LangevinMiddleIntegrator(\n",
    "    300*kelvin,\n",
    "    1/femtosecond,\n",
    "    0.004*femtoseconds\n",
    ")\n",
    "\n",
    "# Create simulation and set initial positions\n",
    "simulation = Simulation(\n",
    "    pdb.topology,\n",
    "    ml_system,\n",
    "    integrator\n",
    ")\n",
    "\n",
    "simulation.context.setPositions(pdb.positions)\n",
    "\n",
    "# Local energy minimisation before ANI\n",
    "simulation.minimizeEnergy()\n",
    "\n",
    "# Create reporters for output\n",
    "simulation.reporters.append(\n",
    "    PDBReporter('output.pdb', 1000)\n",
    ")\n",
    "simulation.reporters.append(\n",
    "    StateDataReporter(\n",
    "        stdout, \n",
    "        1000, \n",
    "        step=True,\n",
    "        potentialEnergy=True, \n",
    "        temperature=True\n",
    "    )\n",
    ")"
   ]
  },
  {
   "cell_type": "code",
   "execution_count": null,
   "metadata": {
    "id": "zb8xIDlektlj"
   },
   "outputs": [],
   "source": [
    "# Run the simulation through 10000 time steps\n",
    "simulation.step(10000)"
   ]
  }
 ],
 "metadata": {
  "colab": {
   "authorship_tag": "ABX9TyNlG3icHZZkqO64g/rdvRSk",
   "collapsed_sections": [],
   "include_colab_link": true,
   "name": "DEMO - ANI2x.ipynb",
   "provenance": []
  },
  "kernelspec": {
   "display_name": "Python 3 (ipykernel)",
   "language": "python",
   "name": "python3"
  },
  "language_info": {
   "codemirror_mode": {
    "name": "ipython",
    "version": 3
   },
   "file_extension": ".py",
   "mimetype": "text/x-python",
   "name": "python",
   "nbconvert_exporter": "python",
   "pygments_lexer": "ipython3",
   "version": "3.9.10"
  }
 },
 "nbformat": 4,
 "nbformat_minor": 1
}
