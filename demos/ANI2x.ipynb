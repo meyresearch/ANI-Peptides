{
  "nbformat": 4,
  "nbformat_minor": 0,
  "metadata": {
    "colab": {
      "name": "DEMO - ANI2x.ipynb",
      "provenance": [],
      "collapsed_sections": [],
      "authorship_tag": "ABX9TyNjIUl4thFjWFleX3WSdw+d",
      "include_colab_link": true
    },
    "kernelspec": {
      "name": "python3",
      "display_name": "Python 3"
    },
    "language_info": {
      "name": "python"
    },
    "accelerator": "GPU"
  },
  "cells": [
    {
      "cell_type": "markdown",
      "metadata": {
        "id": "view-in-github",
        "colab_type": "text"
      },
      "source": [
        "<a href=\"https://colab.research.google.com/github/meyresearch/ANI-Peptides/blob/main/DEMO_ANI2x.ipynb\" target=\"_parent\"><img src=\"https://colab.research.google.com/assets/colab-badge.svg\" alt=\"Open In Colab\"/></a>"
      ]
    },
    {
      "cell_type": "markdown",
      "metadata": {
        "id": "UsvmNVNmavgm"
      },
      "source": [
        "# Runtime Environment Setup"
      ]
    },
    {
      "cell_type": "markdown",
      "metadata": {
        "id": "hiQev3LkiW51"
      },
      "source": [
        "Before you start, ensure you have been allocated a GPU runtime. Go to `Runtime -> Change runtime type -> GPU`"
      ]
    },
    {
      "cell_type": "markdown",
      "metadata": {
        "id": "Obanx6qoAgo8"
      },
      "source": [
        "Allow kernel to restart after running this cell."
      ]
    },
    {
      "cell_type": "code",
      "metadata": {
        "id": "VFkcgvtbaut8"
      },
      "source": [
        "!pip install -q condacolab\n",
        "import condacolab\n",
        "condacolab.install()"
      ],
      "execution_count": null,
      "outputs": []
    },
    {
      "cell_type": "markdown",
      "metadata": {
        "id": "RiYgOUeTA0tR"
      },
      "source": [
        "Ensure good conda/mamba installation"
      ]
    },
    {
      "cell_type": "code",
      "metadata": {
        "id": "hNCmMpshAzhn"
      },
      "source": [
        "import condacolab\n",
        "condacolab.check()"
      ],
      "execution_count": null,
      "outputs": []
    },
    {
      "cell_type": "markdown",
      "metadata": {
        "id": "9NVtVeO5LPui"
      },
      "source": [
        "Install Dependencies - This takes a little while\n",
        "\n",
        "*   **OpenMM**\n",
        "\n",
        " Base molecular simulation toolkit\n",
        "\n",
        "*   **TorchANI**\n",
        "\n",
        " Implementation of ANI\n",
        "\n",
        "*   **PyTorch**\n",
        "\n",
        " TorchANI runs on the PyTorch machine learning framework \n",
        "\n",
        "*   **OpenMM-Torch**\n",
        "\n",
        " A plugin for OpenMM that allows PyTorch static computation graphs (TorchANI) to be used in OpenMM as a TorchForce object, an OpenMM Force class \n",
        "\n",
        "*   **OpenMM-ML**\n",
        "\n",
        " Implements TorchANI as an OpenMM TorchForce using OpenMM-Torch. The glue that brings everything together!\n",
        "\n",
        "*   **NGLview**\n",
        "\n",
        " 3D molecule viewer\n",
        "\n",
        "*   **PyTraj**\n",
        "\n",
        " Trajectory library"
      ]
    },
    {
      "cell_type": "code",
      "metadata": {
        "id": "OBwFUplRbOww"
      },
      "source": [
        "# seems to be some bug in pytorch, need to try to find a combination of dependencies that works.\n",
        "\n",
        "# !mamba install -q openmm openmm-torch pytorch torchani nglview\n",
        "!mamba install -q -c conda-forge/label/openmm_rc -c conda-forge openmm-torch pytorch=1.8 torchani\n",
        "!pip install -q pytraj\n",
        "!git clone https://github.com/openmm/openmm-ml\n",
        "!pip install openmm-ml/."
      ],
      "execution_count": null,
      "outputs": []
    },
    {
      "cell_type": "markdown",
      "metadata": {
        "id": "pX6ARn5sMsJh"
      },
      "source": [
        "Test OpenMM"
      ]
    },
    {
      "cell_type": "code",
      "metadata": {
        "id": "Jq57Nf3bhlzv"
      },
      "source": [
        "!python -m openmm.testInstallation"
      ],
      "execution_count": null,
      "outputs": []
    },
    {
      "cell_type": "markdown",
      "metadata": {
        "id": "lZZgEciFhYHz"
      },
      "source": [
        "Fetch sample peptide"
      ]
    },
    {
      "cell_type": "code",
      "metadata": {
        "id": "gGeSIWlXhJfH"
      },
      "source": [
        "!wget -q https://github.com/meyresearch/ANI-Peptides/raw/main/demos/aaa_equilibrated.pdb"
      ],
      "execution_count": 4,
      "outputs": []
    },
    {
      "cell_type": "markdown",
      "metadata": {
        "id": "iaJYxPXNpJYJ"
      },
      "source": [
        "# ANI Simulation"
      ]
    },
    {
      "cell_type": "markdown",
      "metadata": {
        "id": "yohGt2jltN80"
      },
      "source": [
        "ANI2x cannot simulate Na or Cl in solvent. We create a mixed system where our protein is simulated by ANI, and the solvent by AMBER."
      ]
    },
    {
      "cell_type": "code",
      "metadata": {
        "id": "PtLiP1fxjibi"
      },
      "source": [
        "# Import libraries\n",
        "from openmm.app import *\n",
        "from openmm import *\n",
        "from openmm.unit import *\n",
        "from openmmml import MLPotential\n",
        "from sys import stdout"
      ],
      "execution_count": 5,
      "outputs": []
    },
    {
      "cell_type": "code",
      "metadata": {
        "id": "PMKuh-Ov-ISN"
      },
      "source": [
        "# Load sample peptide\n",
        "pdb = PDBFile('aaa_equilibrated.pdb')\n",
        "\n",
        "# Create AMBER forcefield\n",
        "forcefield = ForceField(\n",
        "    'amber14-all.xml',\n",
        "    'amber14/tip3pfb.xml'\n",
        ")\n",
        "\n",
        "# Create AMBER system\n",
        "mm_system = forcefield.createSystem(\n",
        "    pdb.topology, \n",
        "    nonbondedMethod=PME,\n",
        "    nonbondedCutoff=1*nanometer,\n",
        "    constraints=HBonds\n",
        ")\n",
        "\n",
        "# Select protein atoms to be simulated by ANI2x\n",
        "ml_atoms  = [atom.index for atom in topology.atoms() if atom.residue.name == \"ALA\"]\n",
        "\n",
        "# Create ANI2x potential\n",
        "potential = MLPotential('ani2x')\n",
        "\n",
        "# Create mixed ANI/AMBER system\n",
        "ml_system = potential.createMixedSystem(topology, mm_system, ml_atoms)\n",
        "\n",
        "# Create constant temp integrator\n",
        "integrator = LangevinMiddleIntegrator(\n",
        "    300*kelvin,\n",
        "    1/picosecond,\n",
        "    0.004*picoseconds\n",
        ")\n",
        "\n",
        "# Create simulation and set initial positions\n",
        "simulation = Simulation(\n",
        "    pdb.topology,\n",
        "    ml_system,\n",
        "    integrator\n",
        ")\n",
        "\n",
        "simulation.context.setPositions(pdb.positions)\n",
        "\n",
        "# Local energy minimisation before ANI\n",
        "simulation.minimizeEnergy()\n",
        "\n",
        "# Create reporters for output\n",
        "simulation.reporters.append(\n",
        "    PDBReporter('output.pdb', 1000)\n",
        ")\n",
        "simulation.reporters.append(\n",
        "    StateDataReporter(\n",
        "        stdout, \n",
        "        1000, \n",
        "        step=True,\n",
        "        potentialEnergy=True, \n",
        "        temperature=True\n",
        "    )\n",
        ")"
      ],
      "execution_count": null,
      "outputs": []
    },
    {
      "cell_type": "code",
      "metadata": {
        "id": "zb8xIDlektlj"
      },
      "source": [
        "# Run the simulation through 10000 time steps\n",
        "simulation.step(10000)"
      ],
      "execution_count": null,
      "outputs": []
    }
  ]
}
