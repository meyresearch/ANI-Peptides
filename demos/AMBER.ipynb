{
  "nbformat": 4,
  "nbformat_minor": 0,
  "metadata": {
    "colab": {
      "name": "Demo - AMBER.ipynb",
      "provenance": [],
      "collapsed_sections": [],
      "authorship_tag": "ABX9TyOz7USF42HmLihouSps9bov",
      "include_colab_link": true
    },
    "kernelspec": {
      "name": "python3",
      "display_name": "Python 3"
    },
    "language_info": {
      "name": "python"
    },
    "accelerator": "GPU"
  },
  "cells": [
    {
      "cell_type": "markdown",
      "metadata": {
        "id": "view-in-github",
        "colab_type": "text"
      },
      "source": [
        "<a href=\"https://colab.research.google.com/github/meyresearch/ANI-Peptides/blob/main/demos/AMBER.ipynb\" target=\"_parent\"><img src=\"https://colab.research.google.com/assets/colab-badge.svg\" alt=\"Open In Colab\"/></a>"
      ]
    },
    {
      "cell_type": "markdown",
      "metadata": {
        "id": "UsvmNVNmavgm"
      },
      "source": [
        "# Runtime Environment Setup"
      ]
    },
    {
      "cell_type": "markdown",
      "metadata": {
        "id": "hiQev3LkiW51"
      },
      "source": [
        "Before you start, ensure you have been allocated a GPU runtime. Go to `Runtime -> Change runtime type -> GPU`"
      ]
    },
    {
      "cell_type": "markdown",
      "metadata": {
        "id": "Obanx6qoAgo8"
      },
      "source": [
        "Allow kernel to restart after running this cell."
      ]
    },
    {
      "cell_type": "code",
      "metadata": {
        "id": "VFkcgvtbaut8"
      },
      "source": [
        "!pip install -q condacolab\n",
        "import condacolab\n",
        "condacolab.install()"
      ],
      "execution_count": null,
      "outputs": []
    },
    {
      "cell_type": "markdown",
      "metadata": {
        "id": "RiYgOUeTA0tR"
      },
      "source": [
        "Ensure good conda/mamba installation"
      ]
    },
    {
      "cell_type": "code",
      "metadata": {
        "id": "hNCmMpshAzhn"
      },
      "source": [
        "import condacolab\n",
        "condacolab.check()"
      ],
      "execution_count": null,
      "outputs": []
    },
    {
      "cell_type": "markdown",
      "metadata": {
        "id": "3VWZhONKbMIx"
      },
      "source": [
        "Install Dependencies\n",
        "\n",
        "\n",
        "\n",
        "*   *OpenMM* - Molecular dynamics simulation\n",
        "*   *NGLView, PyTraj* - Viewing libraries\n",
        "\n"
      ]
    },
    {
      "cell_type": "code",
      "metadata": {
        "id": "OBwFUplRbOww"
      },
      "source": [
        "!mamba install -q openmm nglview\n",
        "!pip install -q pytraj"
      ],
      "execution_count": null,
      "outputs": []
    },
    {
      "cell_type": "markdown",
      "metadata": {
        "id": "pX6ARn5sMsJh"
      },
      "source": [
        "Test OpenMM"
      ]
    },
    {
      "cell_type": "code",
      "metadata": {
        "id": "Jq57Nf3bhlzv"
      },
      "source": [
        "!python -m openmm.testInstallation"
      ],
      "execution_count": null,
      "outputs": []
    },
    {
      "cell_type": "markdown",
      "metadata": {
        "id": "lZZgEciFhYHz"
      },
      "source": [
        "Fetch sample peptide"
      ]
    },
    {
      "cell_type": "code",
      "metadata": {
        "id": "gGeSIWlXhJfH"
      },
      "source": [
        "!wget -q https://github.com/meyresearch/ANI-Peptides/raw/main/demos/aaa.pdb"
      ],
      "execution_count": 4,
      "outputs": []
    },
    {
      "cell_type": "markdown",
      "metadata": {
        "id": "PYGwUEcwjZYC"
      },
      "source": [
        "# AMBER Simulation"
      ]
    },
    {
      "cell_type": "code",
      "metadata": {
        "id": "PtLiP1fxjibi"
      },
      "source": [
        "# Import libraries\n",
        "\n",
        "from openmm.app import *\n",
        "from openmm import *\n",
        "from openmm.unit import *"
      ],
      "execution_count": 5,
      "outputs": []
    },
    {
      "cell_type": "code",
      "metadata": {
        "id": "X17K3DrnHrbd"
      },
      "source": [
        "# Progress bar for simulations\n",
        "\n",
        "from IPython.display import ProgressBar\n",
        "\n",
        "class ProgressBarWriter(ProgressBar):\n",
        "    def write(self, string):\n",
        "        if string.startswith(\"#\"):\n",
        "            self.progress = 0\n",
        "        else:\n",
        "            string = string.strip(',\\n')\n",
        "            try:\n",
        "                self.progress = int(string)\n",
        "            except ValueError:\n",
        "                pass\n",
        "\n",
        "def ProgressBarReporter(steps, interval):\n",
        "    return StateDataReporter(\n",
        "        ProgressBarWriter(total = steps), \n",
        "        interval, \n",
        "        step = True,\n",
        "        totalSteps = steps,\n",
        "    )"
      ],
      "execution_count": 6,
      "outputs": []
    },
    {
      "cell_type": "code",
      "metadata": {
        "id": "mR3StgvaEiTz"
      },
      "source": [
        "# Simulation function (to run simulations consistently)\n",
        "\n",
        "def simulate(\n",
        "    simulation,\n",
        "    output_pdb_filename: str = \"output.pdb\",\n",
        "    output_state_data_filename: str = \"state_data.csv\",\n",
        "    step_size: Quantity = 0.004*femtoseconds,\n",
        "    steps: int or None = 100000,\n",
        "    duration: Quantity or None = None,\n",
        "    pdb_report_interval: int or None = None,\n",
        "    state_report_interval: int or None = None,\n",
        "    progressbar_interval: int or None = None,\n",
        "):\n",
        "    assert duration or steps\n",
        "\n",
        "    if duration:\n",
        "        steps = int(duration / step_size)\n",
        "\n",
        "    if not pdb_report_interval:\n",
        "        pdb_report_interval = steps // 10\n",
        "\n",
        "    if not state_report_interval:\n",
        "        state_report_interval = steps // 10\n",
        "\n",
        "    if not progressbar_interval:\n",
        "        progressbar_interval = steps // 50\n",
        "\n",
        "    # Create pdb file reporter\n",
        "    simulation.reporters.append(\n",
        "        PDBReporter(\n",
        "            output_pdb_filename,\n",
        "            pdb_report_interval\n",
        "        )\n",
        "    )\n",
        "\n",
        "    # Create state data file reporter\n",
        "    simulation.reporters.append(\n",
        "        StateDataReporter(\n",
        "            output_state_data_filename, \n",
        "            state_report_interval, \n",
        "            step=True,\n",
        "            potentialEnergy=True, \n",
        "            temperature=True\n",
        "        )\n",
        "    )\n",
        "\n",
        "    # Create progress bar reporter\n",
        "    simulation.reporters.append(\n",
        "        ProgressBarReporter(steps, progressbar_interval)\n",
        "    )\n",
        "\n",
        "    # Run simulation through specified time steps\n",
        "    print(\"Running simulation...\")\n",
        "    simulation.step(steps)"
      ],
      "execution_count": 7,
      "outputs": []
    },
    {
      "cell_type": "code",
      "metadata": {
        "id": "Ouh_n4BNS057"
      },
      "source": [
        "# Equilibration function - Constant pressure & temp\n",
        "\n",
        "def equilibrate(\n",
        "    coords: Topology,\n",
        "    forcefield: ForceField,\n",
        "    pressure: Quantity = 1*atmosphere,\n",
        "    temperature: Quantity = 300*kelvin,\n",
        "    friction_coeff: Quantity = 1/femtosecond,\n",
        "    step_size: Quantity = 0.004*femtoseconds,\n",
        "    **kwargs\n",
        "):      \n",
        "    print(\"Initialising equilibration run...\")\n",
        "\n",
        "    # Create system\n",
        "    system = forcefield.createSystem(\n",
        "        coords.topology, \n",
        "        nonbondedMethod=PME,\n",
        "        nonbondedCutoff=1*nanometer,\n",
        "        constraints=AllBonds,\n",
        "        hydrogenMass=4*amu,\n",
        "    )\n",
        "\n",
        "    # Add a barostat for constant pressure\n",
        "    system.addForce(\n",
        "        MonteCarloBarostat(\n",
        "            pressure,\n",
        "            temperature\n",
        "        )\n",
        "    )\n",
        "\n",
        "    # Create constant temp integrator\n",
        "    integrator = LangevinMiddleIntegrator(\n",
        "        temperature,\n",
        "        friction_coeff,\n",
        "        step_size\n",
        "    )\n",
        "\n",
        "    # Create simulation and set initial positions\n",
        "    simulation = Simulation(\n",
        "        coords.topology,\n",
        "        system,\n",
        "        integrator\n",
        "    )\n",
        "    simulation.context.setPositions(coords.positions)\n",
        "\n",
        "    # Local energy minimisation\n",
        "    print(\"Local energy minimisation...\")\n",
        "    simulation.minimizeEnergy()\n",
        "\n",
        "    simulate(\n",
        "        simulation,\n",
        "        **kwargs\n",
        "    )\n",
        "\n",
        "    return simulation"
      ],
      "execution_count": 8,
      "outputs": []
    },
    {
      "cell_type": "code",
      "metadata": {
        "id": "r3Q8b_DDEzeC"
      },
      "source": [
        "# Production function - Constant volume & temp\n",
        "\n",
        "def production(\n",
        "    coords: Topology,\n",
        "    forcefield: ForceField,\n",
        "    temperature: Quantity = 300*kelvin,\n",
        "    friction_coeff: Quantity = 1/femtosecond,\n",
        "    step_size: Quantity = 0.004*femtoseconds,\n",
        "    **kwargs\n",
        "):      \n",
        "    print(\"Initialising production run...\")\n",
        "\n",
        "    # Create system\n",
        "    system = forcefield.createSystem(\n",
        "        coords.topology, \n",
        "        nonbondedMethod=PME,\n",
        "        nonbondedCutoff=1*nanometer,\n",
        "        constraints=AllBonds,\n",
        "        hydrogenMass=4*amu,\n",
        "    )\n",
        "\n",
        "    # Create constant temp integrator\n",
        "    integrator = LangevinMiddleIntegrator(\n",
        "        temperature,\n",
        "        friction_coeff,\n",
        "        step_size\n",
        "    )\n",
        "\n",
        "    # Create simulation and set initial positions\n",
        "    simulation = Simulation(\n",
        "        coords.topology,\n",
        "        system,\n",
        "        integrator\n",
        "    )\n",
        "    simulation.context.setPositions(coords.positions)\n",
        "\n",
        "    simulate(\n",
        "        simulation,\n",
        "        **kwargs\n",
        "    )\n",
        "\n",
        "    return simulation"
      ],
      "execution_count": 9,
      "outputs": []
    },
    {
      "cell_type": "code",
      "metadata": {
        "id": "SNrmOdK5CW3c"
      },
      "source": [
        "# Load sample peptide\n",
        "pdb = PDBFile('aaa.pdb')\n",
        "\n",
        "# Create AMBER forcefield\n",
        "forcefield = ForceField(\n",
        "    'amber14-all.xml',\n",
        "    'amber14/tip3pfb.xml'\n",
        ")\n",
        "\n",
        "# Load pdb into modeller and add solvent\n",
        "modeller = Modeller(pdb.topology, pdb.positions)\n",
        "modeller.addSolvent(forcefield, model='tip3p', padding=1*nanometer)\n",
        "\n",
        "simulation = equilibrate(\n",
        "    modeller,\n",
        "    forcefield,\n",
        "    pressure = 1*atmosphere,\n",
        "    temperature = 300*kelvin,\n",
        "    friction_coeff = 1/femtosecond,\n",
        "    step_size = 0.004*femtoseconds,\n",
        "    steps = 10000,\n",
        "    output_pdb_filename = \"equilibration_output.pdb\",\n",
        "    output_state_data_filename = \"equilibration_state_data.csv\"\n",
        ")\n",
        "\n",
        "simulation.positions = simulation.context.getState(getPositions=True).getPositions()\n",
        "\n",
        "production(\n",
        "    simulation,\n",
        "    forcefield,\n",
        "    temperature = 300*kelvin,\n",
        "    friction_coeff = 1/femtosecond,\n",
        "    step_size = 0.004*femtoseconds,\n",
        "    steps = 10000,\n",
        "    output_pdb_filename = \"production_output.pdb\",\n",
        "    output_state_data_filename = \"production_state_data.csv\"\n",
        ")"
      ],
      "execution_count": null,
      "outputs": []
    },
    {
      "cell_type": "markdown",
      "metadata": {
        "id": "1R-bb3TvieWN"
      },
      "source": [
        "# Viewer"
      ]
    },
    {
      "cell_type": "code",
      "metadata": {
        "id": "yvRCAsdZpkiJ"
      },
      "source": [
        "import pytraj as pt\n",
        "import nglview as nv\n",
        "from google.colab import output\n",
        "output.enable_custom_widget_manager()"
      ],
      "execution_count": null,
      "outputs": []
    },
    {
      "cell_type": "code",
      "metadata": {
        "id": "AoRwlq1urWNW"
      },
      "source": [
        "traj = pt.load(\"production_output.pdb\")\n",
        "view = nv.show_pytraj(traj)\n",
        "view.add_representation(\"licorice\")\n",
        "view.add_unitcell()\n",
        "view"
      ],
      "execution_count": null,
      "outputs": []
    }
  ]
}