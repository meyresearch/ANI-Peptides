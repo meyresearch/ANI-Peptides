{
  "nbformat": 4,
  "nbformat_minor": 0,
  "metadata": {
    "colab": {
      "name": "Demo - AMBER.ipynb",
      "provenance": [],
      "collapsed_sections": [],
      "authorship_tag": "ABX9TyNLPfO0PKbN3PFKAHB3r80E",
      "include_colab_link": true
    },
    "kernelspec": {
      "name": "python3",
      "display_name": "Python 3"
    },
    "language_info": {
      "name": "python"
    },
    "accelerator": "GPU"
  },
  "cells": [
    {
      "cell_type": "markdown",
      "metadata": {
        "id": "view-in-github",
        "colab_type": "text"
      },
      "source": [
        "<a href=\"https://colab.research.google.com/github/meyresearch/ANI-Peptides/blob/main/demos/AMBER.ipynb\" target=\"_parent\"><img src=\"https://colab.research.google.com/assets/colab-badge.svg\" alt=\"Open In Colab\"/></a>"
      ]
    },
    {
      "cell_type": "markdown",
      "metadata": {
        "id": "UsvmNVNmavgm"
      },
      "source": [
        "# Runtime Environment Setup"
      ]
    },
    {
      "cell_type": "markdown",
      "metadata": {
        "id": "hiQev3LkiW51"
      },
      "source": [
        "Before you start, ensure you have been allocated a GPU runtime. Go to `Runtime -> Change runtime type -> GPU`"
      ]
    },
    {
      "cell_type": "markdown",
      "metadata": {
        "id": "Obanx6qoAgo8"
      },
      "source": [
        "Allow kernel to restart after running this cell."
      ]
    },
    {
      "cell_type": "code",
      "metadata": {
        "id": "VFkcgvtbaut8",
        "colab": {
          "base_uri": "https://localhost:8080/"
        },
        "outputId": "fcc9436b-c7c3-4583-f4ee-4b357b5df5ee"
      },
      "source": [
        "!pip install -q condacolab\n",
        "import condacolab\n",
        "condacolab.install()"
      ],
      "execution_count": 1,
      "outputs": [
        {
          "output_type": "stream",
          "name": "stdout",
          "text": [
            "⏬ Downloading https://github.com/jaimergp/miniforge/releases/latest/download/Mambaforge-colab-Linux-x86_64.sh...\n",
            "📦 Installing...\n",
            "📌 Adjusting configuration...\n",
            "🩹 Patching environment...\n",
            "⏲ Done in 0:00:41\n",
            "🔁 Restarting kernel...\n"
          ]
        }
      ]
    },
    {
      "cell_type": "markdown",
      "metadata": {
        "id": "RiYgOUeTA0tR"
      },
      "source": [
        "Ensure good conda/mamba installation"
      ]
    },
    {
      "cell_type": "code",
      "metadata": {
        "id": "hNCmMpshAzhn",
        "colab": {
          "base_uri": "https://localhost:8080/"
        },
        "outputId": "6ad8cd88-54e5-457b-fca6-d69b82f51a9c"
      },
      "source": [
        "import condacolab\n",
        "condacolab.check()"
      ],
      "execution_count": 1,
      "outputs": [
        {
          "output_type": "stream",
          "name": "stdout",
          "text": [
            "✨🍰✨ Everything looks OK!\n"
          ]
        }
      ]
    },
    {
      "cell_type": "markdown",
      "metadata": {
        "id": "3VWZhONKbMIx"
      },
      "source": [
        "Install Dependencies\n",
        "\n",
        "\n",
        "\n",
        "*   *OpenMM* - Molecular dynamics simulation\n",
        "*   *NGLView, PyTraj* - Viewing libraries\n",
        "\n"
      ]
    },
    {
      "cell_type": "code",
      "metadata": {
        "id": "OBwFUplRbOww",
        "colab": {
          "base_uri": "https://localhost:8080/"
        },
        "outputId": "10511e29-1d43-4bef-b6a0-0d614416f677"
      },
      "source": [
        "!mamba install -q openmm nglview\n",
        "!pip install -q pytraj"
      ],
      "execution_count": 4,
      "outputs": [
        {
          "output_type": "stream",
          "name": "stdout",
          "text": [
            "  Package                          Version  Build                Channel                    Size\n",
            "──────────────────────────────────────────────────────────────────────────────────────────────────\n",
            "  Install:\n",
            "──────────────────────────────────────────────────────────────────────────────────────────────────\n",
            "\n",
            "\u001b[32m  argcomplete                  \u001b[00m     1.12.3  pyhd8ed1ab_2         conda-forge/noarch        34 KB\n",
            "\u001b[32m  argon2-cffi                  \u001b[00m     21.1.0  py37h5e8e339_2       conda-forge/linux-64      46 KB\n",
            "\u001b[32m  async_generator              \u001b[00m       1.10  py_0                 conda-forge/noarch        18 KB\n",
            "\u001b[32m  attrs                        \u001b[00m     21.2.0  pyhd8ed1ab_0         conda-forge/noarch        44 KB\n",
            "\u001b[32m  backcall                     \u001b[00m      0.2.0  pyh9f0ad1d_0         conda-forge/noarch        13 KB\n",
            "\u001b[32m  backports                    \u001b[00m        1.0  py_2                 conda-forge/noarch         4 KB\n",
            "\u001b[32m  backports.functools_lru_cache\u001b[00m      1.6.4  pyhd8ed1ab_0         conda-forge/noarch         9 KB\n",
            "\u001b[32m  bleach                       \u001b[00m      4.1.0  pyhd8ed1ab_0         conda-forge/noarch       121 KB\n",
            "\u001b[32m  cudatoolkit                  \u001b[00m     11.1.1  h6406543_8           conda-forge/linux-64       1 GB\n",
            "\u001b[32m  debugpy                      \u001b[00m      1.4.1  py37hcd2ae1e_0       conda-forge/linux-64       2 MB\n",
            "\u001b[32m  decorator                    \u001b[00m      5.1.0  pyhd8ed1ab_0         conda-forge/noarch        11 KB\n",
            "\u001b[32m  defusedxml                   \u001b[00m      0.7.1  pyhd8ed1ab_0         conda-forge/noarch        23 KB\n",
            "\u001b[32m  entrypoints                  \u001b[00m        0.3  py37hc8dfbb8_1002    conda-forge/linux-64      13 KB\n",
            "\u001b[32m  fftw                         \u001b[00m     3.3.10  nompi_hcdd671c_101   conda-forge/linux-64       6 MB\n",
            "\u001b[32m  importlib-metadata           \u001b[00m      4.8.2  py37h89c1867_0       conda-forge/linux-64      32 KB\n",
            "\u001b[32m  importlib_metadata           \u001b[00m      4.8.2  hd8ed1ab_0           conda-forge/noarch         4 KB\n",
            "\u001b[32m  importlib_resources          \u001b[00m      5.4.0  pyhd8ed1ab_0         conda-forge/noarch        21 KB\n",
            "\u001b[32m  ipykernel                    \u001b[00m      6.5.0  py37h6531663_1       conda-forge/linux-64     177 KB\n",
            "\u001b[32m  ipython                      \u001b[00m     7.29.0  py37h6531663_2       conda-forge/linux-64       1 MB\n",
            "\u001b[32m  ipython_genutils             \u001b[00m      0.2.0  py_1                 conda-forge/noarch        21 KB\n",
            "\u001b[32m  ipywidgets                   \u001b[00m      7.6.5  pyhd8ed1ab_0         conda-forge/noarch       101 KB\n",
            "\u001b[32m  jedi                         \u001b[00m     0.18.0  py37h89c1867_3       conda-forge/linux-64     928 KB\n",
            "\u001b[32m  jinja2                       \u001b[00m      3.0.3  pyhd8ed1ab_0         conda-forge/noarch        99 KB\n",
            "\u001b[32m  jsonschema                   \u001b[00m      4.2.1  pyhd8ed1ab_0         conda-forge/noarch       118 KB\n",
            "\u001b[32m  jupyter_client               \u001b[00m      7.0.6  pyhd8ed1ab_0         conda-forge/noarch        87 KB\n",
            "\u001b[32m  jupyter_core                 \u001b[00m      4.9.1  py37h89c1867_1       conda-forge/linux-64      80 KB\n",
            "\u001b[32m  jupyterlab_pygments          \u001b[00m      0.1.2  pyh9f0ad1d_0         conda-forge/noarch         8 KB\n",
            "\u001b[32m  jupyterlab_widgets           \u001b[00m      1.0.2  pyhd8ed1ab_0         conda-forge/noarch       130 KB\n",
            "\u001b[32m  libblas                      \u001b[00m      3.9.0  12_linux64_openblas  conda-forge/linux-64      12 KB\n",
            "\u001b[32m  libcblas                     \u001b[00m      3.9.0  12_linux64_openblas  conda-forge/linux-64      12 KB\n",
            "\u001b[32m  libgfortran-ng               \u001b[00m     11.2.0  h69a702a_11          conda-forge/linux-64      19 KB\n",
            "\u001b[32m  libgfortran5                 \u001b[00m     11.2.0  h5c6108e_11          conda-forge/linux-64       2 MB\n",
            "\u001b[32m  liblapack                    \u001b[00m      3.9.0  12_linux64_openblas  conda-forge/linux-64      12 KB\n",
            "\u001b[32m  libopenblas                  \u001b[00m     0.3.18  pthreads_h8fe5266_0  conda-forge/linux-64      10 MB\n",
            "\u001b[32m  libsodium                    \u001b[00m     1.0.18  h516909a_1           conda-forge/linux-64     366 KB\n",
            "\u001b[32m  markupsafe                   \u001b[00m      2.0.1  py37h5e8e339_1       conda-forge/linux-64      22 KB\n",
            "\u001b[32m  matplotlib-inline            \u001b[00m      0.1.3  pyhd8ed1ab_0         conda-forge/noarch        11 KB\n",
            "\u001b[32m  mistune                      \u001b[00m      0.8.4  py37h5e8e339_1005    conda-forge/linux-64      54 KB\n",
            "\u001b[32m  nbclient                     \u001b[00m      0.5.8  pyhd8ed1ab_0         conda-forge/noarch        64 KB\n",
            "\u001b[32m  nbconvert                    \u001b[00m      6.3.0  py37h89c1867_1       conda-forge/linux-64     535 KB\n",
            "\u001b[32m  nbformat                     \u001b[00m      5.1.3  pyhd8ed1ab_0         conda-forge/noarch        47 KB\n",
            "\u001b[32m  nest-asyncio                 \u001b[00m      1.5.1  pyhd8ed1ab_0         conda-forge/noarch         9 KB\n",
            "\u001b[32m  nglview                      \u001b[00m      3.0.3  pyh8a188c0_0         conda-forge/noarch         6 MB\n",
            "\u001b[32m  notebook                     \u001b[00m      6.4.5  pyha770c72_0         conda-forge/noarch         6 MB\n",
            "\u001b[32m  numpy                        \u001b[00m     1.21.4  py37h31617e3_0       conda-forge/linux-64       6 MB\n",
            "\u001b[32m  ocl-icd                      \u001b[00m      2.3.1  h7f98852_0           conda-forge/linux-64     119 KB\n",
            "\u001b[32m  ocl-icd-system               \u001b[00m      1.0.0  1                    conda-forge/linux-64       4 KB\n",
            "\u001b[32m  openmm                       \u001b[00m      7.6.0  py37he27d83c_0       conda-forge/linux-64      11 MB\n",
            "\u001b[32m  packaging                    \u001b[00m       21.2  pyhd8ed1ab_1         conda-forge/noarch        35 KB\n",
            "\u001b[32m  pandoc                       \u001b[00m     2.16.1  h7f98852_0           conda-forge/linux-64      13 MB\n",
            "\u001b[32m  pandocfilters                \u001b[00m      1.5.0  pyhd8ed1ab_0         conda-forge/noarch        11 KB\n",
            "\u001b[32m  parso                        \u001b[00m      0.8.2  pyhd8ed1ab_0         conda-forge/noarch        68 KB\n",
            "\u001b[32m  pexpect                      \u001b[00m      4.8.0  py37hc8dfbb8_1       conda-forge/linux-64      79 KB\n",
            "\u001b[32m  pickleshare                  \u001b[00m      0.7.5  py37hc8dfbb8_1002    conda-forge/linux-64      13 KB\n",
            "\u001b[32m  prometheus_client            \u001b[00m     0.12.0  pyhd8ed1ab_0         conda-forge/noarch        47 KB\n",
            "\u001b[32m  prompt-toolkit               \u001b[00m     3.0.22  pyha770c72_0         conda-forge/noarch       249 KB\n",
            "\u001b[32m  ptyprocess                   \u001b[00m      0.7.0  pyhd3deb0d_0         conda-forge/noarch        16 KB\n",
            "\u001b[32m  pygments                     \u001b[00m     2.10.0  pyhd8ed1ab_0         conda-forge/noarch       760 KB\n",
            "\u001b[32m  pyparsing                    \u001b[00m      2.4.7  pyhd8ed1ab_1         conda-forge/noarch        60 KB\n",
            "\u001b[32m  pyrsistent                   \u001b[00m     0.18.0  py37h5e8e339_0       conda-forge/linux-64      90 KB\n",
            "\u001b[32m  python-dateutil              \u001b[00m      2.8.2  pyhd8ed1ab_0         conda-forge/noarch       240 KB\n",
            "\u001b[32m  pyzmq                        \u001b[00m     22.1.0  py37h336d617_0       conda-forge/linux-64     500 KB\n",
            "\u001b[32m  send2trash                   \u001b[00m      1.8.0  pyhd8ed1ab_0         conda-forge/noarch        17 KB\n",
            "\u001b[32m  terminado                    \u001b[00m     0.12.1  py37h89c1867_1       conda-forge/linux-64      28 KB\n",
            "\u001b[32m  testpath                     \u001b[00m      0.5.0  pyhd8ed1ab_0         conda-forge/noarch        86 KB\n",
            "\u001b[32m  tornado                      \u001b[00m        6.1  py37h5e8e339_2       conda-forge/linux-64     642 KB\n",
            "\u001b[32m  traitlets                    \u001b[00m      5.1.1  pyhd8ed1ab_0         conda-forge/noarch        82 KB\n",
            "\u001b[32m  typing_extensions            \u001b[00m   3.10.0.2  pyha770c72_0         conda-forge/noarch        28 KB\n",
            "\u001b[32m  wcwidth                      \u001b[00m      0.2.5  pyh9f0ad1d_2         conda-forge/noarch        33 KB\n",
            "\u001b[32m  webencodings                 \u001b[00m      0.5.1  py_1                 conda-forge/noarch        12 KB\n",
            "\u001b[32m  widgetsnbextension           \u001b[00m      3.5.2  py37h89c1867_0       conda-forge/linux-64       1 MB\n",
            "\u001b[32m  zeromq                       \u001b[00m      4.3.4  h9c3ff4c_0           conda-forge/linux-64     352 KB\n",
            "\u001b[32m  zipp                         \u001b[00m      3.6.0  pyhd8ed1ab_0         conda-forge/noarch        12 KB\n",
            "\n",
            "  Upgrade:\n",
            "──────────────────────────────────────────────────────────────────────────────────────────────────\n",
            "\n",
            "\u001b[31m  ca-certificates              \u001b[00m  2020.12.5  ha878542_0           installed                      \n",
            "\u001b[32m  ca-certificates              \u001b[00m  2021.10.8  ha878542_0           conda-forge/linux-64     139 KB\n",
            "\u001b[31m  certifi                      \u001b[00m  2020.12.5  py37h89c1867_1       installed                      \n",
            "\u001b[32m  certifi                      \u001b[00m  2021.10.8  py37h89c1867_1       conda-forge/linux-64     145 KB\n",
            "\u001b[31m  libgcc-ng                    \u001b[00m      9.3.0  h2828fa1_18          installed                      \n",
            "\u001b[32m  libgcc-ng                    \u001b[00m     11.2.0  h1d223b6_11          conda-forge/linux-64     887 KB\n",
            "\u001b[31m  libgomp                      \u001b[00m      9.3.0  h2828fa1_18          installed                      \n",
            "\u001b[32m  libgomp                      \u001b[00m     11.2.0  h1d223b6_11          conda-forge/linux-64     427 KB\n",
            "\u001b[31m  openssl                      \u001b[00m     1.1.1j  h7f98852_0           installed                      \n",
            "\u001b[32m  openssl                      \u001b[00m     1.1.1l  h7f98852_0           conda-forge/linux-64       2 MB\n",
            "\n",
            "  Summary:\n",
            "\n",
            "  Install: 73 packages\n",
            "  Upgrade: 5 packages\n",
            "\n",
            "  Total download: 1 GB\n",
            "\n",
            "──────────────────────────────────────────────────────────────────────────────────────────────────\n",
            "\n",
            "Preparing transaction: ...working... done\n",
            "Verifying transaction: ...working... done\n",
            "Executing transaction: ...working... By downloading and using the CUDA Toolkit conda packages, you accept the terms and conditions of the CUDA End User License Agreement (EULA): https://docs.nvidia.com/cuda/eula/index.html\n",
            "\n",
            "Enabling notebook extension jupyter-js-widgets/extension...\n",
            "Paths used for configuration of notebook: \n",
            "    \t/usr/local/etc/jupyter/nbconfig/notebook.d/nglview-js-widgets.json\n",
            "    \t/usr/local/etc/jupyter/nbconfig/notebook.d/plotlywidget.json\n",
            "    \t/usr/local/etc/jupyter/nbconfig/notebook.d/widgetsnbextension.json\n",
            "    \t/usr/local/etc/jupyter/nbconfig/notebook.json\n",
            "Paths used for configuration of notebook: \n",
            "    \t/usr/local/etc/jupyter/nbconfig/notebook.d/nglview-js-widgets.json\n",
            "    \t/usr/local/etc/jupyter/nbconfig/notebook.d/plotlywidget.json\n",
            "    \t/usr/local/etc/jupyter/nbconfig/notebook.d/widgetsnbextension.json\n",
            "      - Validating: \u001b[32mOK\u001b[0m\n",
            "Paths used for configuration of notebook: \n",
            "    \t/usr/local/etc/jupyter/nbconfig/notebook.d/nglview-js-widgets.json\n",
            "    \t/usr/local/etc/jupyter/nbconfig/notebook.d/plotlywidget.json\n",
            "    \t/usr/local/etc/jupyter/nbconfig/notebook.d/widgetsnbextension.json\n",
            "    \t/usr/local/etc/jupyter/nbconfig/notebook.json\n",
            "\n",
            "done\n",
            "\u001b[K     |████████████████████████████████| 16.1 MB 127 kB/s \n",
            "\u001b[?25h"
          ]
        }
      ]
    },
    {
      "cell_type": "markdown",
      "metadata": {
        "id": "pX6ARn5sMsJh"
      },
      "source": [
        "Test OpenMM"
      ]
    },
    {
      "cell_type": "code",
      "metadata": {
        "id": "Jq57Nf3bhlzv",
        "colab": {
          "base_uri": "https://localhost:8080/"
        },
        "outputId": "d66918dc-77a4-4e08-891e-557276945c49"
      },
      "source": [
        "!python -m openmm.testInstallation"
      ],
      "execution_count": 5,
      "outputs": [
        {
          "output_type": "stream",
          "name": "stdout",
          "text": [
            "\n",
            "OpenMM Version: 7.6\n",
            "Git Revision: ad113a0cb37991a2de67a08026cf3b91616bafbe\n",
            "\n",
            "There are 4 Platforms available:\n",
            "\n",
            "1 Reference - Successfully computed forces\n",
            "2 CPU - Successfully computed forces\n",
            "3 CUDA - Successfully computed forces\n",
            "4 OpenCL - Successfully computed forces\n",
            "\n",
            "Median difference in forces between platforms:\n",
            "\n",
            "Reference vs. CPU: 6.29373e-06\n",
            "Reference vs. CUDA: 6.72969e-06\n",
            "CPU vs. CUDA: 7.44121e-07\n",
            "Reference vs. OpenCL: 6.76359e-06\n",
            "CPU vs. OpenCL: 8.13003e-07\n",
            "CUDA vs. OpenCL: 2.66166e-07\n",
            "\n",
            "All differences are within tolerance.\n"
          ]
        }
      ]
    },
    {
      "cell_type": "markdown",
      "metadata": {
        "id": "lZZgEciFhYHz"
      },
      "source": [
        "Fetch sample peptide"
      ]
    },
    {
      "cell_type": "code",
      "metadata": {
        "id": "gGeSIWlXhJfH"
      },
      "source": [
        "!wget -q https://github.com/meyresearch/ANI-Peptides/raw/main/demos/aaa.pdb\n",
        "!wget -q https://github.com/meyresearch/ANI-Peptides/raw/main/demos/TPGAV.pdb"
      ],
      "execution_count": 6,
      "outputs": []
    },
    {
      "cell_type": "markdown",
      "metadata": {
        "id": "PYGwUEcwjZYC"
      },
      "source": [
        "# AMBER Simulation"
      ]
    },
    {
      "cell_type": "code",
      "metadata": {
        "id": "PtLiP1fxjibi"
      },
      "source": [
        "# Import libraries\n",
        "\n",
        "from openmm.app import *\n",
        "from openmm import *\n",
        "from openmm.unit import *\n",
        "import time"
      ],
      "execution_count": 52,
      "outputs": []
    },
    {
      "cell_type": "code",
      "metadata": {
        "id": "X17K3DrnHrbd"
      },
      "source": [
        "# Progress bar for simulations\n",
        "\n",
        "from IPython.display import ProgressBar\n",
        "\n",
        "class ProgressBarWriter(ProgressBar):\n",
        "    def write(self, string):\n",
        "        if string.startswith(\"#\"):\n",
        "            self.progress = 0\n",
        "        else:\n",
        "            string = string.strip(',\\n')\n",
        "            try:\n",
        "                self.progress = int(string)\n",
        "            except ValueError:\n",
        "                pass\n",
        "\n",
        "def ProgressBarReporter(steps, interval):\n",
        "    return StateDataReporter(\n",
        "        ProgressBarWriter(total = steps), \n",
        "        interval, \n",
        "        step = True,\n",
        "        totalSteps = steps,\n",
        "    )"
      ],
      "execution_count": 8,
      "outputs": []
    },
    {
      "cell_type": "code",
      "metadata": {
        "id": "Ouh_n4BNS057"
      },
      "source": [
        "# Equilibration function - Constant pressure & temp\n",
        "\n",
        "def equilibrate(\n",
        "    coords: Topology,\n",
        "    forcefield: ForceField,\n",
        "    final_pressure: Quantity = 1*atmosphere,\n",
        "    temp_range: range = range(0, 300, 25),\n",
        "    output_state_data_filename = \"equilibration_state_data.csv\",\n",
        "    friction_coeff: Quantity = 1/femtosecond,\n",
        "    step_size: Quantity = 4*femtoseconds,\n",
        "    time_per_temp_increment: Quantity = 0.005*nanoseconds,\n",
        "    time_final_stage: Quantity = 0.05*nanoseconds,\n",
        "):\n",
        "    print(\"Initialising equilibration run...\")\n",
        "    # adjust the range to include the highest temp (stop value)\n",
        "    inclusive_temp_range = range(\n",
        "        temp_range.start,\n",
        "        temp_range.stop + temp_range.step,\n",
        "        temp_range.step\n",
        "    )\n",
        "    temperatures = Quantity(inclusive_temp_range, kelvin)\n",
        "    steps_per_temp_increment = int(time_per_temp_increment / step_size)\n",
        "    steps_final_stage = int(time_final_stage / step_size)\n",
        "\n",
        "    # Create system\n",
        "    system = forcefield.createSystem(\n",
        "        coords.topology, \n",
        "        nonbondedMethod=PME,\n",
        "        nonbondedCutoff=1*nanometer,\n",
        "        constraints=AllBonds,\n",
        "        hydrogenMass=4*amu,\n",
        "    )\n",
        "    # Create constant temp integrator\n",
        "    integrator = LangevinIntegrator(\n",
        "        temperatures.min(),\n",
        "        friction_coeff,\n",
        "        step_size\n",
        "    )\n",
        "    # Create simulation and set initial positions\n",
        "    simulation = Simulation(\n",
        "        coords.topology,\n",
        "        system,\n",
        "        integrator\n",
        "    )\n",
        "    simulation.context.setPositions(coords.positions)\n",
        "    # simulation.reporters.append(\n",
        "    #     PlotReporter(range(\n",
        "    #         0, \n",
        "    #         steps_per_temp_increment + steps_per_temp_increment//10, \n",
        "    #         steps_per_temp_increment//10)\n",
        "    #     )\n",
        "    # )\n",
        "    state_reporter = StateDataReporter(\n",
        "        output_state_data_filename,\n",
        "        steps_per_temp_increment//10,\n",
        "        temperature = True,\n",
        "        potentialEnergy = True,\n",
        "    )\n",
        "    simulation.reporters.append(state_reporter)\n",
        "    # manually initialise the state reporter to make the header info now before we start\n",
        "    state_reporter._initializeConstants(simulation)\n",
        "    print('#\"%s\"' % ('\"'+state_reporter._separator+'\"').join(state_reporter._constructHeaders()), file=state_reporter._out)\n",
        "    state_reporter._initialClockTime = time.time()\n",
        "    state_reporter._initialSimulationTime = 0\n",
        "    state_reporter._initialSteps = simulation.currentStep\n",
        "    state_reporter._hasInitialized = True\n",
        "    # Local energy minimisation\n",
        "    print(\"Local energy minimisation...\")\n",
        "    simulation.minimizeEnergy()\n",
        "    # Heating to final temp\n",
        "    print(f\"Equilibrating {temperatures.min()} to {temperatures.max()} in {len(temperatures)} stages, {time_per_temp_increment} per stage\")\n",
        "    progress_bar = ProgressBar(len(temperatures))\n",
        "    progress_bar.progress = 0\n",
        "    print(f\"#Reports per stage, 10\", file=state_reporter._out)\n",
        "    for stage, temperature in enumerate(temperatures):\n",
        "        print(f\"Heating stage {stage+1}/{len(temperatures)} at {temperature}\")\n",
        "        print(f\"#Stage {stage+1}, {temperature}\", file=state_reporter._out)\n",
        "        integrator.setTemperature(temperature)\n",
        "        simulation.step(steps_per_temp_increment)\n",
        "        progress_bar.progress += 1\n",
        "    # Final equilibration, constant pressure \n",
        "    print(f\"Final equilibration at {final_pressure} for {time_final_stage}\")\n",
        "    print(f\"#Final Equilibration {len(temperatures)+1}, {temperature}\", file=state_reporter._out)\n",
        "    barostat = MonteCarloBarostat(\n",
        "        final_pressure,\n",
        "        temperatures.max()\n",
        "    )\n",
        "    system.addForce(barostat)\n",
        "    simulation.step(steps_final_stage)\n",
        "    print(\"Done\")\n",
        "    return simulation"
      ],
      "execution_count": 62,
      "outputs": []
    },
    {
      "cell_type": "code",
      "metadata": {
        "colab": {
          "base_uri": "https://localhost:8080/",
          "height": 416
        },
        "id": "NN_Xk08nGbD_",
        "outputId": "54e14aeb-cd27-474a-f8fb-384933cb435c"
      },
      "source": [
        "# Load sample peptide\n",
        "pdb = PDBFile('aaa.pdb')\n",
        "\n",
        "# Create AMBER forcefield\n",
        "forcefield = ForceField(\n",
        "    'amber14-all.xml',\n",
        "    'amber14/tip3pfb.xml'\n",
        ")\n",
        "\n",
        "# Load pdb into modeller and add solvent\n",
        "modeller = Modeller(pdb.topology, pdb.positions)\n",
        "modeller.addHydrogens(forcefield)\n",
        "modeller.addSolvent(forcefield, model='tip3p', padding=1*nanometer, neutralize=False)\n",
        "\n",
        "simulation = equilibrate(\n",
        "    modeller,\n",
        "    forcefield,\n",
        "    temp_range = range(0, 300, 20),\n",
        "    time_per_temp_increment = 0.005 * nanoseconds,\n",
        "    time_final_stage = 0.05 * nanoseconds\n",
        ")"
      ],
      "execution_count": 63,
      "outputs": [
        {
          "output_type": "stream",
          "name": "stdout",
          "text": [
            "Initialising equilibration run...\n",
            "Local energy minimisation...\n",
            "Equilibrating 0 K to 300 K in 16 stages, 0.005 ns per stage\n"
          ]
        },
        {
          "output_type": "display_data",
          "data": {
            "text/html": [
              "<progress style='width:60ex' max='16' value='16'></progress>"
            ],
            "text/plain": [
              "[============================================================] 16/16"
            ]
          },
          "metadata": {}
        },
        {
          "output_type": "stream",
          "name": "stdout",
          "text": [
            "Heating stage 1/16 at 0 K\n",
            "Heating stage 2/16 at 20 K\n",
            "Heating stage 3/16 at 40 K\n",
            "Heating stage 4/16 at 60 K\n",
            "Heating stage 5/16 at 80 K\n",
            "Heating stage 6/16 at 100 K\n",
            "Heating stage 7/16 at 120 K\n",
            "Heating stage 8/16 at 140 K\n",
            "Heating stage 9/16 at 160 K\n",
            "Heating stage 10/16 at 180 K\n",
            "Heating stage 11/16 at 200 K\n",
            "Heating stage 12/16 at 220 K\n",
            "Heating stage 13/16 at 240 K\n",
            "Heating stage 14/16 at 260 K\n",
            "Heating stage 15/16 at 280 K\n",
            "Heating stage 16/16 at 300 K\n",
            "Final equilibration at 1 atm for 0.05 ns\n",
            "Done\n"
          ]
        }
      ]
    },
    {
      "cell_type": "code",
      "metadata": {
        "colab": {
          "base_uri": "https://localhost:8080/",
          "height": 262
        },
        "id": "MGi-xPslNuWO",
        "outputId": "4595f39b-2025-431e-978f-38c94e9c33c7"
      },
      "source": [
        "# Equilibration graph viewer\n",
        "\n",
        "import matplotlib.pyplot as plt\n",
        "import csv\n",
        "\n",
        "with open('equilibration_state_data.csv','r') as csvfile:\n",
        "    plots = csv.reader(csvfile, delimiter = ',')\n",
        "    \n",
        "    headers = next(plots)\n",
        "    reports_per_stage = int(next(plots)[1])\n",
        "    print(reports_per_stage)\n",
        "    data = list(zip(*plots))\n",
        "    data[0] = tuple(map(int, data[0]))\n",
        "    \n",
        "    plt.figure()\n",
        "    \n",
        "    for header_idx in range(1, len(headers)):\n",
        "        plt.subplot(len(headers)-1, 1, header_idx)\n",
        "        plt.xlabel(headers[0])\n",
        "        plt.ylabel(headers[header_idx])\n",
        "        plt.plot(data[0], [float(i) for i in data[header_idx]])"
      ],
      "execution_count": 65,
      "outputs": [
        {
          "output_type": "stream",
          "name": "stdout",
          "text": [
            "10\n"
          ]
        },
        {
          "output_type": "error",
          "ename": "ValueError",
          "evalue": "ignored",
          "traceback": [
            "\u001b[0;31m---------------------------------------------------------------------------\u001b[0m",
            "\u001b[0;31mValueError\u001b[0m                                Traceback (most recent call last)",
            "\u001b[0;32m<ipython-input-65-9fc4a161578d>\u001b[0m in \u001b[0;36m<module>\u001b[0;34m()\u001b[0m\n\u001b[1;32m     11\u001b[0m     \u001b[0mprint\u001b[0m\u001b[0;34m(\u001b[0m\u001b[0mreports_per_stage\u001b[0m\u001b[0;34m)\u001b[0m\u001b[0;34m\u001b[0m\u001b[0;34m\u001b[0m\u001b[0m\n\u001b[1;32m     12\u001b[0m     \u001b[0mdata\u001b[0m \u001b[0;34m=\u001b[0m \u001b[0mlist\u001b[0m\u001b[0;34m(\u001b[0m\u001b[0mzip\u001b[0m\u001b[0;34m(\u001b[0m\u001b[0;34m*\u001b[0m\u001b[0mplots\u001b[0m\u001b[0;34m)\u001b[0m\u001b[0;34m)\u001b[0m\u001b[0;34m\u001b[0m\u001b[0;34m\u001b[0m\u001b[0m\n\u001b[0;32m---> 13\u001b[0;31m     \u001b[0mdata\u001b[0m\u001b[0;34m[\u001b[0m\u001b[0;36m0\u001b[0m\u001b[0;34m]\u001b[0m \u001b[0;34m=\u001b[0m \u001b[0mtuple\u001b[0m\u001b[0;34m(\u001b[0m\u001b[0mmap\u001b[0m\u001b[0;34m(\u001b[0m\u001b[0mint\u001b[0m\u001b[0;34m,\u001b[0m \u001b[0mdata\u001b[0m\u001b[0;34m[\u001b[0m\u001b[0;36m0\u001b[0m\u001b[0;34m]\u001b[0m\u001b[0;34m)\u001b[0m\u001b[0;34m)\u001b[0m\u001b[0;34m\u001b[0m\u001b[0;34m\u001b[0m\u001b[0m\n\u001b[0m\u001b[1;32m     14\u001b[0m \u001b[0;34m\u001b[0m\u001b[0m\n\u001b[1;32m     15\u001b[0m     \u001b[0mplt\u001b[0m\u001b[0;34m.\u001b[0m\u001b[0mfigure\u001b[0m\u001b[0;34m(\u001b[0m\u001b[0;34m)\u001b[0m\u001b[0;34m\u001b[0m\u001b[0;34m\u001b[0m\u001b[0m\n",
            "\u001b[0;31mValueError\u001b[0m: invalid literal for int() with base 10: '#Stage 1'"
          ]
        }
      ]
    },
    {
      "cell_type": "markdown",
      "metadata": {
        "id": "yVXnjjoauUe7"
      },
      "source": [
        "### Ignore beyond this point"
      ]
    },
    {
      "cell_type": "code",
      "metadata": {
        "id": "ti6BcnGhukio"
      },
      "source": [
        "# Live graph reporter of temp and potential energy\n",
        "# only works in jupyter notebooks :/\n",
        "import matplotlib.pyplot as plt\n",
        "\n",
        "class PlotWriter:\n",
        "    plt.ion()\n",
        "    titles, data = None, None\n",
        "    def __init__(self, x_steps):\n",
        "        self.x_steps = x_steps\n",
        "\n",
        "    def setup(self, string):\n",
        "        self.step_iterator = iter(self.x_steps)\n",
        "        self.x_vals = []\n",
        "        self.titles = string.strip(\"#\").replace('\"', '').split(\",\")\n",
        "        self.data = tuple([] for i in range(len(self.titles)))\n",
        "        self.lines = []\n",
        "        self.figure, self.axs = plt.subplots(len(self.titles), 1, sharex=True)\n",
        "        for idx, ax in enumerate(self.axs):\n",
        "            line, = ax.plot([],[], 'o')\n",
        "            self.lines.append(line)\n",
        "            #Autoscale on unknown axis and known lims on the other\n",
        "            ax.set_autoscaley_on(True)\n",
        "            ax.set_xlim(self.x_steps.start, self.x_steps.stop)\n",
        "            ax.grid()\n",
        "            ax.set_xlabel(\"Heating Stage Coordinate\")\n",
        "            ax.set_ylabel(self.titles[idx])\n",
        "        self.figure\n",
        "\n",
        "    def write(self, string):\n",
        "        string = string.strip()\n",
        "        if string.startswith(\"#\"):\n",
        "            self.setup(string)\n",
        "        elif self.data and self.titles and string:\n",
        "            self.x_vals.append(next(self.step_iterator))\n",
        "            for idx, val in enumerate(string.split(\",\")):\n",
        "                print(val)\n",
        "                self.data[idx].append(float(val))\n",
        "                #Update data (with the new _and_ the old points)\n",
        "                self.lines[idx].set_xdata(self.x_vals)\n",
        "                self.lines[idx].set_ydata(self.data[idx])\n",
        "                #Need both of these in order to rescale\n",
        "                self.axs[idx].relim()\n",
        "                self.axs[idx].autoscale_view()\n",
        "            #We need to draw *and* flush\n",
        "            self.figure.canvas.draw()\n",
        "            self.figure.canvas.flush_events()\n",
        "\n",
        "def PlotReporter(x_steps):\n",
        "    return StateDataReporter(\n",
        "        PlotWriter(x_steps),\n",
        "        x_steps.step,\n",
        "        temperature = True,\n",
        "        potentialEnergy = True,\n",
        "    )"
      ],
      "execution_count": null,
      "outputs": []
    },
    {
      "cell_type": "code",
      "metadata": {
        "id": "mR3StgvaEiTz"
      },
      "source": [
        "# Simulation function (to run simulations consistently)\n",
        "\n",
        "def simulate(\n",
        "    simulation,\n",
        "    output_pdb_filename: str = \"output.pdb\",\n",
        "    output_state_data_filename: str = \"state_data.csv\",\n",
        "    step_size: Quantity = 0.004*femtoseconds,\n",
        "    steps: int or None = 100000,\n",
        "    duration: Quantity or None = None,\n",
        "    pdb_report_interval: int or None = None,\n",
        "    state_report_interval: int or None = None,\n",
        "    progressbar_interval: int or None = None,\n",
        "):\n",
        "    assert duration or steps\n",
        "\n",
        "    if duration:\n",
        "        steps = int(duration / step_size)\n",
        "\n",
        "    if not pdb_report_interval:\n",
        "        pdb_report_interval = steps // 10\n",
        "\n",
        "    if not state_report_interval:\n",
        "        state_report_interval = steps // 10\n",
        "\n",
        "    if not progressbar_interval:\n",
        "        progressbar_interval = steps // 50\n",
        "\n",
        "    # Create pdb file reporter\n",
        "    simulation.reporters.append(\n",
        "        PDBReporter(\n",
        "            output_pdb_filename,\n",
        "            pdb_report_interval\n",
        "        )\n",
        "    )\n",
        "\n",
        "    # Create state data file reporter\n",
        "    simulation.reporters.append(\n",
        "        StateDataReporter(\n",
        "            output_state_data_filename, \n",
        "            state_report_interval, \n",
        "            step=True,\n",
        "            potentialEnergy=True, \n",
        "            temperature=True\n",
        "        )\n",
        "    )\n",
        "\n",
        "    # Create progress bar reporter\n",
        "    simulation.reporters.append(\n",
        "        ProgressBarReporter(steps, progressbar_interval)\n",
        "    )\n",
        "\n",
        "    # Run simulation through specified time steps\n",
        "    print(\"Running simulation...\")\n",
        "    simulation.step(steps)"
      ],
      "execution_count": null,
      "outputs": []
    },
    {
      "cell_type": "code",
      "metadata": {
        "id": "r3Q8b_DDEzeC"
      },
      "source": [
        "# Production function - Constant volume & temp\n",
        "\n",
        "def production(\n",
        "    coords: Topology,\n",
        "    forcefield: ForceField,\n",
        "    temperature: Quantity = 300*kelvin,\n",
        "    friction_coeff: Quantity = 1/femtosecond,\n",
        "    step_size: Quantity = 0.004*femtoseconds,\n",
        "    **kwargs\n",
        "):      \n",
        "    print(\"Initialising production run...\")\n",
        "\n",
        "    # Create system\n",
        "    system = forcefield.createSystem(\n",
        "        coords.topology, \n",
        "        nonbondedMethod=PME,\n",
        "        nonbondedCutoff=1*nanometer,\n",
        "        constraints=AllBonds,\n",
        "        hydrogenMass=4*amu,\n",
        "    )\n",
        "\n",
        "    # Create constant temp integrator\n",
        "    integrator = LangevinMiddleIntegrator(\n",
        "        temperature,\n",
        "        friction_coeff,\n",
        "        step_size\n",
        "    )\n",
        "\n",
        "    # Create simulation and set initial positions\n",
        "    simulation = Simulation(\n",
        "        coords.topology,\n",
        "        system,\n",
        "        integrator\n",
        "    )\n",
        "    simulation.context.setPositions(coords.positions)\n",
        "\n",
        "    simulate(\n",
        "        simulation,\n",
        "        **kwargs\n",
        "    )\n",
        "\n",
        "    return simulation"
      ],
      "execution_count": null,
      "outputs": []
    },
    {
      "cell_type": "code",
      "metadata": {
        "id": "SNrmOdK5CW3c"
      },
      "source": [
        "# Load sample peptide\n",
        "pdb = PDBFile('aaa.pdb')\n",
        "\n",
        "# Create AMBER forcefield\n",
        "forcefield = ForceField(\n",
        "    'amber14-all.xml',\n",
        "    'amber14/tip3pfb.xml'\n",
        ")\n",
        "\n",
        "# Load pdb into modeller and add solvent\n",
        "modeller = Modeller(pdb.topology, pdb.positions)\n",
        "modeller.addSolvent(forcefield, model='tip3p', padding=1*nanometer)\n",
        "\n",
        "simulation = equilibrate(\n",
        "    modeller,\n",
        "    forcefield,\n",
        "    pressure = 1*atmosphere,\n",
        "    temperature = 300*kelvin,\n",
        "    friction_coeff = 1/femtosecond,\n",
        "    step_size = 0.004*femtoseconds,\n",
        "    steps = 10000,\n",
        "    output_pdb_filename = \"equilibration_output.pdb\",\n",
        "    output_state_data_filename = \"equilibration_state_data.csv\"\n",
        ")\n",
        "\n",
        "simulation.positions = simulation.context.getState(getPositions=True).getPositions()\n",
        "\n",
        "production(\n",
        "    simulation,\n",
        "    forcefield,\n",
        "    temperature = 300*kelvin,\n",
        "    friction_coeff = 1/femtosecond,\n",
        "    step_size = 0.004*femtoseconds,\n",
        "    steps = 10000,\n",
        "    output_pdb_filename = \"production_output.pdb\",\n",
        "    output_state_data_filename = \"production_state_data.csv\"\n",
        ")"
      ],
      "execution_count": null,
      "outputs": []
    },
    {
      "cell_type": "markdown",
      "metadata": {
        "id": "1R-bb3TvieWN"
      },
      "source": [
        "# Viewer"
      ]
    },
    {
      "cell_type": "code",
      "metadata": {
        "id": "yvRCAsdZpkiJ"
      },
      "source": [
        "import pytraj as pt\n",
        "import nglview as nv\n",
        "from google.colab import output\n",
        "output.enable_custom_widget_manager()"
      ],
      "execution_count": null,
      "outputs": []
    },
    {
      "cell_type": "code",
      "metadata": {
        "id": "AoRwlq1urWNW"
      },
      "source": [
        "traj = pt.load(\"production_output.pdb\")\n",
        "view = nv.show_pytraj(traj)\n",
        "view.add_representation(\"licorice\")\n",
        "view.add_unitcell()\n",
        "view"
      ],
      "execution_count": null,
      "outputs": []
    }
  ]
}