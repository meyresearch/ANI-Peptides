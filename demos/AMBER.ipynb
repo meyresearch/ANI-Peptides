{
  "nbformat": 4,
  "nbformat_minor": 0,
  "metadata": {
    "colab": {
      "name": "Demo - AMBER.ipynb",
      "provenance": [],
      "collapsed_sections": [],
      "authorship_tag": "ABX9TyPXY/4gL1fIrRGFe7WHQVER",
      "include_colab_link": true
    },
    "kernelspec": {
      "name": "python3",
      "display_name": "Python 3"
    },
    "language_info": {
      "name": "python"
    },
    "accelerator": "GPU"
  },
  "cells": [
    {
      "cell_type": "markdown",
      "metadata": {
        "id": "view-in-github",
        "colab_type": "text"
      },
      "source": [
        "<a href=\"https://colab.research.google.com/github/meyresearch/ANI-Peptides/blob/main/demos/AMBER.ipynb\" target=\"_parent\"><img src=\"https://colab.research.google.com/assets/colab-badge.svg\" alt=\"Open In Colab\"/></a>"
      ]
    },
    {
      "cell_type": "markdown",
      "metadata": {
        "id": "UsvmNVNmavgm"
      },
      "source": [
        "# Runtime Environment Setup"
      ]
    },
    {
      "cell_type": "markdown",
      "metadata": {
        "id": "hiQev3LkiW51"
      },
      "source": [
        "Before you start, ensure you have been allocated a GPU runtime. Go to `Runtime -> Change runtime type -> GPU`"
      ]
    },
    {
      "cell_type": "markdown",
      "metadata": {
        "id": "Obanx6qoAgo8"
      },
      "source": [
        "Allow kernel to restart after running this cell."
      ]
    },
    {
      "cell_type": "code",
      "metadata": {
        "id": "VFkcgvtbaut8"
      },
      "source": [
        "!pip install -q condacolab\n",
        "import condacolab\n",
        "condacolab.install()"
      ],
      "execution_count": null,
      "outputs": []
    },
    {
      "cell_type": "markdown",
      "metadata": {
        "id": "RiYgOUeTA0tR"
      },
      "source": [
        "Ensure good conda/mamba installation"
      ]
    },
    {
      "cell_type": "code",
      "metadata": {
        "id": "hNCmMpshAzhn"
      },
      "source": [
        "import condacolab\n",
        "condacolab.check()"
      ],
      "execution_count": null,
      "outputs": []
    },
    {
      "cell_type": "markdown",
      "metadata": {
        "id": "3VWZhONKbMIx"
      },
      "source": [
        "Install Dependencies\n",
        "\n",
        "\n",
        "\n",
        "*   *OpenMM* - Molecular dynamics simulation\n",
        "*   *NGLView, PyTraj* - Viewing libraries\n",
        "\n"
      ]
    },
    {
      "cell_type": "code",
      "metadata": {
        "id": "OBwFUplRbOww"
      },
      "source": [
        "!mamba install -q openmm nglview\n",
        "!pip install -q pytraj"
      ],
      "execution_count": null,
      "outputs": []
    },
    {
      "cell_type": "markdown",
      "metadata": {
        "id": "pX6ARn5sMsJh"
      },
      "source": [
        "Test OpenMM"
      ]
    },
    {
      "cell_type": "code",
      "metadata": {
        "id": "Jq57Nf3bhlzv"
      },
      "source": [
        "!python -m openmm.testInstallation"
      ],
      "execution_count": null,
      "outputs": []
    },
    {
      "cell_type": "markdown",
      "metadata": {
        "id": "lZZgEciFhYHz"
      },
      "source": [
        "Fetch sample peptide"
      ]
    },
    {
      "cell_type": "code",
      "metadata": {
        "id": "gGeSIWlXhJfH"
      },
      "source": [
        "!wget -q https://github.com/meyresearch/ANI-Peptides/raw/main/demos/aaa_equilibrated.pdb"
      ],
      "execution_count": 5,
      "outputs": []
    },
    {
      "cell_type": "markdown",
      "metadata": {
        "id": "PYGwUEcwjZYC"
      },
      "source": [
        "# AMBER Simulation"
      ]
    },
    {
      "cell_type": "code",
      "metadata": {
        "id": "PtLiP1fxjibi"
      },
      "source": [
        "# Import libraries\n",
        "\n",
        "from openmm.app import *\n",
        "from openmm import *\n",
        "from openmm.unit import *\n",
        "from sys import stdout"
      ],
      "execution_count": 6,
      "outputs": []
    },
    {
      "cell_type": "code",
      "metadata": {
        "id": "j29S_kwyjnFN"
      },
      "source": [
        "# Load sample peptide\n",
        "pdb = PDBFile('aaa_equilibrated.pdb')\n",
        "\n",
        "# Create AMBER forcefield\n",
        "forcefield = ForceField(\n",
        "    'amber14-all.xml',\n",
        "    'amber14/tip3pfb.xml'\n",
        ")\n",
        "\n",
        "# Create system\n",
        "system = forcefield.createSystem(\n",
        "    pdb.topology, \n",
        "    nonbondedMethod=PME,\n",
        "    nonbondedCutoff=1*nanometer,\n",
        "    constraints=HBonds\n",
        ")\n",
        "\n",
        "# Create constant temp integrator\n",
        "integrator = LangevinMiddleIntegrator(\n",
        "    300*kelvin,\n",
        "    1/picosecond,\n",
        "    0.004*picoseconds\n",
        ")\n",
        "\n",
        "# Create simulation and set initial positions\n",
        "simulation = Simulation(\n",
        "    pdb.topology,\n",
        "    system,\n",
        "    integrator\n",
        ")\n",
        "simulation.context.setPositions(pdb.positions)\n",
        "\n",
        "# Local energy minimisation\n",
        "simulation.minimizeEnergy()\n",
        "\n",
        "# Create reporters for output\n",
        "simulation.reporters.append(\n",
        "    PDBReporter('output.pdb', 1000)\n",
        ")\n",
        "simulation.reporters.append(\n",
        "    StateDataReporter(\n",
        "        stdout, \n",
        "        1000, \n",
        "        step=True,\n",
        "        potentialEnergy=True, \n",
        "        temperature=True\n",
        "    )\n",
        ")"
      ],
      "execution_count": 7,
      "outputs": []
    },
    {
      "cell_type": "code",
      "metadata": {
        "id": "zb8xIDlektlj"
      },
      "source": [
        "# Run the simulation through 10000 time steps\n",
        "simulation.step(10000)"
      ],
      "execution_count": null,
      "outputs": []
    },
    {
      "cell_type": "markdown",
      "metadata": {
        "id": "1R-bb3TvieWN"
      },
      "source": [
        "# Viewer"
      ]
    },
    {
      "cell_type": "code",
      "metadata": {
        "id": "yvRCAsdZpkiJ"
      },
      "source": [
        "import pytraj as pt\n",
        "import nglview as nv\n",
        "from google.colab import output\n",
        "output.enable_custom_widget_manager()"
      ],
      "execution_count": null,
      "outputs": []
    },
    {
      "cell_type": "code",
      "metadata": {
        "id": "AoRwlq1urWNW"
      },
      "source": [
        "traj = pt.load(\"output.pdb\")\n",
        "view = nv.show_pytraj(traj)\n",
        "view.add_representation(\"licorice\")\n",
        "view.add_unitcell()\n",
        "view"
      ],
      "execution_count": null,
      "outputs": []
    }
  ]
}